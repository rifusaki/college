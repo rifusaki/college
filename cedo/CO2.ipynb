{
 "cells": [
  {
   "cell_type": "markdown",
   "id": "f165d48f-f981-487a-b5b2-e8721614d08a",
   "metadata": {
    "id": "f165d48f-f981-487a-b5b2-e8721614d08a"
   },
   "source": [
    "# Concentración de CO2"
   ]
  },
  {
   "cell_type": "markdown",
   "id": "a001889d-4ed1-4ce5-a187-5c78f9a6c156",
   "metadata": {
    "id": "a001889d-4ed1-4ce5-a187-5c78f9a6c156",
    "tags": []
   },
   "source": [
    "## Paquetes"
   ]
  },
  {
   "cell_type": "code",
   "execution_count": null,
   "id": "a8e00ff5-04e5-4709-b6e1-06cd8592d121",
   "metadata": {
    "id": "a8e00ff5-04e5-4709-b6e1-06cd8592d121"
   },
   "outputs": [],
   "source": [
    "import numpy as np\n",
    "import sympy as sp\n",
    "import matplotlib.pyplot as plt"
   ]
  },
  {
   "cell_type": "markdown",
   "id": "c7c8e537-ffb1-4151-8bcc-781282d809d3",
   "metadata": {
    "id": "c7c8e537-ffb1-4151-8bcc-781282d809d3"
   },
   "source": [
    "## Sistema + ecuaciones de equilibrio"
   ]
  },
  {
   "cell_type": "code",
   "execution_count": null,
   "id": "112c8aec-1d00-4cca-afb0-27647eee863c",
   "metadata": {
    "id": "112c8aec-1d00-4cca-afb0-27647eee863c"
   },
   "outputs": [],
   "source": [
    "d = sp.Symbol('d')\n",
    "u1 = sp.Symbol('u1')\n",
    "u2 = sp.Symbol('u2')\n",
    "vs = sp.Symbol('vs')\n",
    "vd = sp.Symbol('vd')\n",
    "w = sp.Symbol('w')\n",
    "k1 = sp.Symbol('k1')\n",
    "k2 = sp.Symbol('k2')\n",
    "k3 = sp.Symbol('k3')\n",
    "k4 = sp.Symbol('k4')\n",
    "hs = sp.Symbol('hs')\n",
    "cs = sp.Symbol('cs')\n",
    "ps = sp.Symbol('ps')\n",
    "\n",
    "\n",
    "ahs = sp.sympify('(y-((y^2)-k3*o*(2*y-o))^(1/2))/(k3)') # (ds-((ds^2)-k3*as*(2*ds-as))^(1/2))=(k3)\n",
    "acs = sp.sympify('(o-hs)/(2)') # (as-hs)/(2)\n",
    "aps = sp.sympify('k4*((hs^2)/cs)') # k4*((hs^2)/cs)\n",
    "\n",
    "\n",
    "xp = sp.sympify('(ps-x)/(d)+(((1/(sqrt(2*pi)*0.06))*exp((-(t - 200)^2)/(70)^2))/(u1))') # (ps-p)/(d)+(f)/(u1)\n",
    "yp = sp.sympify('(1/vs)*(w*(z-y)-k1-(u2*(ps-x)/(d)))') # (1/vs)*(w*(dd-ds)-k1-(u2*(ps-p)/(d)))\n",
    "zp = sp.sympify('(1/vd)*(k1-w*(z-y))') # (1/vd)*(k1-w*(dd-ds))\n",
    "op = sp.sympify('(1/vs)*(w*(p-o)-k2)') # (1/vs)*(w*(ad-as)-k2)\n",
    "pp= sp.sympify('(1/vd)*(k2-w*(p-o))') # (1/vd)*(k2-w*(ad-as))\n",
    "\n",
    "cd = 8.64\n",
    "cu1 = 4.95e2\n",
    "cu2 = 4.95e-2\n",
    "cvs = 0.12\n",
    "cvd = 1.23\n",
    "cw = 0.001\n",
    "ck1 = 2.19e-4\n",
    "ck2 = 6.12e-5\n",
    "ck3 = 0.997148\n",
    "ck4 = 6.79e-2\n",
    "\n",
    "ahs = ahs.subs({k3:ck3})\n",
    "acs = acs.subs({hs:ahs})\n",
    "aps = aps.subs({k4:ck4, hs:ahs, cs:acs})\n",
    "\n",
    "xp = xp.subs({d:cd, u1:cu1})\n",
    "yp = yp.subs({vs:cvs, w:cw, k1:ck1, u2:cu2, d:cd})\n",
    "zp = zp.subs({vd:cvd, k1:ck1, w:cw})\n",
    "op = op.subs({vs:cvs, w:cw, k2:ck2})\n",
    "pp = pp.subs({vd:cvd, k2:ck2, w:cw})"
   ]
  },
  {
   "cell_type": "markdown",
   "id": "efa98051-b93d-4af2-9244-0f45a4b211da",
   "metadata": {
    "id": "efa98051-b93d-4af2-9244-0f45a4b211da",
    "tags": []
   },
   "source": [
    "## RK4 adaptado al problema"
   ]
  },
  {
   "cell_type": "code",
   "execution_count": null,
   "id": "46b32e40-b0aa-4c91-81f0-b691c6cfd2de",
   "metadata": {
    "id": "46b32e40-b0aa-4c91-81f0-b691c6cfd2de"
   },
   "outputs": [],
   "source": [
    "x = sp.Symbol('x')\n",
    "y = sp.Symbol('y')\n",
    "z = sp.Symbol('z')\n",
    "o = sp.Symbol('o')\n",
    "p = sp.Symbol('p')\n",
    "t = sp.Symbol('t')\n",
    "\n",
    "# Runge-Kutta para 5 ecuaciones especial CO2\n",
    "def RK45(t0,tf,h,x0,y0,z0,u0,p0,xp,yp,zp,op,pp,xhs,xcs,xps):\n",
    "    ux = x0\n",
    "    uy = y0\n",
    "    uz = z0\n",
    "    uo = u0\n",
    "    up = p0\n",
    "    k = tf/h\n",
    "    lx = [x0]\n",
    "    ly = [y0]\n",
    "    lz = [z0]\n",
    "    lu = [z0]\n",
    "    lp = [z0]\n",
    "    \n",
    "    for i in np.arange(t0+h,tf,h):\n",
    "        hsa = xhs.subs({y:uy})\n",
    "        csa = xcs.subs({o:uo, hs:hsa})\n",
    "        psa = xps.subs({hs:hsa, cs:csa, k4:ck4, o:uo})\n",
    "        \n",
    "        L1 = xp.subs({t:i-h, x:ux, y:uy, z:uz, o:uo, p:up, ps:psa})\n",
    "        M1 = yp.subs({t:i-h, x:ux, y:uy, z:uz, o:uo, p:up, ps:psa})\n",
    "        N1 = zp.subs({t:i-h, x:ux, y:uy, z:uz, o:uo, p:up})\n",
    "        O1 = op.subs({t:i-h, x:ux, y:uy, z:uz, o:uo, p:up})\n",
    "        P1 = pp.subs({t:i-h, x:ux, y:uy, z:uz, o:uo, p:up})\n",
    "        \n",
    "        L2 = xp.subs({t:(i-h)+h/2, x:ux+h*L1/2, y:uy+h*M1/2, z:uz+h*N1/2, o:uo+h*O1/2, p:up+h*P1/2, ps:psa})\n",
    "        M2 = yp.subs({t:(i-h)+h/2, x:ux+h*L1/2, y:uy+h*M1/2, z:uz+h*N1/2, o:uo+h*O1/2, p:up+h*P1/2, ps:psa})\n",
    "        N2 = zp.subs({t:(i-h)+h/2, x:ux+h*L1/2, y:uy+h*M1/2, z:uz+h*N1/2, o:uo+h*O1/2, p:up+h*P1/2})\n",
    "        O2 = op.subs({t:(i-h)+h/2, x:ux+h*L1/2, y:uy+h*M1/2, z:uz+h*N1/2, o:uo+h*O1/2, p:up+h*P1/2})\n",
    "        P2 = pp.subs({t:(i-h)+h/2, x:ux+h*L1/2, y:uy+h*M1/2, z:uz+h*N1/2, o:uo+h*O1/2, p:up+h*P1/2})\n",
    "        \n",
    "        L3 = (xp.subs({t:(i-h)+h/2, x:ux+h*L2/2, y:uy+h*M2/2, z:uz+h*N2/2, o:uo+h*O2/2, p:up+h*P2/2, ps:psa})).evalf()\n",
    "        M3 = (yp.subs({t:(i-h)+h/2, x:ux+h*L2/2, y:uy+h*M2/2, z:uz+h*N2/2, o:uo+h*O2/2, p:up+h*P2/2, ps:psa})).evalf()\n",
    "        N3 = (zp.subs({t:(i-h)+h/2, x:ux+h*L2/2, y:uy+h*M2/2, z:uz+h*N2/2, o:uo+h*O2/2, p:up+h*P2/2})).evalf()\n",
    "        O3 = (op.subs({t:(i-h)+h/2, x:ux+h*L2/2, y:uy+h*M2/2, z:uz+h*N2/2, o:uo+h*O2/2, p:up+h*P2/2})).evalf()\n",
    "        P3 = (pp.subs({t:(i-h)+h/2, x:ux+h*L2/2, y:uy+h*M2/2, z:uz+h*N2/2, o:uo+h*O2/2, p:up+h*P2/2})).evalf()\n",
    "        \n",
    "        L4 = xp.subs({t:(i-h)+h, x:ux+h*L3, y:uy+h*M3, z:uz+h*N3, o:uo+h*O3, p:up+h*P3, ps:psa})\n",
    "        M4 = yp.subs({t:(i-h)+h, x:ux+h*L3, y:uy+h*M3, z:uz+h*N3, o:uo+h*O3, p:up+h*P3, ps:psa})\n",
    "        N4 = zp.subs({t:(i-h)+h, x:ux+h*L3, y:uy+h*M3, z:uz+h*N3, o:uo+h*O3, p:up+h*P3})\n",
    "        O4 = op.subs({t:(i-h)+h, x:ux+h*L3, y:uy+h*M3, z:uz+h*N3, o:uo+h*O3, p:up+h*P3})\n",
    "        P4 = pp.subs({t:(i-h)+h, x:ux+h*L3, y:uy+h*M3, z:uz+h*N3, o:uo+h*O3, p:up+h*P3})\n",
    "        \n",
    "        ux = (ux + h*(L1+2*L2+2*L3+L4)/6).evalf()\n",
    "        uy = (uy + h*(M1+2*M2+2*M3+M4)/6).evalf()\n",
    "        uz = (uz + h*(N1+2*N2+2*N3+N4)/6).evalf()\n",
    "        uo = (uo + h*(O1+2*O2+2*O3+O4)/6).evalf()\n",
    "        up = (up + h*(P1+2*P2+2*P3+P4)/6).evalf()\n",
    "        \n",
    "        lx.append(ux)\n",
    "        ly.append(uy)\n",
    "        lz.append(uz)\n",
    "\n",
    "    return lx, ly, lz"
   ]
  },
  {
   "cell_type": "markdown",
   "id": "0b27dacb-f9ad-4cea-bd97-4f892666f441",
   "metadata": {
    "id": "0b27dacb-f9ad-4cea-bd97-4f892666f441"
   },
   "source": [
    "# Cálculo"
   ]
  },
  {
   "cell_type": "markdown",
   "id": "fa059661-7db8-4149-9dcc-2b678be861b0",
   "metadata": {
    "id": "fa059661-7db8-4149-9dcc-2b678be861b0"
   },
   "source": [
    "## Condiciones iniciales"
   ]
  },
  {
   "cell_type": "code",
   "execution_count": null,
   "id": "5531cd94-581c-4be7-8d7d-77752b20e1b6",
   "metadata": {
    "id": "5531cd94-581c-4be7-8d7d-77752b20e1b6"
   },
   "outputs": [],
   "source": [
    "t0 = 0\n",
    "tf = 2000\n",
    "h = 1\n",
    "\n",
    "x0 = 1\n",
    "y0 = 2.01\n",
    "z0 = 2.23\n",
    "u0 = 2.2\n",
    "p0 = 2.26"
   ]
  },
  {
   "cell_type": "markdown",
   "id": "2820f1c1-1268-4ac3-99be-78a6bfebe356",
   "metadata": {
    "id": "2820f1c1-1268-4ac3-99be-78a6bfebe356"
   },
   "source": [
    "## Runge-Kutta"
   ]
  },
  {
   "cell_type": "code",
   "execution_count": null,
   "id": "7141d453-172c-418b-8d8e-4cc1d69de1d2",
   "metadata": {
    "id": "7141d453-172c-418b-8d8e-4cc1d69de1d2"
   },
   "outputs": [],
   "source": [
    "reso = RK45(t0,tf,h,x0,y0,z0,u0,p0,xp,yp,zp,op,pp,ahs,acs,aps)\n",
    "lxo = reso[0]\n",
    "lyo = reso[1]\n",
    "lzo = reso[2]"
   ]
  },
  {
   "cell_type": "markdown",
   "id": "b3143da0-70be-4eff-8713-4882c9c4c2b2",
   "metadata": {
    "id": "b3143da0-70be-4eff-8713-4882c9c4c2b2"
   },
   "source": [
    "# Graficación"
   ]
  },
  {
   "cell_type": "code",
   "execution_count": null,
   "id": "dadcada3-e6a0-4079-bc5e-5fea09f81439",
   "metadata": {
    "id": "dadcada3-e6a0-4079-bc5e-5fea09f81439"
   },
   "outputs": [],
   "source": [
    "lxo1 = lxo\n",
    "lyo1 = lyo\n",
    "lzo1 = lzo"
   ]
  },
  {
   "cell_type": "code",
   "execution_count": null,
   "id": "c35aa239-625a-4fe4-92fc-8a29a768dc86",
   "metadata": {
    "id": "c35aa239-625a-4fe4-92fc-8a29a768dc86"
   },
   "outputs": [],
   "source": [
    "lxo2 = lxo\n",
    "lyo2 = lyo\n",
    "lzo2 = lzo"
   ]
  },
  {
   "cell_type": "code",
   "execution_count": null,
   "id": "132d4d4a-929f-4c7a-b9f5-9e223066408a",
   "metadata": {
    "colab": {
     "base_uri": "https://localhost:8080/",
     "height": 1000
    },
    "id": "132d4d4a-929f-4c7a-b9f5-9e223066408a",
    "outputId": "5ec79e01-a7e9-4094-b081-8b14cfbf2e83"
   },
   "outputs": [],
   "source": [
    "def ff(x):\n",
    "    #return ((1/(np.sqrt(2*np.pi)*0.075))*np.exp((-(x - 500)**2)/(70)**2))\n",
    "    #return ((1/(np.sqrt(2*np.pi)*0.05))*np.exp((-(x - 500)**2)/(150)**2))\n",
    "    #return ((1/(np.sqrt(2*np.pi)*0.06))*np.exp((-(x - 500)**2)/(70)**2))\n",
    "    return ((1/(np.sqrt(2*np.pi)*0.06))*np.exp((-(x - 500)**2)/(150)**2))\n",
    "    \n",
    "def ff2(x):\n",
    "    #return ((1/(np.sqrt(2*np.pi)*0.075))*np.exp((-(x - 500)**2)/(70)**2))\n",
    "    #return ((1/(np.sqrt(2*np.pi)*0.05))*np.exp((-(x - 500)**2)/(150)**2))\n",
    "    return ((1/(np.sqrt(2*np.pi)*0.06))*np.exp((-(x - 500)**2)/(70)**2))\n",
    "    #return ((1/(np.sqrt(2*np.pi)*0.06))*np.exp((-(x - 500)**2)/(150)**2))\n",
    "    \n",
    "plt.figure(figsize=(10,6))\n",
    "#plt.plot([i*h for i in range(len(lxo))],lxo, color='xkcd:light purple', label='CO2 en atmósfera')\n",
    "plt.plot([i*h for i in range(len(lxo))],[ff(i*h) for i in range(len(lxo))], color='xkcd:grey', label='500 años')\n",
    "plt.plot([i*h for i in range(len(lxo))],[ff2(i*h) for i in range(len(lxo))], color='xkcd:dark grey', label='150 años')\n",
    "#plt.plot([i*h for i in range(len(lyo))],lyo, color='xkcd:light blue', label='CO2 en o. superficial')\n",
    "#plt.plot([i*h for i in range(len(lzo))],lzo, color='xkcd:light green', label='CO2 en o. profundo')\n",
    "plt.grid(alpha = 0.5, linestyle='--')\n",
    "plt.gca().spines['top'].set_visible(False)\n",
    "plt.gca().spines['right'].set_visible(False)\n",
    "plt.title(\"Emisiones de CO2\")\n",
    "plt.xlabel(\"años\")\n",
    "plt.ylabel(\"tons\")\n",
    "plt.legend()\n",
    "plt.savefig(\"fig-7c\",dpi=300)\n",
    "plt.show()\n",
    "\n",
    "plt.figure(figsize=(10,6))\n",
    "plt.plot([i*h for i in range(len(lxo))],lxo1, color='xkcd:light purple', label='150 años')\n",
    "plt.plot([i*h for i in range(len(lxo))],lxo2, color='xkcd:light red', label='500 años')\n",
    "plt.grid(alpha = 0.5, linestyle='--')\n",
    "plt.gca().spines['top'].set_visible(False)\n",
    "plt.gca().spines['right'].set_visible(False)\n",
    "plt.title(\"CO2 en atmósfera\")\n",
    "plt.xlabel(\"años\")\n",
    "plt.ylabel(\"tons\")\n",
    "plt.legend()\n",
    "plt.savefig(\"fig-7a\",dpi=300)\n",
    "plt.show()\n",
    "\n",
    "plt.figure(figsize=(10,6))\n",
    "plt.plot([i*h for i in range(len(lyo))],lyo1, color='xkcd:light blue', label='150, o. superficial')\n",
    "plt.plot([i*h for i in range(len(lzo))],lzo1, color='xkcd:blue', label='150, o. profundo')\n",
    "plt.plot([i*h for i in range(len(lyo))],lyo2, color='xkcd:light green', label='500, o. superficial')\n",
    "plt.plot([i*h for i in range(len(lzo))],lzo2, color='xkcd:green', label='500, o. profundo')\n",
    "plt.grid(alpha = 0.5, linestyle='--')\n",
    "plt.gca().spines['top'].set_visible(False)\n",
    "plt.gca().spines['right'].set_visible(False)\n",
    "plt.title(\"CO2 en el océano\")\n",
    "plt.xlabel(\"años\")\n",
    "plt.ylabel(\"tons\")\n",
    "plt.legend()\n",
    "plt.savefig(\"fig-7b\",dpi=300)\n",
    "plt.show()"
   ]
  }
 ],
 "metadata": {
  "colab": {
   "provenance": []
  },
  "kernelspec": {
   "display_name": "Python 3 (ipykernel)",
   "language": "python",
   "name": "python3"
  },
  "language_info": {
   "codemirror_mode": {
    "name": "ipython",
    "version": 3
   },
   "file_extension": ".py",
   "mimetype": "text/x-python",
   "name": "python",
   "nbconvert_exporter": "python",
   "pygments_lexer": "ipython3",
   "version": "3.8.2"
  }
 },
 "nbformat": 4,
 "nbformat_minor": 5
}
