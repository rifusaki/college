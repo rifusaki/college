{
 "cells": [
  {
   "cell_type": "markdown",
   "metadata": {
    "id": "hpUJ5BAbsYYe"
   },
   "source": [
    "# Definiciones y cháchara"
   ]
  },
  {
   "cell_type": "code",
   "execution_count": null,
   "metadata": {
    "id": "uc5HWNC6SYnp"
   },
   "outputs": [],
   "source": [
    "import numpy as np\n",
    "import sympy as sp\n",
    "import matplotlib.pyplot as plt\n",
    "\n",
    "lin = True"
   ]
  },
  {
   "cell_type": "code",
   "execution_count": null,
   "metadata": {
    "id": "7T72dz4hm9x2"
   },
   "outputs": [],
   "source": [
    "x = sp.Symbol('x')\n",
    "y = sp.Symbol('y')\n",
    "z = sp.Symbol('z')\n",
    "t = sp.Symbol('t')\n",
    "\n",
    "def RK4(t0,tf,h,x0,y0,xp,yp):\n",
    "  ux = x0\n",
    "  uy = y0\n",
    "  k = tf/h\n",
    "  lx = [x0]\n",
    "  ly = [y0]\n",
    "  \n",
    "  for i in np.arange(t0+h,tf,h):\n",
    "    L1 = xp.subs({t:i-h, x:ux, y:uy})\n",
    "    M1 = yp.subs({t:i-h, x:ux, y:uy})\n",
    "\n",
    "    L2 = xp.subs({t:(i-h)+h/2, x:ux+h*L1/2, y:uy+h*M1/2})\n",
    "    M2 = yp.subs({t:(i-h)+h/2, x:ux+h*L1/2, y:uy+h*M1/2})\n",
    "\n",
    "    L3 = xp.subs({t:(i-h)+h/2, x:ux+h*L2/2, y:uy+h*M2/2})\n",
    "    M3 = yp.subs({t:(i-h)+h/2, x:ux+h*L2/2, y:uy+h*M2/2})\n",
    "\n",
    "    L4 = xp.subs({t:(i-h)+h, x:ux+h*L3, y:uy+h*M3})\n",
    "    M4 = yp.subs({t:(i-h)+h, x:ux+h*L3, y:uy+h*M3})\n",
    "\n",
    "    ux = ux + h*(L1+2*L2+2*L3+L4)/6\n",
    "    uy = uy + h*(M1+2*M2+2*M3+M4)/6\n",
    "\n",
    "    lx.append(ux)\n",
    "    ly.append(uy)\n",
    "\n",
    "  return lx, ly\n",
    "\n",
    "\n",
    "def RK43(t0,tf,h,x0,y0,z0,xp,yp,zp):\n",
    "  ux = x0\n",
    "  uy = y0\n",
    "  uz = z0\n",
    "  k = tf/h\n",
    "  lx = [x0]\n",
    "  ly = [y0]\n",
    "  lz = [z0]\n",
    "  \n",
    "  for i in np.arange(t0+h,tf,h):\n",
    "    L1 = xp.subs({t:i-h, x:ux, y:uy, z:uz})\n",
    "    M1 = yp.subs({t:i-h, x:ux, y:uy, z:uz})\n",
    "    N1 = zp.subs({t:i-h, x:ux, y:uy, z:uz})\n",
    "\n",
    "    L2 = xp.subs({t:(i-h)+h/2, x:ux+h*L1/2, y:uy+h*M1/2, z:uz+h*N1/2})\n",
    "    M2 = yp.subs({t:(i-h)+h/2, x:ux+h*L1/2, y:uy+h*M1/2, z:uz+h*N1/2})\n",
    "    N2 = zp.subs({t:(i-h)+h/2, x:ux+h*L1/2, y:uy+h*M1/2, z:uz+h*N1/2})\n",
    "\n",
    "    L3 = xp.subs({t:(i-h)+h/2, x:ux+h*L2/2, y:uy+h*M2/2, z:uz+h*N2/2})\n",
    "    M3 = yp.subs({t:(i-h)+h/2, x:ux+h*L2/2, y:uy+h*M2/2, z:uz+h*N2/2})\n",
    "    N3 = zp.subs({t:(i-h)+h/2, x:ux+h*L2/2, y:uy+h*M2/2, z:uz+h*N2/2})\n",
    "\n",
    "    L4 = xp.subs({t:(i-h)+h, x:ux+h*L3, y:uy+h*M3, z:uz+h*N3})\n",
    "    M4 = yp.subs({t:(i-h)+h, x:ux+h*L3, y:uy+h*M3, z:uz+h*N3})\n",
    "    N4 = zp.subs({t:(i-h)+h, x:ux+h*L3, y:uy+h*M3, z:uz+h*N3})\n",
    "\n",
    "    ux = ux + h*(L1+2*L2+2*L3+L4)/6\n",
    "    uy = uy + h*(M1+2*M2+2*M3+M4)/6\n",
    "    uz = uz + h*(N1+2*N2+2*N3+N4)/6\n",
    "\n",
    "    lx.append(ux)\n",
    "    ly.append(uy)\n",
    "    lz.append(uz)\n",
    "\n",
    "  return lx, ly, lz"
   ]
  },
  {
   "cell_type": "markdown",
   "metadata": {
    "id": "jgqRj9-3seWy"
   },
   "source": [
    "# Comienza acá"
   ]
  },
  {
   "cell_type": "markdown",
   "metadata": {
    "id": "pWNiRIYHsiia"
   },
   "source": [
    "## Input"
   ]
  },
  {
   "cell_type": "code",
   "execution_count": null,
   "metadata": {
    "id": "c1hm_ZcfSbv9"
   },
   "outputs": [],
   "source": [
    "\n",
    "\n",
    "# Input de las ecuaciones\n",
    "xp_str = input(\"Ecuación 1 a aproximar: \")\n",
    "xp_str.strip()\n",
    "yp_str = input(\"Ecuación 2 a aproximar: \")\n",
    "yp_str.strip()\n",
    "\n",
    "# Condiciones\n",
    "t0 = input(\"Tiempo inicial: \")\n",
    "t = input(\"Tiempo de simulación: \")\n",
    "h = input(\"Intervalo de simulación: \")\n",
    "x0 = input(\"x0: \")\n",
    "y0 = input(\"y0: \")\n",
    "k = t/h\n",
    "\n",
    "# Paso a Sympy\n",
    "xp = sp.sympify(xp_str)\n",
    "yp = sp.sympify(yp_str)"
   ]
  },
  {
   "cell_type": "markdown",
   "metadata": {
    "id": "ccthlRm4slxq"
   },
   "source": [
    "## Funciones a lo bestia"
   ]
  },
  {
   "cell_type": "code",
   "execution_count": null,
   "metadata": {
    "id": "yNgMhuTCUO2d"
   },
   "outputs": [],
   "source": [
    "# Ejemplo 1\n",
    "xp = sp.sympify('x*(-1+(2.5*x)-(0.3*y)-(x^2))')\n",
    "yp = sp.sympify('y*(-1.5+x)')\n",
    "\n",
    "x0 = 1\n",
    "y0 = 1\n",
    "\n",
    "lin = True"
   ]
  },
  {
   "cell_type": "code",
   "execution_count": null,
   "metadata": {
    "id": "UjSNN1sTvILB"
   },
   "outputs": [],
   "source": [
    "# Ejemplo 2 - Lotka–Volterra/predador-presa\n",
    "xp = sp.sympify('x*(1-y/2)')\n",
    "yp = sp.sympify('y*(-1+x/3)')\n",
    "\n",
    "x0 = 0.2\n",
    "y0 = 0.4\n",
    "\n",
    "lin = True"
   ]
  },
  {
   "cell_type": "code",
   "execution_count": null,
   "metadata": {
    "id": "G4P8jyU7yQQp"
   },
   "outputs": [],
   "source": [
    "# Ejemplo 3\n",
    "xp = sp.sympify('x*(1-x/5-0.5*y)')\n",
    "yp = sp.sympify('y*(-0.75+0.25*x)')\n",
    "\n",
    "x0 = 1\n",
    "y0 = 1\n",
    "\n",
    "lin = True"
   ]
  },
  {
   "cell_type": "code",
   "execution_count": null,
   "metadata": {
    "id": "JtZWo9pR2T3-"
   },
   "outputs": [],
   "source": [
    "# Lidocaína, JM Cushing\n",
    "xp = sp.sympify('-0.09*x+0.038*y')\n",
    "yp = sp.sympify('0.066*x-0.038*y')\n",
    "\n",
    "x0 = 0\n",
    "y0 = 0.01\n",
    "\n",
    "lin = False"
   ]
  },
  {
   "cell_type": "code",
   "execution_count": null,
   "metadata": {
    "id": "B0qu71AaC2yM"
   },
   "outputs": [],
   "source": [
    "# Reacción\n",
    "xp = sp.sympify('2-x-((4*x*y)/(1+x^2))')\n",
    "yp = sp.sympify('5*x*(1-((y)/(1+x^2)))')\n",
    "\n",
    "x0 = 0.1\n",
    "y0 = 0.1\n",
    "\n",
    "lin = False"
   ]
  },
  {
   "cell_type": "code",
   "execution_count": null,
   "metadata": {
    "id": "OmA2nJoN-nbH"
   },
   "outputs": [],
   "source": [
    "# RK43 Biomasa\n",
    "xp = sp.sympify('-x+3*y')\n",
    "yp = sp.sympify('-3*y+5*z')\n",
    "zp = sp.sympify('-5*z')\n",
    "\n",
    "x0 = 0.1\n",
    "y0 = 0.1\n",
    "z0 = 1\n",
    "\n",
    "lin = False"
   ]
  },
  {
   "cell_type": "code",
   "execution_count": null,
   "metadata": {
    "id": "LB3LSVPdXhqe"
   },
   "outputs": [],
   "source": [
    "# Atractor de Thomas\n",
    "xp = sp.sympify('sin(y)-0.18*x') # Parámetro b\n",
    "yp = sp.sympify('sin(z)-0.18*y')\n",
    "zp = sp.sympify('sin(x)-0.18*z')\n",
    "\n",
    "\n",
    "x0 = 1\n",
    "y0 = 0\n",
    "z0 = 1"
   ]
  },
  {
   "cell_type": "markdown",
   "metadata": {
    "id": "Roa6w_cuspid"
   },
   "source": [
    "## Linealización"
   ]
  },
  {
   "cell_type": "code",
   "execution_count": null,
   "metadata": {
    "id": "Sde6Fji6VkmW"
   },
   "outputs": [],
   "source": [
    "# Linealización alrededor de punto no adherido\n",
    "if lin == True:\n",
    "  chk = 1\n",
    "  sols  = list(sp.nonlinsolve([xp,yp], x, y))\n",
    "\n",
    "  for i in sols:\n",
    "    if 0 not in i:\n",
    "      peq_na = [x for x in i]\n",
    "    else:\n",
    "      chk = 0\n",
    "\n",
    "  if chk == 0:    \n",
    "    sols  = list(sp.solve([xp,yp], [x, y]))\n",
    "    for i in sols:\n",
    "      if 0 not in i:\n",
    "        peq_na = [x for x in i]\n",
    "\n",
    "\n",
    "  A_lst = [[sp.diff(xp,x),sp.diff(xp,y)],[sp.diff(yp,x),sp.diff(yp,y)]]\n",
    "\n",
    "\n",
    "  A_ev = [i.subs({x:peq_na[0], y:peq_na[1]}) for subl in A_lst for i in subl]\n",
    "  A_ev_m = np.reshape(A_ev, (2,2))\n",
    "\n",
    "  xlin = sp.sympify(str(A_ev[0])+\"*(x-\"+str(peq_na[0])+\")+(\"+str(A_ev[1])+\"*(y-\"+str(peq_na[1])+\"))\")\n",
    "  ylin = sp.sympify(str(A_ev[2])+\"*(x-\"+str(peq_na[0])+\")+(\"+str(A_ev[3])+\"*(y-\"+str(peq_na[1])+\"))\")"
   ]
  },
  {
   "cell_type": "markdown",
   "metadata": {
    "id": "8J4CJYUasvY5"
   },
   "source": [
    "## Condiciones a lo bestia"
   ]
  },
  {
   "cell_type": "code",
   "execution_count": null,
   "metadata": {
    "id": "1ZaOl5G-XfxE"
   },
   "outputs": [],
   "source": [
    "# Condiciones de tiempo\n",
    "t0 = 0\n",
    "tf = 3\n",
    "h = 0.5"
   ]
  },
  {
   "cell_type": "markdown",
   "metadata": {
    "id": "MSlP7QW5szUb"
   },
   "source": [
    "## Cálculo importante"
   ]
  },
  {
   "cell_type": "code",
   "execution_count": null,
   "metadata": {
    "id": "tv4niUE6nPFx"
   },
   "outputs": [],
   "source": [
    "reso = RK4(t0,tf,h,x0,y0,xp,yp)\n",
    "lxo = reso[0]\n",
    "lyo = reso[1]\n",
    "\n",
    "if lin == True:\n",
    "  resl = RK4(t0,tf,h,x0,y0,xlin,ylin)\n",
    "  lxl = resl[0]\n",
    "  lyl = resl[1]"
   ]
  },
  {
   "cell_type": "code",
   "execution_count": null,
   "metadata": {
    "id": "KMlW9POYHXJj"
   },
   "outputs": [],
   "source": [
    "reso = RK43(t0,tf,h,x0,y0,z0,xp,yp,zp)\n",
    "lxo = reso[0]\n",
    "lyo = reso[1]\n",
    "lzo = reso[2]"
   ]
  },
  {
   "cell_type": "code",
   "execution_count": null,
   "metadata": {
    "colab": {
     "base_uri": "https://localhost:8080/",
     "height": 557
    },
    "id": "Jo7bcz5YIUyJ",
    "outputId": "27ea065a-cfa5-46c1-ecd9-209ac53d8b6c"
   },
   "outputs": [],
   "source": [
    "fig = plt.figure(figsize=(15,9))\n",
    "fig.add_subplot(111, projection='3d')\n",
    "plt.plot(lxo,lyo,lzo)"
   ]
  },
  {
   "cell_type": "code",
   "execution_count": null,
   "metadata": {
    "colab": {
     "base_uri": "https://localhost:8080/",
     "height": 1000
    },
    "id": "fDM0KOGCnhYo",
    "outputId": "007b01be-379f-46fd-a51f-c247498a6470"
   },
   "outputs": [],
   "source": [
    "plt.figure(figsize=(15,9))\n",
    "plt.plot(lxo,lyo, color='xkcd:light purple', label='Original')\n",
    "if lin == True : plt.plot(lxl,lyl, color='xkcd:aquamarine', label='Lineal')\n",
    "plt.grid(alpha = 0.5, linestyle='--')\n",
    "plt.gca().spines['top'].set_visible(False)\n",
    "plt.gca().spines['right'].set_visible(False)\n",
    "plt.title(\"x vs. y\")\n",
    "plt.xlabel(\"x\")\n",
    "plt.ylabel(\"y\")\n",
    "plt.legend()\n",
    "plt.show()\n",
    "\n",
    "plt.figure(figsize=(15,9))\n",
    "plt.plot(range(len(lxo)),lxo, color='xkcd:light purple', label='Original')\n",
    "if lin == True : plt.plot(range(len(lxl)),lxl, color='xkcd:aquamarine', label='Lineal')\n",
    "plt.grid(alpha = 0.5, linestyle='--')\n",
    "plt.gca().spines['top'].set_visible(False)\n",
    "plt.gca().spines['right'].set_visible(False)\n",
    "plt.title(\"t vs. x\")\n",
    "plt.xlabel(\"t\")\n",
    "plt.ylabel(\"x\")\n",
    "plt.legend()\n",
    "plt.show()\n",
    "\n",
    "plt.figure(figsize=(15,9))\n",
    "plt.plot(range(len(lyo)),lyo, color='xkcd:light purple', label='Original')\n",
    "if lin == True : plt.plot(range(len(lyl)),lyl, color='xkcd:aquamarine', label='Lineal')\n",
    "plt.grid(alpha = 0.5, linestyle='--')\n",
    "plt.gca().spines['top'].set_visible(False)\n",
    "plt.gca().spines['right'].set_visible(False)\n",
    "plt.title(\"t vs. y\")\n",
    "plt.xlabel(\"t\")\n",
    "plt.ylabel(\"y\")\n",
    "plt.legend()\n",
    "plt.show()"
   ]
  }
 ],
 "metadata": {
  "colab": {
   "provenance": []
  },
  "kernelspec": {
   "display_name": "Python 3",
   "name": "python3"
  },
  "language_info": {
   "name": "python",
   "version": "3.10.9"
  }
 },
 "nbformat": 4,
 "nbformat_minor": 0
}
