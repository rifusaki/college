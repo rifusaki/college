{
 "cells": [
  {
   "cell_type": "markdown",
   "metadata": {},
   "source": [
    "## Filtrado de señales"
   ]
  },
  {
   "cell_type": "code",
   "execution_count": null,
   "metadata": {},
   "outputs": [],
   "source": [
    "#   Importar cosas que importan\n",
    "import numpy as np\n",
    "import matplotlib.pyplot as plt\n",
    "from scipy.signal import butter, filtfilt\n",
    "from scipy.io.wavfile import read, write\n",
    "from scipy import fftpack\n",
    "from IPython.display import Audio"
   ]
  },
  {
   "cell_type": "markdown",
   "metadata": {},
   "source": [
    "### Señales"
   ]
  },
  {
   "cell_type": "code",
   "execution_count": null,
   "metadata": {},
   "outputs": [],
   "source": [
    "#   Señal de ejemplo\n",
    "##  Parámetros\n",
    "T = 5           # Sample Period\n",
    "fs = 300.0      # sample freq, Hz\n",
    "n = int(T * fs) # total number of samples\n",
    "t = np.linspace(0,T,n, endpoint=True)\n",
    "\n",
    "sig = np.sin(1.2*2*np.pi*t)\n",
    "noise = 1.5*np.cos(9*2*np.pi*t) + 0.5*np.sin(12.0*2*np.pi*t)    # Ruido\n",
    "data = sig + noise"
   ]
  },
  {
   "cell_type": "code",
   "execution_count": null,
   "metadata": {},
   "outputs": [],
   "source": [
    "#   Audio 1\n",
    "fs, data = read('test1.wav')\n",
    "data = data[:,0]\n",
    "print(\"Sampling Frequency is\", fs)\n",
    "\n",
    "##  Parámetros\n",
    "n = data.shape[0]\n",
    "T = n/fs\n",
    "t = np.linspace(0,T,n, endpoint=True)\n",
    "\n",
    "Audio(data, rate=fs)"
   ]
  },
  {
   "cell_type": "code",
   "execution_count": null,
   "metadata": {},
   "outputs": [],
   "source": [
    "plt.figure(figsize=(12,7))\n",
    "plt.plot(data, color='xkcd:lightish blue', label='Original signal')\n",
    "plt.xlabel('Sample Index')\n",
    "plt.ylabel('Amplitude')\n",
    "plt.title('Waveform')\n",
    "plt.gca().spines['top'].set_position(('data',0))\n",
    "plt.gca().spines['right'].set_position(('data',0))\n",
    "plt.grid(ls='--', zorder=0)\n",
    "plt.legend(loc='upper right')\n",
    "plt.show()"
   ]
  },
  {
   "cell_type": "markdown",
   "metadata": {},
   "source": [
    "### Side quest: FFT para ver las frecuencias"
   ]
  },
  {
   "cell_type": "code",
   "execution_count": null,
   "metadata": {},
   "outputs": [],
   "source": [
    "sig_noise_fft = fftpack.fft(data)\n",
    "sig_noise_amp = 2 / t.size * np.abs(sig_noise_fft)\n",
    "sig_noise_freq = np.abs(fftpack.fftfreq(t.size, T/n))\n",
    "\n",
    "plt.figure(figsize=(12,7))\n",
    "plt.plot(sig_noise_freq, sig_noise_amp, color='xkcd:lightish blue', label='Original signal')\n",
    "plt.xlabel('Frequency')\n",
    "plt.ylabel('Amplitude')\n",
    "plt.title('Fourier Spectrum')\n",
    "plt.gca().spines['top'].set_position(('data',0))\n",
    "plt.gca().spines['right'].set_position(('data',0))\n",
    "plt.grid(ls='--', zorder=0)\n",
    "plt.legend(loc='upper right')\n",
    "# plt.gca().set_xlim([-100,6000])\n",
    "plt.show()"
   ]
  },
  {
   "cell_type": "markdown",
   "metadata": {},
   "source": [
    "### El filtro de Butterworth"
   ]
  },
  {
   "cell_type": "code",
   "execution_count": null,
   "metadata": {},
   "outputs": [],
   "source": [
    "#   Parámetros\n",
    "cutoff = 3000   # desired cutoff frequency of the filter, Hz , slightly higher than actual 1.2 Hz\n",
    "nyq = 0.5 * fs  # Nyquist Frequency\n",
    "order = 2       # sin wave can be approx represented as quadratic"
   ]
  },
  {
   "cell_type": "code",
   "execution_count": null,
   "metadata": {},
   "outputs": [],
   "source": [
    "def butter_lowpass_filter(data, cutoff, fs, order):\n",
    "    normal_cutoff = cutoff / nyq\n",
    "    # Get the filter coefficients \n",
    "    b, a = butter(order, normal_cutoff, btype='low', analog=False)\n",
    "    y = filtfilt(b, a, data)\n",
    "    return y"
   ]
  },
  {
   "cell_type": "code",
   "execution_count": null,
   "metadata": {},
   "outputs": [],
   "source": [
    "# Filter the data, and plot both the original and filtered signals.\n",
    "filtered_data = butter_lowpass_filter(data, cutoff, fs, order)\n",
    "\n",
    "plt.figure(figsize=(12,7))\n",
    "plt.plot(data, color='xkcd:lightish blue', label='Original signal')\n",
    "plt.plot(filtered_data, color='xkcd:watermelon', label='Filtered signal')\n",
    "plt.xlabel('Sample Index')\n",
    "plt.ylabel('Amplitude')\n",
    "plt.title('Waveform')\n",
    "plt.gca().spines['top'].set_position(('data',0))\n",
    "plt.gca().spines['right'].set_position(('data',0))\n",
    "plt.grid(ls='--', zorder=0)\n",
    "plt.legend(loc='upper right')\n",
    "plt.show()\n",
    "\n",
    "Audio(filtered_data, rate=fs)"
   ]
  },
  {
   "cell_type": "code",
   "execution_count": null,
   "metadata": {},
   "outputs": [],
   "source": [
    "sig_noise_fft = fftpack.fft(filtered_data)\n",
    "sig_noise_amp = 2 / t.size * np.abs(sig_noise_fft)\n",
    "sig_noise_freq = np.abs(fftpack.fftfreq(t.size, T/n))\n",
    "\n",
    "plt.figure(figsize=(12,7))\n",
    "plt.plot(sig_noise_freq, sig_noise_amp, color='xkcd:lightish blue', label='Original signal')\n",
    "plt.xlabel('Frequency')\n",
    "plt.ylabel('Amplitude')\n",
    "plt.title('Fourier Spectrum')\n",
    "plt.gca().spines['top'].set_position(('data',0))\n",
    "plt.gca().spines['right'].set_position(('data',0))\n",
    "plt.grid(ls='--', zorder=0)\n",
    "plt.legend(loc='upper right')\n",
    "# plt.gca().set_xlim([-100,6000])\n",
    "plt.show()"
   ]
  },
  {
   "cell_type": "code",
   "execution_count": null,
   "metadata": {},
   "outputs": [],
   "source": [
    "write('output.wav', Fs, data)"
   ]
  }
 ],
 "metadata": {
  "kernelspec": {
   "display_name": "college",
   "language": "python",
   "name": "python3"
  },
  "language_info": {
   "codemirror_mode": {
    "name": "ipython",
    "version": 3
   },
   "file_extension": ".py",
   "mimetype": "text/x-python",
   "name": "python",
   "nbconvert_exporter": "python",
   "pygments_lexer": "ipython3",
   "version": "3.8.16"
  }
 },
 "nbformat": 4,
 "nbformat_minor": 2
}
