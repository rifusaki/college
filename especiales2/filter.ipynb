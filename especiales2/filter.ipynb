{
 "cells": [
  {
   "cell_type": "markdown",
   "metadata": {},
   "source": [
    "# Filtrado de señales"
   ]
  },
  {
   "cell_type": "markdown",
   "metadata": {},
   "source": [
    "## Paquetes y gráficas"
   ]
  },
  {
   "cell_type": "code",
   "execution_count": null,
   "metadata": {},
   "outputs": [],
   "source": [
    "#   Importar cosas que importan\n",
    "import numpy as np\n",
    "from sympy import symbols, latex, sympify, Number\n",
    "import matplotlib.pyplot as plt\n",
    "from scipy.signal import butter, filtfilt, lfilter, freqz, TransferFunction\n",
    "from scipy.io.wavfile import read, write\n",
    "from scipy import fftpack\n",
    "from IPython.display import display, Math, Audio, Latex"
   ]
  },
  {
   "cell_type": "code",
   "execution_count": null,
   "metadata": {},
   "outputs": [],
   "source": [
    "#   Funciones para graficar\n",
    "def graph(graph_type, *data, width = 12, height = 7):\n",
    "    plt.figure(figsize=(width, height))\n",
    "    if graph_type == 'waveform':\n",
    "        plt.plot(data[0], color='xkcd:lightish blue', label='Original signal')\n",
    "        if len(data) > 1: plt.plot(data[1], color='xkcd:watermelon', label='Filtered signal')\n",
    "        plt.xlabel('Sample Index')\n",
    "        plt.ylabel('Amplitude')\n",
    "        plt.title('Waveform')\n",
    "    elif graph_type == 'fft':\n",
    "        plt.plot(data[0], data[1], color='xkcd:lightish blue', label='Original signal')\n",
    "        if len(data) > 2: plt.plot(data[2], data[3], color='xkcd:watermelon', label='Filtered signal')\n",
    "        plt.xlabel('Frequency')\n",
    "        # plt.xscale('log')\n",
    "        plt.ylabel('Amplitude')\n",
    "        # plt.yscale('log')\n",
    "        plt.title('Fourier Spectrum')\n",
    "    # plt.gca().spines['top'].set_position(('data',0))\n",
    "    # plt.gca().spines['right'].set_position(('data',0))\n",
    "    plt.grid(ls='--', zorder=0)\n",
    "    plt.legend(loc='upper right')\n",
    "    # plt.gca().set_xlim([-100,6000])\n",
    "    plt.show()"
   ]
  },
  {
   "cell_type": "markdown",
   "metadata": {},
   "source": [
    "## Señales de entrada"
   ]
  },
  {
   "cell_type": "code",
   "execution_count": null,
   "metadata": {},
   "outputs": [],
   "source": [
    "#   Señal de ejemplo\n",
    "##  Parámetros\n",
    "T = 5           # Sample period (s)\n",
    "fs = 300.0      # Sample freq (Hz)\n",
    "n = int(T * fs) # Total number of samples\n",
    "t = np.linspace(0,T,n, endpoint=True)\n",
    "\n",
    "sig = np.sin(1.2*2*np.pi*t)\n",
    "noise = 1.5*np.cos(9*2*np.pi*t) + 0.5*np.sin(12.0*2*np.pi*t)    # Ruido\n",
    "data = sig + noise"
   ]
  },
  {
   "cell_type": "code",
   "execution_count": null,
   "metadata": {},
   "outputs": [],
   "source": [
    "#   Audio 1\n",
    "fs, data = read('1Hz_44000Hz_-3dBFS_30s.wav')               # Sample freq (Hz), data\n",
    "                                           # Currently \"voice.wav\", \"drums.wav\", \"noise.wav\"\n",
    "if len(data.shape) > 1: data = data[:,0]   # Select only one channel\n",
    "\n",
    "##  Parámetros\n",
    "n = data.shape[0]               # Total samples\n",
    "T = n/fs                        # Sample period (s)\n",
    "t = np.linspace(0,T,n, endpoint=True)\n",
    "\n",
    "Audio(data, rate=fs)"
   ]
  },
  {
   "cell_type": "markdown",
   "metadata": {},
   "source": [
    "### Visualización"
   ]
  },
  {
   "cell_type": "code",
   "execution_count": null,
   "metadata": {},
   "outputs": [],
   "source": [
    "#   Waveform\n",
    "graph('waveform', data)"
   ]
  },
  {
   "cell_type": "code",
   "execution_count": null,
   "metadata": {},
   "outputs": [],
   "source": [
    "#   Fourier Spectrum\n",
    "sig_noise_fft = fftpack.fft(data)\n",
    "sig_noise_amp = 2 / t.size * np.abs(sig_noise_fft)\n",
    "sig_noise_freq = np.abs(fftpack.fftfreq(t.size, T/n))\n",
    "\n",
    "graph('fft', sig_noise_freq, sig_noise_amp)"
   ]
  },
  {
   "cell_type": "markdown",
   "metadata": {},
   "source": [
    "## Filtro de Butterworth"
   ]
  },
  {
   "cell_type": "markdown",
   "metadata": {},
   "source": [
    "### Cálculo y demás"
   ]
  },
  {
   "cell_type": "code",
   "execution_count": null,
   "metadata": {},
   "outputs": [],
   "source": [
    "def butter_lowpass_filter(data, cutoff, nyq, order):\n",
    "    normal_cutoff = cutoff / nyq\n",
    "    # Get the filter coefficients \n",
    "    b, a = butter(order, normal_cutoff, btype='low', analog=False)\n",
    "    y = filtfilt(b, a, data)\n",
    "    return y, b, a"
   ]
  },
  {
   "cell_type": "code",
   "execution_count": null,
   "metadata": {},
   "outputs": [],
   "source": [
    "#   Parámetros\n",
    "cutoff = 20000  # Desired cutoff frequency of the filter, Hz\n",
    "                # Use the Fourier Spectrum to define desired cutoff frequency\n",
    "                # Example uses 2Hz, voice around 3KHz\n",
    "nyq = 0.5 * fs  # Nyquist Frequency\n",
    "order = 3\n",
    "\n",
    "#   Filter the data\n",
    "filtered_data, b, a = butter_lowpass_filter(data, cutoff, nyq, order)"
   ]
  },
  {
   "cell_type": "markdown",
   "metadata": {},
   "source": [
    "### Visualización y exportación"
   ]
  },
  {
   "cell_type": "code",
   "execution_count": null,
   "metadata": {},
   "outputs": [],
   "source": [
    "#   Plot both the original and filtered signals, filtered audio\n",
    "graph('waveform', data, filtered_data)"
   ]
  },
  {
   "cell_type": "code",
   "execution_count": null,
   "metadata": {},
   "outputs": [],
   "source": [
    "#   Fourier spectrum of filtered audio\n",
    "sig_filter_fft = fftpack.fft(filtered_data)\n",
    "sig_filter_amp = 2 / t.size * np.abs(sig_filter_fft)\n",
    "sig_filter_freq = np.abs(fftpack.fftfreq(t.size, T/n))\n",
    "\n",
    "graph('fft', sig_noise_freq, sig_noise_amp, sig_filter_freq, sig_filter_amp)"
   ]
  },
  {
   "cell_type": "code",
   "execution_count": null,
   "metadata": {},
   "outputs": [],
   "source": [
    "#   Output filtered audio\n",
    "Audio(filtered_data, rate=fs)\n",
    "write('output.wav', fs, filtered_data.astype(np.int16))"
   ]
  },
  {
   "cell_type": "markdown",
   "metadata": {},
   "source": [
    "### Diagramas de Bode"
   ]
  },
  {
   "cell_type": "code",
   "execution_count": null,
   "metadata": {},
   "outputs": [],
   "source": [
    "colors = ['xkcd:violet', 'xkcd:blue', 'xkcd:neon blue', 'xkcd:green', 'xkcd:yellowish green', 'xkcd:dark yellow', 'xkcd:orange', 'xkcd:red', 'xkcd:pink']  # Add more xkcd colors if needed\n",
    "\n",
    "plt.figure(figsize=(12,7))\n",
    "for i in range(1,11):\n",
    "    _, bb, aa = butter_lowpass_filter(data, cutoff, nyq, i)\n",
    "    w, h = freqz(bb, aa, fs = fs)\n",
    "\n",
    "    plt.plot(w, np.abs(h), color=colors[i%len(colors)-1], label=f'Orden {i}')\n",
    "    plt.plot(cutoff, 0.5*np.sqrt(2), 'ko')\n",
    "    plt.axvline(cutoff, color='k')\n",
    "    plt.xlim(0, 0.5*fs)\n",
    "    \n",
    "plt.title(\"Diagrama de Bode - Filtro de paso bajo\")\n",
    "plt.xlabel('Frecuencia [Hz]')\n",
    "plt.ylabel('Magnitud [dB]')\n",
    "plt.gca().spines['top'].set_position(('data',0))\n",
    "plt.gca().spines['right'].set_position(('data',0))\n",
    "plt.grid(ls='--', zorder=0)\n",
    "plt.legend(loc='upper right')\n",
    "plt.savefig(\"bode.png\", dpi = 300)\n",
    "plt.show()"
   ]
  },
  {
   "cell_type": "markdown",
   "metadata": {},
   "source": [
    "### Función de transferencia"
   ]
  },
  {
   "cell_type": "code",
   "execution_count": null,
   "metadata": {},
   "outputs": [],
   "source": [
    "tf = TransferFunction(b, a)\n",
    "\n",
    "#   Pretty print the transfer function in LaTeX\n",
    "def pretty_print_tf_latex(tf):\n",
    "    s = symbols('s')\n",
    "    num = sum(coeff * s**power for power, coeff in enumerate(tf.num[::-1]))\n",
    "    den = sum(coeff * s**power for power, coeff in enumerate(tf.den[::-1]))\n",
    "    latex_str = (sympify(num / den))\n",
    "    formatted_str = latex_str.xreplace({n : round(n, 3) for n in latex_str.atoms(Number)})\n",
    "    return latex(formatted_str)\n",
    "\n",
    "# Use the function\n",
    "display(Math(rf'H(s) = {pretty_print_tf_latex(tf)}'))"
   ]
  }
 ],
 "metadata": {
  "kernelspec": {
   "display_name": "college",
   "language": "python",
   "name": "python3"
  },
  "language_info": {
   "codemirror_mode": {
    "name": "ipython",
    "version": 3
   },
   "file_extension": ".py",
   "mimetype": "text/x-python",
   "name": "python",
   "nbconvert_exporter": "python",
   "pygments_lexer": "ipython3",
   "version": "3.8.16"
  }
 },
 "nbformat": 4,
 "nbformat_minor": 2
}
