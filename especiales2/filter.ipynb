{
 "cells": [
  {
   "cell_type": "markdown",
   "metadata": {},
   "source": [
    "# Filtrado de señales"
   ]
  },
  {
   "cell_type": "markdown",
   "metadata": {},
   "source": [
    "## Paquetes y gráficas"
   ]
  },
  {
   "cell_type": "code",
   "execution_count": null,
   "metadata": {},
   "outputs": [],
   "source": [
    "#   Importar cosas que importan\n",
    "import numpy as np\n",
    "import matplotlib.pyplot as plt\n",
    "from scipy.signal import butter, filtfilt\n",
    "from scipy.io.wavfile import read, write\n",
    "from scipy import fftpack\n",
    "from IPython.display import Audio"
   ]
  },
  {
   "cell_type": "code",
   "execution_count": null,
   "metadata": {},
   "outputs": [],
   "source": [
    "#   Funciones para graficar\n",
    "def graph(graph_type, *data, width = 12, height = 7):\n",
    "    plt.figure(figsize=(width, height))\n",
    "    if graph_type == 'waveform':\n",
    "        plt.plot(data[0], color='xkcd:lightish blue', label='Original signal')\n",
    "        if len(data) > 1: plt.plot(data[1], color='xkcd:watermelon', label='Filtered signal')\n",
    "        plt.xlabel('Sample Index')\n",
    "        plt.ylabel('Amplitude')\n",
    "        plt.title('Waveform')\n",
    "    elif graph_type == 'fft':\n",
    "        plt.plot(data[0], data[1], color='xkcd:lightish blue', label='Original signal')\n",
    "        if len(data) > 2: plt.plot(data[2], data[3], color='xkcd:watermelon', label='Filtered signal')\n",
    "        plt.xlabel('Frequency')\n",
    "        plt.ylabel('Amplitude')\n",
    "        plt.title('Fourier Spectrum')\n",
    "    plt.gca().spines['top'].set_position(('data',0))\n",
    "    plt.gca().spines['right'].set_position(('data',0))\n",
    "    plt.grid(ls='--', zorder=0)\n",
    "    plt.legend(loc='upper right')\n",
    "    # plt.gca().set_xlim([-100,6000])\n",
    "    plt.show()"
   ]
  },
  {
   "cell_type": "markdown",
   "metadata": {},
   "source": [
    "## Señales de entrada"
   ]
  },
  {
   "cell_type": "code",
   "execution_count": null,
   "metadata": {},
   "outputs": [],
   "source": [
    "#   Señal de ejemplo\n",
    "##  Parámetros\n",
    "T = 5           # Sample period (s)\n",
    "fs = 300.0      # Sample freq (Hz)\n",
    "n = int(T * fs) # Total number of samples\n",
    "t = np.linspace(0,T,n, endpoint=True)\n",
    "\n",
    "sig = np.sin(1.2*2*np.pi*t)\n",
    "noise = 1.5*np.cos(9*2*np.pi*t) + 0.5*np.sin(12.0*2*np.pi*t)    # Ruido\n",
    "data = sig + noise"
   ]
  },
  {
   "cell_type": "code",
   "execution_count": null,
   "metadata": {},
   "outputs": [],
   "source": [
    "data.shape"
   ]
  },
  {
   "cell_type": "code",
   "execution_count": null,
   "metadata": {},
   "outputs": [],
   "source": [
    "#   Audio 1\n",
    "fs, data = read('voice.wav')               # Sample freq (Hz), data\n",
    "                                           # Currently \"voice.wav\", \"drums.wav\", \"noise.wav\"\n",
    "if len(data.shape) > 1: data = data[:,0]   # Select only one channel\n",
    "\n",
    "##  Parámetros\n",
    "n = data.shape[0]               # Total samples\n",
    "T = n/fs                        # Sample period (s)\n",
    "t = np.linspace(0,T,n, endpoint=True)\n",
    "\n",
    "Audio(data, rate=fs)"
   ]
  },
  {
   "cell_type": "markdown",
   "metadata": {},
   "source": [
    "### Visualización"
   ]
  },
  {
   "cell_type": "code",
   "execution_count": null,
   "metadata": {},
   "outputs": [],
   "source": [
    "#   Waveform\n",
    "graph('waveform', data)"
   ]
  },
  {
   "cell_type": "code",
   "execution_count": null,
   "metadata": {},
   "outputs": [],
   "source": [
    "#   Fourier Spectrum\n",
    "sig_noise_fft = fftpack.fft(data)\n",
    "sig_noise_amp = 2 / t.size * np.abs(sig_noise_fft)\n",
    "sig_noise_freq = np.abs(fftpack.fftfreq(t.size, T/n))\n",
    "\n",
    "graph('fft', sig_noise_freq, sig_noise_amp)"
   ]
  },
  {
   "cell_type": "markdown",
   "metadata": {},
   "source": [
    "### El filtro de Butterworth"
   ]
  },
  {
   "cell_type": "code",
   "execution_count": null,
   "metadata": {},
   "outputs": [],
   "source": [
    "def butter_lowpass_filter(data, cutoff, fs, order):\n",
    "    normal_cutoff = cutoff / nyq\n",
    "    # Get the filter coefficients \n",
    "    b, a = butter(order, normal_cutoff, btype='low', analog=False)\n",
    "    y = filtfilt(b, a, data)\n",
    "    return y"
   ]
  },
  {
   "cell_type": "code",
   "execution_count": null,
   "metadata": {},
   "outputs": [],
   "source": [
    "#   Parámetros\n",
    "cutoff = 5000   # Desired cutoff frequency of the filter, Hz\n",
    "                # Use the Fourier Spectrum to define desired cutoff frequency\n",
    "                # Example uses 2Hz, voice around 3KHz\n",
    "nyq = 0.5 * fs  # Nyquist Frequency\n",
    "order = 2       # sin wave can be approx represented as quadratic"
   ]
  },
  {
   "cell_type": "code",
   "execution_count": null,
   "metadata": {},
   "outputs": [],
   "source": [
    "# Filter the data, plot both the original and filtered signals, filtered audio\n",
    "filtered_data = butter_lowpass_filter(data, cutoff, fs, order)\n",
    "\n",
    "graph('waveform', data, filtered_data)\n",
    "Audio(filtered_data, rate=fs)"
   ]
  },
  {
   "cell_type": "code",
   "execution_count": null,
   "metadata": {},
   "outputs": [],
   "source": [
    "#   Fourier spectrum of filtered audio\n",
    "sig_filter_fft = fftpack.fft(filtered_data)\n",
    "sig_filter_amp = 2 / t.size * np.abs(sig_filter_fft)\n",
    "sig_filter_freq = np.abs(fftpack.fftfreq(t.size, T/n))\n",
    "\n",
    "graph('fft', sig_noise_freq, sig_noise_amp, sig_filter_freq, sig_filter_amp)"
   ]
  },
  {
   "cell_type": "code",
   "execution_count": null,
   "metadata": {},
   "outputs": [],
   "source": [
    "#   Output filtered audio\n",
    "write('output.wav', fs, filtered_data.astype(np.int16))"
   ]
  }
 ],
 "metadata": {
  "kernelspec": {
   "display_name": "college",
   "language": "python",
   "name": "python3"
  },
  "language_info": {
   "codemirror_mode": {
    "name": "ipython",
    "version": 3
   },
   "file_extension": ".py",
   "mimetype": "text/x-python",
   "name": "python",
   "nbconvert_exporter": "python",
   "pygments_lexer": "ipython3",
   "version": "3.8.16"
  }
 },
 "nbformat": 4,
 "nbformat_minor": 2
}
