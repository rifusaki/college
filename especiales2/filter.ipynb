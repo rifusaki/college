{
 "cells": [
  {
   "cell_type": "markdown",
   "metadata": {},
   "source": [
    "## Filtrado de señales"
   ]
  },
  {
   "cell_type": "code",
   "execution_count": null,
   "metadata": {},
   "outputs": [],
   "source": [
    "#   Importar cosas que importan\n",
    "import numpy as np\n",
    "from scipy.signal import butter, filtfilt\n",
    "from scipy import fftpack\n",
    "import plotly.graph_objects as go"
   ]
  },
  {
   "cell_type": "code",
   "execution_count": null,
   "metadata": {},
   "outputs": [],
   "source": [
    "#   Señal\n",
    "##  Parámetros\n",
    "T = 5           # Sample Period\n",
    "fs = 300.0       # sample rate, Hz\n",
    "n = int(T * fs) # total number of samples\n",
    "t = np.linspace(0,T,n, endpoint=True)\n",
    "\n",
    "sig = np.sin(1.2*2*np.pi*t)\n",
    "noise = 1.5*np.cos(9*2*np.pi*t) + 0.5*np.sin(12.0*2*np.pi*t)    # Ruido\n",
    "data = sig + noise"
   ]
  },
  {
   "cell_type": "code",
   "execution_count": null,
   "metadata": {},
   "outputs": [],
   "source": [
    "fig = go.Figure()\n",
    "fig.add_trace(go.Scatter(\n",
    "            y = data,\n",
    "            line =  dict(shape =  'spline' ),\n",
    "            name = 'original signal',\n",
    "            showlegend=True\n",
    "            ))\n",
    "fig.show()"
   ]
  },
  {
   "cell_type": "markdown",
   "metadata": {},
   "source": [
    "### Side quest: FFT para ver las frecuencias"
   ]
  },
  {
   "cell_type": "code",
   "execution_count": null,
   "metadata": {},
   "outputs": [],
   "source": [
    "sig_noise_fft = fftpack.fft(data)\n",
    "sig_noise_amp = 2 / t.size * np.abs(sig_noise_fft)\n",
    "sig_noise_freq = np.abs(fftpack.fftfreq(t.size, T/n))\n",
    "\n",
    "fig = go.Figure()\n",
    "fig.add_trace(go.Scatter(\n",
    "            x = sig_noise_freq,\n",
    "            y = sig_noise_amp,\n",
    "            line =  dict(shape =  'spline' ),\n",
    "            name = 'fft of signal',\n",
    "            showlegend=True\n",
    "            ))\n",
    "fig.show()"
   ]
  },
  {
   "cell_type": "markdown",
   "metadata": {},
   "source": [
    "### El filtro de Butterworth"
   ]
  },
  {
   "cell_type": "code",
   "execution_count": null,
   "metadata": {},
   "outputs": [],
   "source": [
    "#   Parámetros\n",
    "cutoff = 2      # desired cutoff frequency of the filter, Hz , slightly higher than actual 1.2 Hz\n",
    "nyq = 0.5 * fs  # Nyquist Frequency\n",
    "order = 2       # sin wave can be approx represented as quadratic"
   ]
  },
  {
   "cell_type": "code",
   "execution_count": null,
   "metadata": {},
   "outputs": [],
   "source": [
    "def butter_lowpass_filter(data, cutoff, fs, order):\n",
    "    normal_cutoff = cutoff / nyq\n",
    "    # Get the filter coefficients \n",
    "    b, a = butter(order, normal_cutoff, btype='low', analog=False)\n",
    "    y = filtfilt(b, a, data)\n",
    "    return y"
   ]
  },
  {
   "cell_type": "code",
   "execution_count": null,
   "metadata": {},
   "outputs": [],
   "source": [
    "# Filter the data, and plot both the original and filtered signals.\n",
    "filtered_data = butter_lowpass_filter(data, cutoff, fs, order)\n",
    "\n",
    "fig = go.Figure()\n",
    "fig.add_trace(go.Scatter(\n",
    "            y = data,\n",
    "            line =  dict(shape =  'spline' ),\n",
    "            name = 'signal with noise'\n",
    "            ))\n",
    "fig.add_trace(go.Scatter(\n",
    "            y = filtered_data,\n",
    "            line =  dict(shape =  'spline' ),\n",
    "            name = 'filtered signal'\n",
    "            ))\n",
    "fig.show()"
   ]
  }
 ],
 "metadata": {
  "kernelspec": {
   "display_name": "college",
   "language": "python",
   "name": "python3"
  },
  "language_info": {
   "codemirror_mode": {
    "name": "ipython",
    "version": 3
   },
   "file_extension": ".py",
   "mimetype": "text/x-python",
   "name": "python",
   "nbconvert_exporter": "python",
   "pygments_lexer": "ipython3",
   "version": "3.8.16"
  }
 },
 "nbformat": 4,
 "nbformat_minor": 2
}
