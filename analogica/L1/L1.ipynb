{
 "cells": [
  {
   "cell_type": "code",
   "execution_count": null,
   "id": "700dc696-1690-482d-b577-aa0ca9b5180e",
   "metadata": {},
   "outputs": [],
   "source": [
    "import numpy as np\n",
    "import matplotlib.pyplot as plt\n",
    "from scipy import stats\n",
    "from scipy.optimize import fsolve"
   ]
  },
  {
   "cell_type": "code",
   "execution_count": null,
   "id": "f8c9ee26-6b8c-4373-9d76-a565ab8fb149",
   "metadata": {},
   "outputs": [],
   "source": [
    "data = np.zeros((45,3))\n",
    "\n",
    "V_raw = [0.078, 0.108, 0.138, 0.167, 0.195, 0.224, 0.252, 0.279, 0.307, \n",
    "         0.334, 0.584, 0.811, 1.015, 1.197, 1.358, 1.508, 1.646, 1.769, \n",
    "         1.884, 2.667, 3.126, 3.403, 3.597, 3.739, 3.848, 3.933, 4.003,\n",
    "         4.061, 4.340, 4.44, 4.5, 4.53, 4.55, 4.57, 4.58, 4.59, \n",
    "         4.6, 4.63, 4.64, 4.65, 4.65, 4.65, 4.65, 4.65, 4.65]\n",
    "\n",
    "n=10; i=0\n",
    "while n <= 100000:\n",
    "    for p in range(1,10):\n",
    "        data[i][0]=p*n; i+=1\n",
    "    n*=10\n",
    "\n",
    "for elem,num in zip(data, V_raw):\n",
    "    elem[1]=num\n",
    "    elem[2]=elem[1]/elem[0]"
   ]
  },
  {
   "cell_type": "code",
   "execution_count": null,
   "id": "d7c0d153-de3f-4741-8e2e-7e465c82bd6c",
   "metadata": {},
   "outputs": [],
   "source": [
    "data"
   ]
  },
  {
   "cell_type": "code",
   "execution_count": null,
   "id": "923e591a-784e-487e-93ab-2d72a99d36c0",
   "metadata": {},
   "outputs": [],
   "source": [
    "plt.scatter(1000*data[10:28,2], data[10:28,1], marker='.', color=\"xkcd:teal\", label=\"R (ohm): 100-10K\")\n",
    "plt.scatter(1000*data[28:,2], data[28:,1], marker='.', color=\"xkcd:purple\", label=\"R (ohm): 10-700K\")\n",
    "plt.scatter(1000*data[:10,2], data[:10,1], marker='.', color=\"xkcd:orange\", label=\"R (ohm): 10-100\")\n",
    "plt.xlabel(\"I (mA)\")\n",
    "plt.ylabel(\"V (V)\")\n",
    "plt.title(\"V vs I(R)\")\n",
    "plt.gca().spines['top'].set_visible(False)\n",
    "plt.gca().spines['right'].set_visible(False)\n",
    "plt.legend()\n",
    "plt.grid()\n",
    "plt.savefig(\"G1.png\", dpi=300)"
   ]
  },
  {
   "cell_type": "code",
   "execution_count": null,
   "id": "77d9f22b-29a4-4399-a942-79a051dc8198",
   "metadata": {},
   "outputs": [],
   "source": [
    "dataf = data[10:28]\n",
    "res = stats.linregress(dataf[:,2], dataf[:,1])\n",
    "\n",
    "def carga(x): return res.intercept+res.slope*x\n",
    "\n",
    "plt.plot(1000*dataf[:,2], carga(dataf[:,2]), '--c', label=\"Recta de carga\")\n",
    "plt.scatter(1000*dataf[:,2], dataf[:,1], marker='.', color=\"xkcd:orange\", label=\"R (ohm): 100-10K\", zorder=2)\n",
    "plt.xlabel(\"I (mA)\")\n",
    "plt.ylabel(\"V (V)\")\n",
    "plt.title(\"Recta de carga\")\n",
    "plt.gca().spines['top'].set_visible(False)\n",
    "plt.gca().spines['right'].set_visible(False)\n",
    "plt.legend()\n",
    "plt.grid()\n",
    "plt.savefig(\"G2.png\", dpi=300)"
   ]
  },
  {
   "cell_type": "code",
   "execution_count": null,
   "id": "15f8893c-3f28-410e-9a8f-7621cda6e019",
   "metadata": {},
   "outputs": [],
   "source": [
    "def caract(x): return 1000*x\n",
    "\n",
    "def intersect(f1,f2,x0): return fsolve(lambda x: f1(x)-f2(x),x0)\n",
    "inter_x = intersect(carga,caract,0.0)\n",
    "inter = [inter_x[0], carga(inter_x)[0]]\n",
    "\n",
    "plt.plot(1000*dataf[:,2], carga(dataf[:,2]), '--c', label=\"Recta de carga\", zorder=2)\n",
    "plt.plot(1000*dataf[:,2], caract(dataf[:,2]), '--y', label=\"Recta característica\\nresistencia 1K ohm\", zorder=2)\n",
    "plt.scatter(1000*inter[0], inter[1], marker='o', color=\"xkcd:red\", label=\"Intersección\", zorder=3)\n",
    "plt.scatter(1000*dataf[:,2], dataf[:,1], marker='.', color=\"xkcd:orange\", label=\"R (ohm): 100-10K\", zorder=1)\n",
    "plt.xlabel(\"I (mA)\")\n",
    "plt.ylabel(\"V (V)\")\n",
    "plt.title(\"Punto de operación\")\n",
    "plt.gca().spines['top'].set_visible(False)\n",
    "plt.gca().spines['right'].set_visible(False)\n",
    "plt.legend()\n",
    "plt.grid()\n",
    "\n",
    "plt.savefig(\"G3.png\", dpi=300)\n",
    "\n",
    "print(f\"Intersección en {inter}\")"
   ]
  },
  {
   "cell_type": "code",
   "execution_count": null,
   "id": "0cfcaf9a-a371-4196-b407-08925a2d76dd",
   "metadata": {},
   "outputs": [],
   "source": [
    "carga_x = [0, -res.intercept/res.slope]\n",
    "print(f\"Intersección de recta de carga con eje x (Corriente de Norton): {carga_x}\")\n",
    "\n",
    "carga_y = [res.intercept, 0]\n",
    "print(f\"Intersección de recta de carga con eje y (Voltaje de Thévenin): {carga_y}\")\n",
    "\n",
    "print(f\"Resistencia de Thévenin: {carga_y[0]/carga_x[1]}\")"
   ]
  }
 ],
 "metadata": {
  "kernelspec": {
   "display_name": "Python 3 (ipykernel)",
   "language": "python",
   "name": "python3"
  },
  "language_info": {
   "codemirror_mode": {
    "name": "ipython",
    "version": 3
   },
   "file_extension": ".py",
   "mimetype": "text/x-python",
   "name": "python",
   "nbconvert_exporter": "python",
   "pygments_lexer": "ipython3",
   "version": "3.10.9"
  }
 },
 "nbformat": 4,
 "nbformat_minor": 5
}
