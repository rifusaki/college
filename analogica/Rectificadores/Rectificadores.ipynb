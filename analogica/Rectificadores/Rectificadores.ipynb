{
 "cells": [
  {
   "cell_type": "code",
   "execution_count": null,
   "metadata": {},
   "outputs": [],
   "source": [
    "import matplotlib.pyplot as plt\n",
    "import numpy as np\n",
    "from scipy.optimize import curve_fit"
   ]
  },
  {
   "attachments": {},
   "cell_type": "markdown",
   "metadata": {},
   "source": [
    "## Voltaje de rizado\n",
    "### Variando resistencia"
   ]
  },
  {
   "cell_type": "code",
   "execution_count": null,
   "metadata": {},
   "outputs": [],
   "source": [
    "vr_res = np.array([[512, 130.2, 228, 2696, 6700],[5.1, 6.8, 5.9, 1.9, 1.1]])"
   ]
  },
  {
   "attachments": {},
   "cell_type": "markdown",
   "metadata": {},
   "source": [
    "En teoría esta vaina debería dar de la forma $\\frac{a}{x}$ pero ???\n",
    "\n",
    "Por otro lado, para sacar el factor de rizado necesitamos $V_P$ pero con la señal filtrada cómo se saca? Con el centro que estaba re abajo?"
   ]
  },
  {
   "cell_type": "code",
   "execution_count": null,
   "metadata": {},
   "outputs": [],
   "source": [
    "def fun(x,a): return a/x\n",
    "expfit, _ = curve_fit(fun, vr_res[0], vr_res[1], method='dogbox')\n",
    "x = range(int(vr_res[0][0]-350),int(vr_res[0][-1]))\n",
    "\n",
    "\n",
    "fig, (ax1) = plt.subplots(1, 1, figsize=(9,6))\n",
    "\n",
    "ax1.scatter(vr_res[0], vr_res[1], marker='o', color='xkcd:orange', linewidth=2, zorder=2, label='Datos')\n",
    "ax1.plot(x, fun(x,expfit[0]), color='xkcd:bright blue', linewidth=1, zorder=1, label='Ajuste')\n",
    "ax1.spines['top'].set_visible(False)\n",
    "ax1.spines['right'].set_visible(False)\n",
    "ax1.grid(ls='--', zorder=0)\n",
    "ax1.set_title(\"Voltaje de rizado vs resistencia de carga\")\n",
    "ax1.set_ylabel(\"V_r\")\n",
    "ax1.set_xlabel(\"R_L\")\n",
    "ax1.legend(loc='upper right')"
   ]
  },
  {
   "attachments": {},
   "cell_type": "markdown",
   "metadata": {},
   "source": [
    "### Variando capacitancia"
   ]
  },
  {
   "cell_type": "code",
   "execution_count": null,
   "metadata": {},
   "outputs": [],
   "source": [
    "vr_cap = np.array([[2.2, 10, 100, 1000],[3.2, 2.04, 2.58, 1.49]])"
   ]
  },
  {
   "attachments": {},
   "cell_type": "markdown",
   "metadata": {},
   "source": [
    "Este sí es que definitivamente no veo el modo en que esté bien."
   ]
  },
  {
   "cell_type": "code",
   "execution_count": null,
   "metadata": {},
   "outputs": [],
   "source": [
    "def fun2(x,a): return (a - a/x)\n",
    "capfit, _ = curve_fit(fun, vr_cap[0], vr_cap[1])\n",
    "x = range(int(vr_cap[0][0]),int(vr_cap[0][-1]))\n",
    "\n",
    "\n",
    "fig, (ax1) = plt.subplots(1, 1, figsize=(9,6))\n",
    "\n",
    "ax1.scatter(vr_cap[0], vr_cap[1], marker='o', color='xkcd:orange', linewidth=2, zorder=2, label='Datos')\n",
    "#ax1.plot(x, fun2(x,capfit[0]), color='xkcd:bright blue', linewidth=1, zorder=1, label='Ajuste')\n",
    "ax1.spines['top'].set_visible(False)\n",
    "ax1.spines['right'].set_visible(False)\n",
    "ax1.grid(ls='--', zorder=0)\n",
    "ax1.set_title(\"Voltaje de rizado vs capacitancia\")\n",
    "ax1.set_ylabel(\"V_r\")\n",
    "ax1.set_xlabel(\"C\")\n",
    "ax1.legend(loc='upper right')"
   ]
  }
 ],
 "metadata": {
  "kernelspec": {
   "display_name": "college",
   "language": "python",
   "name": "python3"
  },
  "language_info": {
   "codemirror_mode": {
    "name": "ipython",
    "version": 3
   },
   "file_extension": ".py",
   "mimetype": "text/x-python",
   "name": "python",
   "nbconvert_exporter": "python",
   "pygments_lexer": "ipython3",
   "version": "3.8.16"
  }
 },
 "nbformat": 4,
 "nbformat_minor": 2
}
