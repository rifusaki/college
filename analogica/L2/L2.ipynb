{
 "cells": [
  {
   "attachments": {},
   "cell_type": "markdown",
   "metadata": {},
   "source": [
    "### Importar datos y paquetes"
   ]
  },
  {
   "cell_type": "code",
   "execution_count": null,
   "metadata": {},
   "outputs": [],
   "source": [
    "import pandas as pd\n",
    "import numpy as np\n",
    "import matplotlib.pyplot as plt\n",
    "from scipy.optimize import curve_fit\n",
    "from scipy.optimize import fsolve"
   ]
  },
  {
   "cell_type": "code",
   "execution_count": null,
   "metadata": {},
   "outputs": [],
   "source": [
    "data = pd.read_excel('data1.xlsx').to_numpy()\n",
    "\n",
    "data[:,1] = data[:,1]/max(data[:,1])"
   ]
  },
  {
   "attachments": {},
   "cell_type": "markdown",
   "metadata": {},
   "source": [
    "### Lo divertido\n",
    "\n",
    "Haciendo un ajuste cualquiera, omitiendo los primeros 5 datos"
   ]
  },
  {
   "cell_type": "code",
   "execution_count": null,
   "metadata": {},
   "outputs": [],
   "source": [
    "def fitfunc(f, Vo, q): # Función a ajustar\n",
    "    f0 = 5500\n",
    "    return Vo / ((1 + (q**2)*((f/f0 - f0/f)**2))**(1/2))\n",
    "     \n",
    "param = curve_fit(fitfunc, data[5:,0], data[5:,1])[0]   # Cálculo de parámetros del ajuste\n",
    "\n",
    "print(f\"Los coeficientes Vo, q son {param}.\")\n",
    "\n",
    "numx = np.linspace(0.1,20000,10000)"
   ]
  },
  {
   "attachments": {},
   "cell_type": "markdown",
   "metadata": {},
   "source": [
    "Graficando el ajuste"
   ]
  },
  {
   "cell_type": "code",
   "execution_count": null,
   "metadata": {},
   "outputs": [],
   "source": [
    "plt.figure(figsize=(12,8))\n",
    "plt.scatter(data[:,0], data[:,1], color=\"xkcd:orange\", marker='o', label=\"Datos experimentales\")\n",
    "plt.plot(numx, fitfunc(numx, *param), color=\"xkcd:light purple\", label=\"Ajuste\")\n",
    "\n",
    "plt.ylabel(\"V salida\")\n",
    "plt.xlabel(\"f entrada\")\n",
    "plt.title(\"Curva de resonancia\")\n",
    "plt.gca().spines['top'].set_visible(False)\n",
    "plt.gca().spines['right'].set_visible(False)\n",
    "plt.grid(linestyle=\"--\")\n",
    "plt.legend()\n",
    "plt.show()"
   ]
  },
  {
   "attachments": {},
   "cell_type": "markdown",
   "metadata": {},
   "source": [
    "Acá ChatGPT sacó dos métodos distintos para sacar las dos frecuencias de corte: uno para cada uno. Ya sé que quedó una porquería y eso tiene solución fácil pero tenía mucha pereza de hacerlo yo"
   ]
  },
  {
   "cell_type": "code",
   "execution_count": null,
   "metadata": {},
   "outputs": [],
   "source": [
    "def find_f2(Vout, f_range, precision, Vo, q):\n",
    "    a, b = f_range # Desempaquetamos el rango en los extremos a y b\n",
    "    while (b - a) > precision:\n",
    "        mid = (a + b) / 2 # Encontramos el punto medio del intervalo\n",
    "        if fitfunc(mid, Vo, q) < Vout:\n",
    "            a = mid # Si el valor en el punto medio es menor que Vout, movemos a la izquierda\n",
    "        else:\n",
    "            b = mid # Si el valor en el punto medio es mayor que Vout, movemos a la derecha\n",
    "    return (a + b) / 2 # Una vez que hemos encontrado un intervalo lo suficientemente pequeño, devolvemos su punto medio como la raíz encontrada\n",
    "\n",
    "p1 = find_f2(0.7,(0,5500),0.1,*param)\n",
    "def find_f(Vout, Vo, q):\n",
    "    f0 = 5500\n",
    "    def eqn(f):\n",
    "        return fitfunc(f, Vo, q) - Vout\n",
    "    f1 = fsolve(eqn, f0)[0]\n",
    "    return f1\n",
    "\n",
    "p2 = find_f(0.7,*param)\n",
    "\n",
    "bw = p2-p1\n",
    "\n",
    "print(f\"Las frecuencias de corte son {p1:.3f} y {p2:.3f}, entonces el ancho de banda es {bw:.3f}\")"
   ]
  },
  {
   "attachments": {},
   "cell_type": "markdown",
   "metadata": {},
   "source": [
    "Graficando con ancho de banda"
   ]
  },
  {
   "cell_type": "code",
   "execution_count": null,
   "metadata": {},
   "outputs": [],
   "source": [
    "plt.figure(figsize=(12,8))\n",
    "plt.scatter(data[:,0], data[:,1], color=\"xkcd:orange\", marker='o', label=\"Datos experimentales\", zorder=2)\n",
    "plt.plot(numx, fitfunc(numx, *param), color=\"xkcd:light purple\", label=\"Ajuste\", zorder=1)\n",
    "plt.fill_between(numx, fitfunc(numx, *param), 0,\n",
    "                 where = (numx > p1) & (numx <= p2),\n",
    "                 color = \"xkcd:light blue\", alpha=0.5, zorder=0,\n",
    "                 label=\"Ancho de banda\")\n",
    "plt.ylabel(\"V salida\")\n",
    "plt.xlabel(\"f entrada\")\n",
    "plt.title(\"Curva de resonancia\")\n",
    "plt.gca().spines['top'].set_visible(False)\n",
    "plt.gca().spines['right'].set_visible(False)\n",
    "plt.grid(linestyle=\"--\")\n",
    "plt.legend()\n",
    "plt.show()"
   ]
  },
  {
   "attachments": {},
   "cell_type": "markdown",
   "metadata": {},
   "source": [
    "Factor de calidad:"
   ]
  },
  {
   "cell_type": "code",
   "execution_count": null,
   "metadata": {},
   "outputs": [],
   "source": [
    "print(f\"El factor de calidad es {bw/5500:.3f}\")"
   ]
  },
  {
   "attachments": {},
   "cell_type": "markdown",
   "metadata": {},
   "source": [
    "Resistencia total del circuito:"
   ]
  },
  {
   "cell_type": "code",
   "execution_count": null,
   "metadata": {},
   "outputs": [],
   "source": [
    "print(f\"Resistencia total: {1/(bw*2*np.pi*2.2e-6)}\")"
   ]
  }
 ],
 "metadata": {
  "kernelspec": {
   "display_name": "base",
   "language": "python",
   "name": "python3"
  },
  "language_info": {
   "codemirror_mode": {
    "name": "ipython",
    "version": 3
   },
   "file_extension": ".py",
   "mimetype": "text/x-python",
   "name": "python",
   "nbconvert_exporter": "python",
   "pygments_lexer": "ipython3",
   "version": "3.9.13"
  }
 },
 "nbformat": 4,
 "nbformat_minor": 2
}
