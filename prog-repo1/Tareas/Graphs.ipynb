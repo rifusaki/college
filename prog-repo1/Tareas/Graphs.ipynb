{
 "cells": [
  {
   "cell_type": "code",
   "execution_count": null,
   "id": "f10c0698-0a6b-4e74-ab3d-90ed4d41b913",
   "metadata": {},
   "outputs": [],
   "source": [
    "import matplotlib.pyplot as plt"
   ]
  },
  {
   "cell_type": "code",
   "execution_count": null,
   "id": "53e47417-477e-4d53-873b-313043fc38c7",
   "metadata": {},
   "outputs": [],
   "source": [
    "def txt_lst(file):\n",
    "    fil = open(file, \"r\")\n",
    "    ls = fil.readlines()\n",
    "    aa = []\n",
    "    bb = []\n",
    "    cc = []\n",
    "    for item in ls:\n",
    "        a1,b2,c3 = item.strip().split(\"\\t\")\n",
    "        aa.append(float(a1))\n",
    "        bb.append(float(b2))\n",
    "        cc.append(float(c3))\n",
    "    return [aa, bb, cc]"
   ]
  },
  {
   "cell_type": "code",
   "execution_count": null,
   "id": "e138ceec-a331-4c8c-9a2f-4824bc3f14cd",
   "metadata": {},
   "outputs": [],
   "source": [
    "g1 = txt_lst(\"g1.txt\")\n",
    "g2 = txt_lst(\"g2.txt\")\n",
    "g3 = txt_lst(\"g3.txt\")\n",
    "g4 = txt_lst(\"g4.txt\")\n",
    "g5 = txt_lst(\"g5.txt\")\n",
    "g6 = txt_lst(\"g6.txt\")"
   ]
  },
  {
   "cell_type": "code",
   "execution_count": null,
   "id": "c396b406-979a-49bd-935c-1eae9dd8a8cc",
   "metadata": {},
   "outputs": [],
   "source": [
    "plt.figure(figsize=(15,9))\n",
    "plt.plot(g1[0],g1[1], color='xkcd:light purple', label='9.1 0 1; E = 63.9')\n",
    "plt.plot(g2[0],g2[1], color='xkcd:green', label='4.1 1 0; E = 80.9')\n",
    "plt.plot(g3[0],g3[1], color='xkcd:blue', label='0.1 0 1; E = 3.9')\n",
    "plt.grid(alpha = 0.5, linestyle='--')\n",
    "plt.gca().spines['top'].set_visible(False)\n",
    "plt.gca().spines['right'].set_visible(False)\n",
    "plt.title(\"Función de onda\")\n",
    "plt.xlabel(\"x\")\n",
    "plt.ylabel(\"phi\")\n",
    "plt.legend()\n",
    "plt.savefig(\"g1.png\", dpi=300)\n",
    "plt.show()\n",
    "\n",
    "plt.figure(figsize=(15,9))\n",
    "plt.plot(g4[0],g4[1], color='xkcd:light purple', label='6.1 1 2; E = 27.3')\n",
    "plt.plot(g5[0],g5[1], color='xkcd:green', label='5.4 5 2; E = 9.5')\n",
    "plt.plot(g6[0],g6[1], color='xkcd:blue', label='8.4 1 3; E = 12')\n",
    "plt.grid(alpha = 0.5, linestyle='--')\n",
    "plt.gca().spines['top'].set_visible(False)\n",
    "plt.gca().spines['right'].set_visible(False)\n",
    "plt.title(\"Función de onda\")\n",
    "plt.xlabel(\"x\")\n",
    "plt.ylabel(\"phi\")\n",
    "plt.legend()\n",
    "plt.savefig(\"g2.png\", dpi=300)\n",
    "plt.show()"
   ]
  }
 ],
 "metadata": {
  "kernelspec": {
   "display_name": "Python 3 (ipykernel)",
   "language": "python",
   "name": "python3"
  },
  "language_info": {
   "codemirror_mode": {
    "name": "ipython",
    "version": 3
   },
   "file_extension": ".py",
   "mimetype": "text/x-python",
   "name": "python",
   "nbconvert_exporter": "python",
   "pygments_lexer": "ipython3",
   "version": "3.8.2"
  }
 },
 "nbformat": 4,
 "nbformat_minor": 5
}
