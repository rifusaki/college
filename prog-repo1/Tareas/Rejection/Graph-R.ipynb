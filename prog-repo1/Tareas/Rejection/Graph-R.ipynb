{
 "cells": [
  {
   "cell_type": "code",
   "execution_count": null,
   "id": "37f20193-59ca-487f-8f52-fe744bc375cd",
   "metadata": {},
   "outputs": [],
   "source": [
    "import matplotlib.pyplot as plt"
   ]
  },
  {
   "cell_type": "code",
   "execution_count": null,
   "id": "42f211fd-cb18-46f7-9137-8e4910576a6b",
   "metadata": {},
   "outputs": [],
   "source": [
    "def txt_lst(file):\n",
    "    fil = open(file, \"r\")\n",
    "    ls = fil.readlines()\n",
    "    aa = []\n",
    "    bb = []\n",
    "    for item in ls:\n",
    "        a1,b2 = item.strip().split(\"\\t\")\n",
    "        aa.append(float(a1))\n",
    "        bb.append(float(b2))\n",
    "    return [aa, bb]"
   ]
  },
  {
   "cell_type": "code",
   "execution_count": null,
   "id": "1c349fb1-b05c-4b16-a43f-7fc616c6241a",
   "metadata": {},
   "outputs": [],
   "source": [
    "datos = txt_lst(\"datos.txt\")\n",
    "density = txt_lst(\"density.txt\")"
   ]
  },
  {
   "cell_type": "code",
   "execution_count": null,
   "id": "6cb497fc-e607-493a-a438-ca82cbd26c12",
   "metadata": {},
   "outputs": [],
   "source": [
    "plt.figure(figsize=(15,9))\n",
    "plt.scatter(datos[0],datos[1], s=0.01, color='xkcd:mint green', label='1M de muestras aceptadas')\n",
    "plt.grid(alpha = 0.5, linestyle='--')\n",
    "plt.gca().spines['top'].set_visible(False)\n",
    "plt.gca().spines['right'].set_visible(False)\n",
    "plt.title(\"Datos\")\n",
    "plt.xlabel(\"x\")\n",
    "plt.ylabel(\"y\")\n",
    "plt.legend()\n",
    "plt.savefig(\"datos.png\", dpi=300)\n",
    "plt.show()"
   ]
  },
  {
   "cell_type": "code",
   "execution_count": null,
   "id": "9b95a6aa-3301-4983-bb9e-79c99a70ce00",
   "metadata": {},
   "outputs": [],
   "source": [
    "plt.figure(figsize=(15,9))\n",
    "plt.bar(density[0],density[1], color='xkcd:light blue', edgecolor=\"white\", width=(max(density[0])-min(density[0]))/len(density[0]), label='30 bins')\n",
    "plt.grid(alpha = 0.5, linestyle='--')\n",
    "plt.gca().spines['top'].set_visible(False)\n",
    "plt.gca().spines['right'].set_visible(False)\n",
    "plt.title(\"Probability density function\")\n",
    "plt.xlabel(\"x\")\n",
    "plt.ylabel(\"y\")\n",
    "plt.legend()\n",
    "plt.savefig(\"density.png\", dpi=300)\n",
    "plt.show()"
   ]
  }
 ],
 "metadata": {
  "kernelspec": {
   "display_name": "Python 3 (ipykernel)",
   "language": "python",
   "name": "python3"
  },
  "language_info": {
   "codemirror_mode": {
    "name": "ipython",
    "version": 3
   },
   "file_extension": ".py",
   "mimetype": "text/x-python",
   "name": "python",
   "nbconvert_exporter": "python",
   "pygments_lexer": "ipython3",
   "version": "3.8.2"
  }
 },
 "nbformat": 4,
 "nbformat_minor": 5
}
