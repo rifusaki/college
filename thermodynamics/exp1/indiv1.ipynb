{
 "cells": [
  {
   "cell_type": "code",
   "execution_count": null,
   "metadata": {},
   "outputs": [],
   "source": [
    "import numpy as np\n",
    "import matplotlib.pyplot as plt\n",
    "from scipy.optimize import curve_fit"
   ]
  },
  {
   "cell_type": "code",
   "execution_count": null,
   "metadata": {},
   "outputs": [],
   "source": [
    "term_res = [0.60,0.75,0.73,0.71,0.69,0.66,0.65,0.62,0.60,0.58,0.55,0.53,0.50,0.48,0.46,0.44,0.42,0.40,0.38,0.36,0.34,0.32,0.30,0.28,0.26,0.24,0.22,0.20,0.18,0.16,0.14,0.12,0.10,0.09,0.08]\n",
    "cap_res = [3.34,3.32,3.33,3.34,3.35,3.37,3.38,3.41,3.42,3.45,3.48,3.52,3.55,3.58,3.62,3.66,3.70,3.76,3.82,3.92,3.98,4.07,4.19,4.34,4.52,4.72,4.98,5.30,5.78,6.42,7.32,8.82,11.40,13.42,15.70]\n",
    "\n",
    "b = 3950\n",
    "term_tem = [b/np.log(i*(10**6)) for i in term_res]"
   ]
  },
  {
   "cell_type": "code",
   "execution_count": null,
   "metadata": {},
   "outputs": [],
   "source": [
    "# Grafica Res-Res\n",
    "plt.figure(figsize=(10,6))\n",
    "plt.scatter(term_res,cap_res, color='xkcd:violet',marker='o', zorder=2, label='Datos experimentales')\n",
    "# plt.plot(x, np.exp(y[1]+y[0]*x), color=\"xkcd:violet\", zorder=1,\n",
    "#          label=r\"R(T) = $(3.43 \\times 10^{10})e^{-4347 \\cdot T^{-1}}$\")\n",
    "plt.ylabel(r\"EE $(K \\Omega)$\")\n",
    "plt.xlabel(r\"Termistor $(M \\Omega)$\")\n",
    "plt.title(\"EE vs termistor - resistencia\")\n",
    "plt.gca().spines['top'].set_visible(False)\n",
    "plt.gca().spines['right'].set_visible(False)\n",
    "plt.grid(axis='both', linestyle=\"--\")\n",
    "plt.legend()\n",
    "plt.savefig('Capacitor res.png', dpi=300)\n",
    "plt.show()"
   ]
  },
  {
   "cell_type": "code",
   "execution_count": null,
   "metadata": {},
   "outputs": [],
   "source": [
    "# Ajuste\n",
    "def fun(x,a,b,c):   return a * np.exp(-b * (1/x)) + c\n",
    "\n",
    "popt, pcov = curve_fit(fun, term_tem, cap_res)\n",
    "x = np.linspace(term_tem[1],term_tem[-1],100)"
   ]
  },
  {
   "cell_type": "code",
   "execution_count": null,
   "metadata": {},
   "outputs": [],
   "source": [
    "plt.figure(figsize=(10,6))\n",
    "plt.scatter(term_tem,cap_res, color='xkcd:violet',marker='o', zorder=1, label='Datos experimentales')\n",
    "plt.plot(x, fun(x, *popt), color=\"xkcd:bright red\", zorder=2,\n",
    "        label=rf\"$R(T) = ({popt[0]:.2e}) \\cdot \\exp{{\\left ( \\frac{{-{popt[1]:.2e}}}{{x}} \\right )}} + {popt[2]:.2f}$ \")\n",
    "plt.ylabel(r\"EE $(K \\Omega)$\")\n",
    "plt.xlabel(r\"Termistor $(K)$\")\n",
    "plt.title(\"EE vs termistor - temperatura\") \n",
    "plt.gca().spines['top'].set_visible(False)\n",
    "plt.gca().spines['right'].set_visible(False)\n",
    "plt.grid(axis='both', linestyle=\"--\")\n",
    "plt.legend()\n",
    "plt.savefig('Capacitor temp.png', dpi=300)\n",
    "plt.show()"
   ]
  }
 ],
 "metadata": {
  "kernelspec": {
   "display_name": "college",
   "language": "python",
   "name": "python3"
  },
  "language_info": {
   "codemirror_mode": {
    "name": "ipython",
    "version": 3
   },
   "file_extension": ".py",
   "mimetype": "text/x-python",
   "name": "python",
   "nbconvert_exporter": "python",
   "pygments_lexer": "ipython3",
   "version": "3.8.16"
  }
 },
 "nbformat": 4,
 "nbformat_minor": 2
}
