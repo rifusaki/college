{
 "cells": [
  {
   "cell_type": "code",
   "execution_count": null,
   "metadata": {},
   "outputs": [],
   "source": [
    "import numpy as np\n",
    "import scipy as sp\n",
    "import matplotlib.pyplot as plt"
   ]
  },
  {
   "cell_type": "code",
   "execution_count": null,
   "metadata": {},
   "outputs": [],
   "source": [
    "ref = [273.15+i for i in [19,18,23,28,33,38,43,48,53,58,63,68,73,78,85]]\n",
    "term = [10000*i for i in [12.8,13.4,11.6,9.2,7.4,5.9,4.9,3.7,3,2.4,2,1.6,1.3,1.1,0.8]]\n",
    "\n",
    "#linealicemos esta vaina\n",
    "lnterm = [np.log(i) for i in term]\n",
    "refinv = [1/i for i in ref]\n",
    "\n",
    "#fit\n",
    "y = np.polyfit(ref,lnterm,1)\n",
    "x = np.linspace(ref[0]-1,ref[-1]+1,100)"
   ]
  },
  {
   "cell_type": "code",
   "execution_count": null,
   "metadata": {},
   "outputs": [],
   "source": [
    "plt.scatter(ref,term)\n",
    "plt.plot(x, np.exp(y[1]+y[0]*x), color='xkcd:orange')"
   ]
  },
  {
   "cell_type": "code",
   "execution_count": null,
   "metadata": {},
   "outputs": [],
   "source": [
    "print('85-23:',(ref[-1]*ref[2])/(ref[-1]-ref[2])*np.log(term[-1]/term[2]),'\\n')\n",
    "print('48-23:',(ref[7]*ref[2])/(ref[7]-ref[2])*np.log(term[7]/term[2]),'\\n')\n",
    "\n",
    "print('48-23, 2:',(np.log(term[2]/term[7]))/((1/ref[2])-(1/ref[7])),'\\n')\n",
    "\n",
    "print(y)"
   ]
  },
  {
   "cell_type": "code",
   "execution_count": null,
   "metadata": {},
   "outputs": [],
   "source": [
    "def fun(x): return 24.26506004*np.exp(-0.04270455*x)\n",
    "\n",
    "np.exp(24.26506004)"
   ]
  },
  {
   "cell_type": "code",
   "execution_count": null,
   "metadata": {},
   "outputs": [],
   "source": [
    "plt.figure(figsize=(10,6))\n",
    "plt.scatter(ref,term, color='xkcd:teal', zorder=2, label='Datos experimentales')\n",
    "plt.plot(x, np.exp(y[1]+y[0]*x), color=\"xkcd:violet\", zorder=1,\n",
    "         label=r\"R(T) = $(3.43 \\times 10^{10})e^{-4347 \\cdot T^{-1}}$\")\n",
    "plt.ylabel(r\"Resistencia $(\\Omega)$\")\n",
    "plt.xlabel(r\"Temperatura $(K)$\")\n",
    "plt.title(\"Termistor NTC\")\n",
    "plt.gca().spines['top'].set_visible(False)\n",
    "plt.gca().spines['right'].set_visible(False)\n",
    "plt.grid(axis='both', linestyle=\"--\")\n",
    "plt.legend()\n",
    "plt.savefig('termistor.png', dpi=300)\n",
    "plt.show()"
   ]
  },
  {
   "cell_type": "code",
   "execution_count": null,
   "metadata": {},
   "outputs": [],
   "source": [
    "plt.scatter(ref,lnterm)\n",
    "plt.plot(x,x*y[0]+y[1])\n",
    "plt."
   ]
  }
 ],
 "metadata": {
  "kernelspec": {
   "display_name": "college",
   "language": "python",
   "name": "python3"
  },
  "language_info": {
   "codemirror_mode": {
    "name": "ipython",
    "version": 3
   },
   "file_extension": ".py",
   "mimetype": "text/x-python",
   "name": "python",
   "nbconvert_exporter": "python",
   "pygments_lexer": "ipython3",
   "version": "3.8.16"
  }
 },
 "nbformat": 4,
 "nbformat_minor": 2
}
