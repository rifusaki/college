{
 "cells": [
  {
   "cell_type": "code",
   "execution_count": null,
   "metadata": {},
   "outputs": [],
   "source": [
    "import numpy as np\n",
    "import matplotlib.pyplot as plt\n",
    "import pandas as pd\n",
    "from scipy.optimize import curve_fit"
   ]
  },
  {
   "cell_type": "code",
   "execution_count": null,
   "metadata": {},
   "outputs": [],
   "source": [
    "# Leer archivo Excel\n",
    "xls = pd.ExcelFile('Equivalente_electrico.xlsx')\n",
    "wdata = pd.read_excel(xls, sheet_name=0, usecols=('t','T')).to_numpy()\n",
    "idata = pd.read_excel(xls, sheet_name=1, usecols=('t','T')).to_numpy()\n",
    "\n",
    "# C a K\n",
    "wdata[:,1] = [y+273.15 for y in wdata[:,1]]\n",
    "idata[:,1] = [y+273.15 for y in idata[:,1]]"
   ]
  },
  {
   "cell_type": "code",
   "execution_count": null,
   "metadata": {},
   "outputs": [],
   "source": [
    "def graph(data,title,xdom=None,fit=None,xdom2=None,fit2=None):\n",
    "    def linf(x,a,b):   return a*x+b\n",
    "    \n",
    "    fig, (ax1) = plt.subplots(1, 1, figsize=(7,5))\n",
    "\n",
    "    ax1.scatter(data[:,0],data[:,1], marker='o', color='xkcd:dark orange', linewidth=1, zorder=3, label='Datos')\n",
    "    if type(fit) != type(None):  ax1.plot(xdom, linf(xdom,fit[0],fit[1]), color='xkcd:bright blue', linewidth=1.5, zorder=2, label=f'T(s) = {fit[0]:.6f}s + {fit[1]:.2f}')\n",
    "    if type(fit2) != type(None):  ax1.plot(xdom2, linf(xdom2,fit2[0],fit2[1]), color='xkcd:violet', linewidth=1.5, zorder=2, label='Ajuste 2')\n",
    "\n",
    "    ax1.spines['top'].set_visible(False)\n",
    "    ax1.spines['right'].set_visible(False)\n",
    "    ax1.grid(ls='--', zorder=0)\n",
    "    ax1.set_title(title)\n",
    "    ax1.set_ylabel(\"E (J)\")\n",
    "    ax1.set_xlabel(\"Q (cal)\")\n",
    "    ax1.legend()\n",
    "    fig.savefig(f'{title}.png',dpi=300)"
   ]
  },
  {
   "cell_type": "code",
   "execution_count": null,
   "metadata": {},
   "outputs": [],
   "source": [
    "print('Equivalente del calorimetro:',139.8*(90-52)/(52-22)-151.3)\n",
    "print('Equivalente del calorimetrov2:',139.85*(90.5-52.5)/(51.5-21.5)-151.25)"
   ]
  },
  {
   "attachments": {},
   "cell_type": "markdown",
   "metadata": {},
   "source": [
    "### Equivalente eléctrico y calor latente"
   ]
  },
  {
   "attachments": {},
   "cell_type": "markdown",
   "metadata": {},
   "source": [
    "Primero las regresiones:"
   ]
  },
  {
   "cell_type": "code",
   "execution_count": null,
   "metadata": {},
   "outputs": [],
   "source": [
    "def linf(x,a,b):   return a*x+b\n",
    "# Equivalente eléctrico del calor\n",
    "## Temperatura\n",
    "wfit, wcov = curve_fit(linf, wdata[:,0],wdata[:,1])\n",
    "wx = range(wdata[0,0],wdata[-1,0])\n",
    "\n",
    "print(f'Equivalente eléctrico: {wfit[0]:.6f}x + {wfit[1]:.3f}')\n",
    "\n",
    "## Calor\n",
    "heatw = wdata.copy()\n",
    "heatw[:,1] = [1*(287.7+25.78)*(i - heatw[0,1]) for i in heatw[:,1]]\n",
    "\n",
    "heatfitw, _ = curve_fit(linf, heatw[:,0],heatw[:,1])\n",
    "hwx = range(heatw[0,0],heatw[-1,0])\n",
    "\n",
    "## Potencia\n",
    "heatp = [1.5*6.9*x for x in wx]\n",
    "\n",
    "# Calor latente de fusión\n",
    "ifit, icov = curve_fit(linf, idata[6:,0],idata[6:,1])\n",
    "ix = range(idata[4,0],idata[-1,0])\n",
    "\n",
    "ixf = range(idata[0,0],idata[7,0])\n",
    "ifit2, icov2 = curve_fit(linf, idata[0:4,0],idata[0:4,1])\n",
    "\n",
    "print(f'Calor latente de fusión: {ifit[0]:.6f}x + {ifit[1]:.3f}')\n",
    "\n"
   ]
  },
  {
   "cell_type": "code",
   "execution_count": null,
   "metadata": {},
   "outputs": [],
   "source": [
    "graph(wdata,'Temperatura vs tiempo',wx,wfit)"
   ]
  },
  {
   "cell_type": "code",
   "execution_count": null,
   "metadata": {},
   "outputs": [],
   "source": [
    "graph(heatp, \"Calor acumulado\",heatw)"
   ]
  },
  {
   "cell_type": "code",
   "execution_count": null,
   "metadata": {},
   "outputs": [],
   "source": [
    "graph(idata,'Hielo',ix,ifit,ixf,ifit2)"
   ]
  }
 ],
 "metadata": {
  "kernelspec": {
   "display_name": "Python 3 (ipykernel)",
   "language": "python",
   "name": "python3"
  },
  "language_info": {
   "codemirror_mode": {
    "name": "ipython",
    "version": 3
   },
   "file_extension": ".py",
   "mimetype": "text/x-python",
   "name": "python",
   "nbconvert_exporter": "python",
   "pygments_lexer": "ipython3",
   "version": "3.8.16"
  }
 },
 "nbformat": 4,
 "nbformat_minor": 2
}
