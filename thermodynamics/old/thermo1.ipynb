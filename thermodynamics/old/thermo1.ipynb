{
 "cells": [
  {
   "cell_type": "code",
   "execution_count": null,
   "metadata": {},
   "outputs": [],
   "source": [
    "import matplotlib.pyplot as plt\n",
    "import numpy as np"
   ]
  },
  {
   "cell_type": "code",
   "execution_count": null,
   "metadata": {},
   "outputs": [],
   "source": [
    "def funct(t):\n",
    "    return 10**((4.697-np.log10(t))/3.917)\n",
    "\n",
    "x = np.linspace(200,30000,10**6)\n",
    "\n",
    "plt.figure(figsize=(10,6))\n",
    "plt.plot(x, funct(x), color=\"xkcd:violet\", zorder=2,\n",
    "         label=f\"log(R\\') = 4.697-3.917log(T)\")\n",
    "plt.xlabel(\"Resistencia $(\\Omega)$\")\n",
    "plt.ylabel(\"Temperatura $(K)$\")\n",
    "plt.title(\"Resistencia vs Temperatura\")\n",
    "plt.gca().spines['top'].set_visible(False)\n",
    "plt.gca().spines['right'].set_visible(False)\n",
    "plt.grid(axis='both', linestyle=\"--\")\n",
    "plt.yscale(\"log\")\n",
    "plt.xscale(\"log\")\n",
    "plt.legend()\n",
    "plt.show()"
   ]
  },
  {
   "cell_type": "code",
   "execution_count": null,
   "metadata": {},
   "outputs": [],
   "source": [
    "print(funct(218))"
   ]
  }
 ],
 "metadata": {
  "kernelspec": {
   "display_name": "base",
   "language": "python",
   "name": "python3"
  },
  "language_info": {
   "codemirror_mode": {
    "name": "ipython",
    "version": 3
   },
   "file_extension": ".py",
   "mimetype": "text/x-python",
   "name": "python",
   "nbconvert_exporter": "python",
   "pygments_lexer": "ipython3",
   "version": "3.9.13"
  }
 },
 "nbformat": 4,
 "nbformat_minor": 2
}
