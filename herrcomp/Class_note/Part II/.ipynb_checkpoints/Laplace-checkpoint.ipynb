{
 "cells": [
  {
   "cell_type": "code",
   "execution_count": null,
   "id": "e4d26082",
   "metadata": {},
   "outputs": [],
   "source": [
    "import numpy as np\n",
    "import matplotlib.pyplot as plt"
   ]
  },
  {
   "cell_type": "code",
   "execution_count": null,
   "id": "3bc402fa",
   "metadata": {},
   "outputs": [],
   "source": [
    "x_len=20\n",
    "y_len=20\n",
    "Psi_sol=np.zeros([x_len,y_len])\n",
    "\n"
   ]
  },
  {
   "cell_type": "code",
   "execution_count": null,
   "id": "a188acb7",
   "metadata": {},
   "outputs": [],
   "source": [
    "T_left=100\n",
    "T_right=100\n",
    "T_bottom=100\n",
    "T_top=0"
   ]
  },
  {
   "cell_type": "code",
   "execution_count": null,
   "id": "9d935071",
   "metadata": {},
   "outputs": [],
   "source": [
    "plt.imshow(Psi_sol)\n",
    "plt.colorbar()\n",
    "plt.show()"
   ]
  },
  {
   "cell_type": "code",
   "execution_count": null,
   "id": "6a25bddc",
   "metadata": {},
   "outputs": [],
   "source": [
    "Psi_sol.fill(30)\n"
   ]
  },
  {
   "cell_type": "code",
   "execution_count": null,
   "id": "4aa5b3e3",
   "metadata": {},
   "outputs": [],
   "source": [
    "Psi_sol[0].fill(T_top)\n",
    "Psi_sol[-1].fill(T_bottom)\n",
    "Psi_sol[1:,0].fill(T_left)\n",
    "Psi_sol[1:,-1].fill(T_right)\n",
    "\n",
    "plt.imshow(Psi_sol)\n",
    "plt.colorbar()\n",
    "plt.show()"
   ]
  },
  {
   "cell_type": "code",
   "execution_count": null,
   "id": "848f1797",
   "metadata": {},
   "outputs": [],
   "source": [
    "for i in range(1,x_len-1):\n",
    "    for j in range(1,y_len-1):\n",
    "        Psi_sol[i][j]=(Psi_sol[i+1][j]+Psi_sol[i][j+1]+Psi_sol[i-1][j]+Psi_sol[i][j-1])/4"
   ]
  },
  {
   "cell_type": "code",
   "execution_count": null,
   "id": "394ded2c",
   "metadata": {},
   "outputs": [],
   "source": [
    "plt.imshow(Psi_sol)\n",
    "plt.colorbar()\n",
    "plt.show()"
   ]
  },
  {
   "cell_type": "code",
   "execution_count": null,
   "id": "6e8ef88a",
   "metadata": {},
   "outputs": [],
   "source": [
    "for ss in range(1000):\n",
    "    for i in range(1,x_len-1):\n",
    "        for j in range(1,y_len-1):\n",
    "            Psi_sol[i][j]=(Psi_sol[i+1][j]+Psi_sol[i][j+1]+Psi_sol[i-1][j]+Psi_sol[i][j-1])/4"
   ]
  },
  {
   "cell_type": "code",
   "execution_count": null,
   "id": "99076e6d",
   "metadata": {},
   "outputs": [],
   "source": [
    "plt.imshow(Psi_sol)\n",
    "plt.colorbar()\n",
    "plt.axis('off')\n",
    "plt.show()"
   ]
  },
  {
   "cell_type": "code",
   "execution_count": null,
   "id": "e6b4b8d5",
   "metadata": {},
   "outputs": [],
   "source": [
    "x_len=20\n",
    "y_len=20\n",
    "Psi_sol=np.zeros([x_len,y_len])\n",
    "\n",
    "Psi_sol[0].fill(T_top)\n",
    "Psi_sol[-1].fill(T_bottom)\n",
    "Psi_sol[1:,0].fill(T_left)\n",
    "Psi_sol[1:,-1].fill(T_right)\n",
    "\n",
    "Differences_Psi=[]\n",
    "\n",
    "for ss in range(1000):\n",
    "    for i in range(1,x_len-1):\n",
    "        for j in range(1,y_len-1):\n",
    "            Psi_local=(Psi_sol[i+1][j]+Psi_sol[i][j+1]+Psi_sol[i-1][j]+Psi_sol[i][j-1])/4\n",
    "            Differences_Psi.append(abs(Psi_sol[i][j]-Psi_local))\n",
    "            Psi_sol[i][j]=Psi_local"
   ]
  },
  {
   "cell_type": "code",
   "execution_count": null,
   "id": "cafdb2c7",
   "metadata": {},
   "outputs": [],
   "source": [
    "plt.loglog(Differences_Psi)\n",
    "plt.show()"
   ]
  },
  {
   "cell_type": "code",
   "execution_count": null,
   "id": "10bd0475",
   "metadata": {},
   "outputs": [],
   "source": [
    "x_len=100\n",
    "y_len=100\n",
    "Psi_sol=np.zeros([x_len,y_len])\n",
    "Psi_sol.fill(30)\n",
    "\n",
    "T_left=100\n",
    "T_right=0\n",
    "T_bottom=100\n",
    "T_top=0\n",
    "\n",
    "Psi_sol[0].fill(T_top)\n",
    "Psi_sol[-1].fill(T_bottom)\n",
    "Psi_sol[1:,0].fill(T_left)\n",
    "Psi_sol[1:,-1].fill(T_right)\n",
    "\n",
    "\n",
    "for ss in range(500):\n",
    "    for i in range(1,x_len-1):\n",
    "        for j in range(1,y_len-1):\n",
    "            Psi_local=(Psi_sol[i+1][j]+Psi_sol[i][j+1]+Psi_sol[i-1][j]+Psi_sol[i][j-1])/4\n",
    "            Psi_sol[i][j]=Psi_local"
   ]
  },
  {
   "cell_type": "code",
   "execution_count": null,
   "id": "e449304c",
   "metadata": {},
   "outputs": [],
   "source": [
    "plt.imshow(Psi_sol)\n",
    "plt.colorbar()\n",
    "plt.axis('off')\n",
    "plt.show()"
   ]
  },
  {
   "cell_type": "code",
   "execution_count": null,
   "id": "81733eee",
   "metadata": {},
   "outputs": [],
   "source": [
    "x_len=100\n",
    "y_len=100\n",
    "Psi_sol=np.zeros([x_len,y_len])\n",
    "Psi_sol.fill(30)\n",
    "\n",
    "T_left=100\n",
    "T_bottom=100\n",
    "T_top=0\n",
    "Psi_sol[0].fill(T_top)\n",
    "Psi_sol[-1].fill(T_bottom)\n",
    "Psi_sol[1:,0].fill(T_left)"
   ]
  },
  {
   "cell_type": "code",
   "execution_count": null,
   "id": "8b84108e",
   "metadata": {},
   "outputs": [],
   "source": [
    "for j in range(1,y_len):\n",
    "    Psi_sol[j][-1]=100*np.sin(2*np.pi*j/y_len)"
   ]
  },
  {
   "cell_type": "code",
   "execution_count": null,
   "id": "f57dd798",
   "metadata": {},
   "outputs": [],
   "source": [
    "plt.imshow(Psi_sol)\n",
    "plt.show()"
   ]
  },
  {
   "cell_type": "code",
   "execution_count": null,
   "id": "1f4b57a3",
   "metadata": {},
   "outputs": [],
   "source": [
    "for ss in range(2000):\n",
    "    for i in range(1,x_len-1):\n",
    "        for j in range(1,y_len-1):\n",
    "            Psi_local=(Psi_sol[i+1][j]+Psi_sol[i][j+1]+Psi_sol[i-1][j]+Psi_sol[i][j-1])/4\n",
    "            Psi_sol[i][j]=Psi_local"
   ]
  },
  {
   "cell_type": "code",
   "execution_count": null,
   "id": "daa88f1c",
   "metadata": {},
   "outputs": [],
   "source": [
    "plt.imshow(Psi_sol)\n",
    "plt.show()"
   ]
  }
 ],
 "metadata": {
  "kernelspec": {
   "display_name": "Python 3 (ipykernel)",
   "language": "python",
   "name": "python3"
  },
  "language_info": {
   "codemirror_mode": {
    "name": "ipython",
    "version": 3
   },
   "file_extension": ".py",
   "mimetype": "text/x-python",
   "name": "python",
   "nbconvert_exporter": "python",
   "pygments_lexer": "ipython3",
   "version": "3.11.3"
  }
 },
 "nbformat": 4,
 "nbformat_minor": 5
}
