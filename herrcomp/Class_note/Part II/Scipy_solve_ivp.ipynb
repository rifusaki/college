{
 "cells": [
  {
   "cell_type": "code",
   "execution_count": null,
   "id": "31428306",
   "metadata": {},
   "outputs": [],
   "source": [
    "import numpy as np\n",
    "import matplotlib.pyplot as plt\n",
    "from scipy.integrate import solve_ivp"
   ]
  },
  {
   "cell_type": "code",
   "execution_count": null,
   "id": "a7ef63e0",
   "metadata": {},
   "outputs": [],
   "source": [
    "alpha=1.1\n",
    "beta=0.4\n",
    "gamma=0.4\n",
    "delta=0.1\n",
    "\n",
    "def fun(t,y):\n",
    "    r1=alpha*y[0]-beta*y[0]*y[1]\n",
    "    r2=delta*y[0]*y[1]-gamma*y[1]\n",
    "    return [r1,r2]"
   ]
  },
  {
   "cell_type": "code",
   "execution_count": null,
   "id": "8bdb74b4",
   "metadata": {},
   "outputs": [],
   "source": [
    "y0=[100,7]\n",
    "t_span=[0,100]"
   ]
  },
  {
   "cell_type": "code",
   "execution_count": null,
   "id": "76cef48f",
   "metadata": {},
   "outputs": [],
   "source": [
    "sol=solve_ivp(fun,t_span,y0,t_eval=np.linspace(t_span[0],t_span[1],1000))"
   ]
  },
  {
   "cell_type": "code",
   "execution_count": null,
   "id": "6ac21ff2",
   "metadata": {},
   "outputs": [],
   "source": [
    "plt.plot(sol.t,sol.y[0],'r-',label='$x(t)$')\n",
    "plt.plot(sol.t,sol.y[1],'k-',label='$y(t)$')\n",
    "plt.xlabel('t',size=20)\n",
    "plt.ylabel('Size',size=20)\n",
    "plt.legend(loc='upper right')\n",
    "plt.show()"
   ]
  },
  {
   "cell_type": "code",
   "execution_count": null,
   "id": "e452f6c1",
   "metadata": {},
   "outputs": [],
   "source": [
    "alpha=0\n",
    "beta=4*np.pi**2\n",
    "delta=0.1*np.pi\n",
    "gamma=30*np.pi**2\n",
    "omega=2*np.pi\n",
    "\n",
    "def fun(t,y):\n",
    "    r1=y[1]\n",
    "    r2=gamma*np.cos(omega*t)-delta*y[1]-alpha*y[0]-beta*y[0]**3\n",
    "    return [r1,r2]"
   ]
  },
  {
   "cell_type": "code",
   "execution_count": null,
   "id": "0896b578",
   "metadata": {},
   "outputs": [],
   "source": [
    "y0=[1,0]\n",
    "t_span=[0,10]"
   ]
  },
  {
   "cell_type": "code",
   "execution_count": null,
   "id": "81570900",
   "metadata": {},
   "outputs": [],
   "source": [
    "sol=solve_ivp(fun,t_span,y0,t_eval=np.linspace(t_span[0],t_span[1],10000))"
   ]
  },
  {
   "cell_type": "code",
   "execution_count": null,
   "id": "31208f5f",
   "metadata": {},
   "outputs": [],
   "source": [
    "plt.plot(sol.t,sol.y[0],'r-',label='$x(t)$')\n",
    "#plt.plot(sol.t,sol.y[1],'k-',label='$\\dot{x}(t)$')\n",
    "plt.xlabel('t',size=20)\n",
    "plt.legend(loc='upper right')\n",
    "plt.show()"
   ]
  },
  {
   "cell_type": "code",
   "execution_count": null,
   "id": "4fe11056",
   "metadata": {},
   "outputs": [],
   "source": [
    "plt.plot(sol.y[0],sol.y[1],'k-')\n",
    "#plt.plot(sol.t,sol.y[1],'k-',label='$\\dot{x}(t)$')\n",
    "plt.xlabel(r'$x$',size=20)\n",
    "plt.ylabel(r'$\\dot{x}$',size=20)\n",
    "#plt.legend(loc='upper right')\n",
    "plt.show()"
   ]
  },
  {
   "cell_type": "code",
   "execution_count": null,
   "id": "b4c4ffc4",
   "metadata": {},
   "outputs": [],
   "source": [
    "t_span=[0,10000]\n",
    "sol=solve_ivp(fun,t_span,y0,t_eval=np.linspace(t_span[0],t_span[1],t_span[1]+1))"
   ]
  },
  {
   "cell_type": "code",
   "execution_count": null,
   "id": "2d3ca358",
   "metadata": {},
   "outputs": [],
   "source": [
    "plt.plot(sol.y[0],sol.y[1],'k.',markersize=0.5)\n",
    "#plt.plot(sol.t,sol.y[1],'k-',label='$\\dot{x}(t)$')\n",
    "plt.xlabel(r'$x$',size=20)\n",
    "plt.ylabel(r'$\\dot{x}$',size=20)\n",
    "#plt.legend(loc='upper right')\n",
    "plt.show()"
   ]
  }
 ],
 "metadata": {
  "kernelspec": {
   "display_name": "Python 3 (ipykernel)",
   "language": "python",
   "name": "python3"
  },
  "language_info": {
   "codemirror_mode": {
    "name": "ipython",
    "version": 3
   },
   "file_extension": ".py",
   "mimetype": "text/x-python",
   "name": "python",
   "nbconvert_exporter": "python",
   "pygments_lexer": "ipython3",
   "version": "3.10.6"
  }
 },
 "nbformat": 4,
 "nbformat_minor": 5
}
