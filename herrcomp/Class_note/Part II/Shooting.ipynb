{
 "cells": [
  {
   "cell_type": "code",
   "execution_count": null,
   "id": "96640afe",
   "metadata": {},
   "outputs": [],
   "source": [
    "import numpy as np\n",
    "import matplotlib.pyplot as plt\n",
    "from scipy.integrate import solve_ivp"
   ]
  },
  {
   "cell_type": "code",
   "execution_count": null,
   "id": "124d425e",
   "metadata": {},
   "outputs": [],
   "source": [
    "def fun(t,y):\n",
    "    return [y[1],-3*y[0]]"
   ]
  },
  {
   "cell_type": "code",
   "execution_count": null,
   "id": "7a6a05c2",
   "metadata": {},
   "outputs": [],
   "source": [
    "t_span=[0,2*np.pi]\n",
    "y0=[7,0.1]\n",
    "sol=solve_ivp(fun,t_span,y0,t_eval=np.linspace(t_span[0],t_span[1],100))"
   ]
  },
  {
   "cell_type": "code",
   "execution_count": null,
   "id": "5b69624b",
   "metadata": {},
   "outputs": [],
   "source": [
    "plt.plot(sol.t,sol.y[0])\n",
    "plt.plot(sol.t[-1],sol.y[0][-1],'ro')\n",
    "plt.xlabel(r'$t$')\n",
    "plt.ylabel(r'$y(t)$')\n",
    "plt.show()"
   ]
  },
  {
   "cell_type": "code",
   "execution_count": null,
   "id": "bdab651f",
   "metadata": {},
   "outputs": [],
   "source": [
    "def F(u):\n",
    "    t_span=[0,2*np.pi]\n",
    "    y0=[7,u]\n",
    "    sol=solve_ivp(fun,t_span,y0,t_eval=np.linspace(t_span[0],t_span[1],100))\n",
    "    return sol.y[0][-1]"
   ]
  },
  {
   "cell_type": "code",
   "execution_count": null,
   "id": "bdc9a415",
   "metadata": {},
   "outputs": [],
   "source": [
    "U_list=np.linspace(-2,1,20)\n",
    "F=np.vectorize(F)"
   ]
  },
  {
   "cell_type": "code",
   "execution_count": null,
   "id": "f6da1753",
   "metadata": {},
   "outputs": [],
   "source": [
    "plt.plot(U_list,F(U_list))\n",
    "plt.xlabel(r'u')\n",
    "plt.ylabel(r'$y(2\\pi)$')\n",
    "plt.show()"
   ]
  },
  {
   "cell_type": "code",
   "execution_count": null,
   "id": "9b59a166",
   "metadata": {},
   "outputs": [],
   "source": [
    "a=-10\n",
    "b=10\n",
    "for s in range(20):\n",
    "    c=(a+b)/2\n",
    "    if F(a)*F(c)<=0:\n",
    "        b=c\n",
    "    if F(c)*F(b)<0:\n",
    "        a=c\n",
    "        "
   ]
  },
  {
   "cell_type": "code",
   "execution_count": null,
   "id": "149e0231",
   "metadata": {},
   "outputs": [],
   "source": [
    "c"
   ]
  },
  {
   "cell_type": "code",
   "execution_count": null,
   "id": "380662bd",
   "metadata": {},
   "outputs": [],
   "source": [
    "F(c)"
   ]
  },
  {
   "cell_type": "code",
   "execution_count": null,
   "id": "d175d587",
   "metadata": {},
   "outputs": [],
   "source": [
    "t_span=[0,2*np.pi]\n",
    "y0=[7,c]\n",
    "sol=solve_ivp(fun,t_span,y0,t_eval=np.linspace(t_span[0],t_span[1],100))"
   ]
  },
  {
   "cell_type": "code",
   "execution_count": null,
   "id": "149eec7d",
   "metadata": {},
   "outputs": [],
   "source": [
    "plt.plot(sol.t,sol.y[0])\n",
    "plt.plot(sol.t[-1],F(c),'ro')\n",
    "plt.show()"
   ]
  },
  {
   "cell_type": "code",
   "execution_count": null,
   "id": "d6a203f6",
   "metadata": {},
   "outputs": [],
   "source": [
    "sol.y[0][-1]"
   ]
  },
  {
   "cell_type": "code",
   "execution_count": null,
   "id": "41750b38",
   "metadata": {},
   "outputs": [],
   "source": []
  }
 ],
 "metadata": {
  "kernelspec": {
   "display_name": "Python 3 (ipykernel)",
   "language": "python",
   "name": "python3"
  },
  "language_info": {
   "codemirror_mode": {
    "name": "ipython",
    "version": 3
   },
   "file_extension": ".py",
   "mimetype": "text/x-python",
   "name": "python",
   "nbconvert_exporter": "python",
   "pygments_lexer": "ipython3",
   "version": "3.10.6"
  }
 },
 "nbformat": 4,
 "nbformat_minor": 5
}
