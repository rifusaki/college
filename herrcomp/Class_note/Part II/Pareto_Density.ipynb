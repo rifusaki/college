{
 "cells": [
  {
   "cell_type": "code",
   "execution_count": null,
   "id": "c9c9965a",
   "metadata": {},
   "outputs": [],
   "source": [
    "import numpy as np\n",
    "import matplotlib.pyplot as plt"
   ]
  },
  {
   "cell_type": "code",
   "execution_count": null,
   "id": "6ca319b8",
   "metadata": {},
   "outputs": [],
   "source": [
    "np.random.normal(0.5,0.1)"
   ]
  },
  {
   "cell_type": "code",
   "execution_count": null,
   "id": "f88fc3ad",
   "metadata": {},
   "outputs": [],
   "source": [
    "np.random.pareto(1)"
   ]
  },
  {
   "cell_type": "code",
   "execution_count": null,
   "id": "cf1d0975",
   "metadata": {},
   "outputs": [],
   "source": [
    "X=np.random.pareto(0.8,10000)"
   ]
  },
  {
   "cell_type": "code",
   "execution_count": null,
   "id": "4c79d147",
   "metadata": {},
   "outputs": [],
   "source": [
    "plt.plot(X)\n",
    "plt.show()"
   ]
  },
  {
   "cell_type": "code",
   "execution_count": null,
   "id": "b925324b",
   "metadata": {},
   "outputs": [],
   "source": [
    "vals,base=np.histogram(X,bins=10**np.arange(-4,4,0.1),density=True)"
   ]
  },
  {
   "cell_type": "code",
   "execution_count": null,
   "id": "53a62fc4",
   "metadata": {},
   "outputs": [],
   "source": [
    "max(X)"
   ]
  },
  {
   "cell_type": "code",
   "execution_count": null,
   "id": "88e799c6",
   "metadata": {},
   "outputs": [],
   "source": [
    "plt.loglog(base[1:],vals,'k.')\n",
    "plt.loglog([1,10000],np.array([1.0,10000.0])**(-1.8),'r--')\n",
    "plt.ylabel(r'$\\rho(x)$',size=20)\n",
    "plt.xlabel(r'$x$',size=20)\n",
    "plt.show()"
   ]
  },
  {
   "cell_type": "code",
   "execution_count": null,
   "id": "3fd5beaf",
   "metadata": {},
   "outputs": [],
   "source": [
    "plt.semilogy(np.geomspace(0.001,10000),'k.')\n",
    "plt.show()"
   ]
  },
  {
   "cell_type": "code",
   "execution_count": null,
   "id": "7800d732",
   "metadata": {},
   "outputs": [],
   "source": [
    "import powerlaw as pl"
   ]
  },
  {
   "cell_type": "code",
   "execution_count": null,
   "id": "c40e4720",
   "metadata": {},
   "outputs": [],
   "source": [
    "!pip3 install powerlaw"
   ]
  },
  {
   "cell_type": "code",
   "execution_count": null,
   "id": "49c90824",
   "metadata": {},
   "outputs": [],
   "source": []
  }
 ],
 "metadata": {
  "kernelspec": {
   "display_name": "Python 3 (ipykernel)",
   "language": "python",
   "name": "python3"
  },
  "language_info": {
   "codemirror_mode": {
    "name": "ipython",
    "version": 3
   },
   "file_extension": ".py",
   "mimetype": "text/x-python",
   "name": "python",
   "nbconvert_exporter": "python",
   "pygments_lexer": "ipython3",
   "version": "3.10.6"
  }
 },
 "nbformat": 4,
 "nbformat_minor": 5
}
