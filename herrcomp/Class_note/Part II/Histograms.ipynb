{
 "cells": [
  {
   "cell_type": "code",
   "execution_count": null,
   "id": "089164fc",
   "metadata": {},
   "outputs": [],
   "source": [
    "import numpy as np\n",
    "import matplotlib.pyplot as plt\n",
    "from matplotlib import rc\n",
    "##\n",
    "rc('font',**{'family':'serif','serif':['Times New Roman']})\n",
    "rc('text', usetex=True)\n",
    "%matplotlib inline"
   ]
  },
  {
   "cell_type": "code",
   "execution_count": null,
   "id": "8383baa5",
   "metadata": {},
   "outputs": [],
   "source": [
    "def Pi_MC(N):\n",
    "    ncirc=0\n",
    "    for i in range(N):\n",
    "        x,y=np.random.rand(2)\n",
    "        if x**2+y**2<=1:\n",
    "            ncirc+=1\n",
    "    return 4*ncirc/N"
   ]
  },
  {
   "cell_type": "code",
   "execution_count": null,
   "id": "d2a01c21",
   "metadata": {},
   "outputs": [],
   "source": [
    "Data_PIMC=[]\n",
    "for j in range(10000):\n",
    "    Data_PIMC.append(Pi_MC(10000))"
   ]
  },
  {
   "cell_type": "code",
   "execution_count": null,
   "id": "eec65bc8",
   "metadata": {},
   "outputs": [],
   "source": [
    "plt.plot(Data_PIMC)\n",
    "plt.ylabel(r'PI_MC',size=20)\n",
    "plt.show()"
   ]
  },
  {
   "cell_type": "code",
   "execution_count": null,
   "id": "fd1c12c1",
   "metadata": {},
   "outputs": [],
   "source": [
    "np.mean(Data_PIMC)"
   ]
  },
  {
   "cell_type": "code",
   "execution_count": null,
   "id": "13768256",
   "metadata": {},
   "outputs": [],
   "source": [
    "np.std(Data_PIMC)"
   ]
  },
  {
   "cell_type": "code",
   "execution_count": null,
   "id": "9a3b3e8e",
   "metadata": {},
   "outputs": [],
   "source": [
    "counts,base=np.histogram(Data_PIMC,bins=100)"
   ]
  },
  {
   "cell_type": "code",
   "execution_count": null,
   "id": "d42ddf27",
   "metadata": {},
   "outputs": [],
   "source": [
    "len(counts)"
   ]
  },
  {
   "cell_type": "code",
   "execution_count": null,
   "id": "0459fbd0",
   "metadata": {},
   "outputs": [],
   "source": [
    "len(base)"
   ]
  },
  {
   "cell_type": "code",
   "execution_count": null,
   "id": "7131e03a",
   "metadata": {},
   "outputs": [],
   "source": [
    "plt.plot(base[1:],counts,'k.')\n",
    "plt.ylabel(r'$f(x)$',size=20)\n",
    "plt.xlabel(r'$x=\\pi_{MC}$',size=20)\n",
    "plt.show()"
   ]
  },
  {
   "cell_type": "code",
   "execution_count": null,
   "id": "ec71c849",
   "metadata": {},
   "outputs": [],
   "source": [
    "X=np.random.rand(100)\n",
    "Y=np.random.rand(100)"
   ]
  },
  {
   "cell_type": "code",
   "execution_count": null,
   "id": "3aa066e5",
   "metadata": {},
   "outputs": [],
   "source": [
    "sum(X**2+Y**2<=1)"
   ]
  },
  {
   "cell_type": "code",
   "execution_count": null,
   "id": "15c6b010",
   "metadata": {},
   "outputs": [],
   "source": [
    "def Pi_MC2(N):\n",
    "    X=np.random.rand(N)\n",
    "    Y=np.random.rand(N)\n",
    "    return 4*sum(X**2+Y**2<=1)/N"
   ]
  },
  {
   "cell_type": "code",
   "execution_count": null,
   "id": "04f4328b",
   "metadata": {},
   "outputs": [],
   "source": [
    "Data_PIMC=[]\n",
    "for j in range(100000):\n",
    "    Data_PIMC.append(Pi_MC2(10000))"
   ]
  },
  {
   "cell_type": "code",
   "execution_count": null,
   "id": "82f5c5d5",
   "metadata": {},
   "outputs": [],
   "source": [
    "np.sqrt(100000)"
   ]
  },
  {
   "cell_type": "code",
   "execution_count": null,
   "id": "acdc2c21",
   "metadata": {},
   "outputs": [],
   "source": [
    "counts,base=np.histogram(Data_PIMC,bins=100)"
   ]
  },
  {
   "cell_type": "code",
   "execution_count": null,
   "id": "058947a2",
   "metadata": {},
   "outputs": [],
   "source": [
    "plt.plot(base[1:],counts,'k.')\n",
    "plt.ylabel(r'$f(x)$',size=20)\n",
    "plt.xlabel(r'$x=\\pi_{MC}$',size=20)\n",
    "plt.show()"
   ]
  },
  {
   "cell_type": "code",
   "execution_count": null,
   "id": "c2eae2cc",
   "metadata": {},
   "outputs": [],
   "source": [
    "np.mean(Data_PIMC)"
   ]
  },
  {
   "cell_type": "code",
   "execution_count": null,
   "id": "a11da010",
   "metadata": {},
   "outputs": [],
   "source": [
    "import pandas as pd"
   ]
  },
  {
   "cell_type": "code",
   "execution_count": null,
   "id": "9be3ff11",
   "metadata": {},
   "outputs": [],
   "source": [
    "df_dis=pd.read_csv(\"/home/alejandro/Desktop/Clase Markov/Datos Mayo 19 2023/dis_us_d.csv\")"
   ]
  },
  {
   "cell_type": "code",
   "execution_count": null,
   "id": "a272dc31",
   "metadata": {},
   "outputs": [],
   "source": [
    "df_dis.head()"
   ]
  },
  {
   "cell_type": "code",
   "execution_count": null,
   "id": "b43ae6ba",
   "metadata": {},
   "outputs": [],
   "source": [
    "df_dis.tail()"
   ]
  },
  {
   "cell_type": "code",
   "execution_count": null,
   "id": "7187069f",
   "metadata": {},
   "outputs": [],
   "source": [
    "plt.plot(df_dis['Open'])\n",
    "plt.ylabel(r'Price DIS',size=20)\n",
    "plt.show()"
   ]
  },
  {
   "cell_type": "code",
   "execution_count": null,
   "id": "847b48d1",
   "metadata": {},
   "outputs": [],
   "source": [
    "price_dis=np.array(df_dis['Open'])"
   ]
  },
  {
   "cell_type": "code",
   "execution_count": null,
   "id": "9c15910a",
   "metadata": {},
   "outputs": [],
   "source": [
    "Delta_dis=(price_dis[1:]-price_dis[:-1])/price_dis[:-1]"
   ]
  },
  {
   "cell_type": "code",
   "execution_count": null,
   "id": "101abc83",
   "metadata": {},
   "outputs": [],
   "source": [
    "price_dis"
   ]
  },
  {
   "cell_type": "code",
   "execution_count": null,
   "id": "38909922",
   "metadata": {},
   "outputs": [],
   "source": [
    "plt.plot(Delta_dis)\n",
    "plt.ylabel(r'$\\Delta$',size=20)\n",
    "plt.show()"
   ]
  },
  {
   "cell_type": "code",
   "execution_count": null,
   "id": "5cac53f6",
   "metadata": {},
   "outputs": [],
   "source": [
    "counts,base=np.histogram(Delta_dis,bins=100)"
   ]
  },
  {
   "cell_type": "code",
   "execution_count": null,
   "id": "34292508",
   "metadata": {},
   "outputs": [],
   "source": [
    "np.sqrt(len(Delta_dis))"
   ]
  },
  {
   "cell_type": "code",
   "execution_count": null,
   "id": "2ef24a48",
   "metadata": {},
   "outputs": [],
   "source": [
    "plt.plot(base[1:],counts,'k.')\n",
    "plt.ylabel(r'$f(\\Delta)$',size=20)\n",
    "plt.xlabel(r'$\\Delta$',size=20)\n",
    "plt.show()"
   ]
  },
  {
   "cell_type": "code",
   "execution_count": null,
   "id": "6d5c55c7",
   "metadata": {},
   "outputs": [],
   "source": [
    "P_dis=Delta_dis[Delta_dis>0]"
   ]
  },
  {
   "cell_type": "code",
   "execution_count": null,
   "id": "ea54f31b",
   "metadata": {},
   "outputs": [],
   "source": [
    "counts,base=np.histogram(P_dis,bins=100)"
   ]
  },
  {
   "cell_type": "code",
   "execution_count": null,
   "id": "02e7af37",
   "metadata": {},
   "outputs": [],
   "source": [
    "plt.loglog(base[1:],counts,'k.')\n",
    "plt.ylabel(r'$f(\\Delta>0)$',size=20)\n",
    "plt.xlabel(r'$\\Delta>0$',size=20)\n",
    "plt.show()"
   ]
  },
  {
   "cell_type": "code",
   "execution_count": null,
   "id": "ec4c34d5",
   "metadata": {},
   "outputs": [],
   "source": []
  },
  {
   "cell_type": "code",
   "execution_count": null,
   "id": "ea248357",
   "metadata": {},
   "outputs": [],
   "source": [
    "P_dis=Delta_dis[Delta_dis>0]\n",
    "binlist=10**np.linspace(-3,-0.5,100)\n",
    "counts,base=np.histogram(P_dis,bins=binlist,density=True)"
   ]
  },
  {
   "cell_type": "code",
   "execution_count": null,
   "id": "8696fce9",
   "metadata": {},
   "outputs": [],
   "source": [
    "plt.loglog(base[1:],counts,'k.')\n",
    "plt.ylabel(r'$f(\\Delta>0)$',size=20)\n",
    "plt.xlabel(r'$\\Delta>0$',size=20)\n",
    "plt.show()"
   ]
  },
  {
   "cell_type": "code",
   "execution_count": null,
   "id": "792e0fdd",
   "metadata": {},
   "outputs": [],
   "source": [
    "N_dis=Delta_dis[Delta_dis<0]\n",
    "binlist=10**np.linspace(-3,-0.5,100)\n",
    "counts,base=np.histogram(abs(N_dis),bins=binlist,density=True)"
   ]
  },
  {
   "cell_type": "code",
   "execution_count": null,
   "id": "2535ee43",
   "metadata": {},
   "outputs": [],
   "source": [
    "plt.loglog(base[1:],counts,'k.')\n",
    "plt.ylabel(r'$f(\\Delta<0)$',size=20)\n",
    "plt.xlabel(r'$|\\Delta|$',size=20)\n",
    "plt.show()"
   ]
  },
  {
   "cell_type": "code",
   "execution_count": null,
   "id": "15d33e51",
   "metadata": {},
   "outputs": [],
   "source": [
    "df_nvda=pd.read_csv(\"/home/alejandro/Desktop/Clase Markov/Datos Mayo 19 2023/nvda_us_d.csv\")"
   ]
  },
  {
   "cell_type": "code",
   "execution_count": null,
   "id": "d3d26184",
   "metadata": {},
   "outputs": [],
   "source": [
    "df_nvda.head()"
   ]
  },
  {
   "cell_type": "code",
   "execution_count": null,
   "id": "a5aa4c34",
   "metadata": {},
   "outputs": [],
   "source": [
    "plt.plot(df_nvda['Open'])\n",
    "plt.ylabel(r'Price NVDA',size=20)\n",
    "plt.show()"
   ]
  },
  {
   "cell_type": "code",
   "execution_count": null,
   "id": "572950a0",
   "metadata": {},
   "outputs": [],
   "source": [
    "price_nvda=np.array(df_nvda['Open'])"
   ]
  },
  {
   "cell_type": "code",
   "execution_count": null,
   "id": "7ea75b16",
   "metadata": {},
   "outputs": [],
   "source": [
    "Delta=abs(price_nvda[1:]-price_nvda[:-1])/price_nvda[:-1]"
   ]
  },
  {
   "cell_type": "code",
   "execution_count": null,
   "id": "83310c04",
   "metadata": {},
   "outputs": [],
   "source": [
    "binlist=10**np.linspace(-3,-0.3,100)\n",
    "counts,base=np.histogram(Delta,bins=binlist,density=True)"
   ]
  },
  {
   "cell_type": "code",
   "execution_count": null,
   "id": "1c36236d",
   "metadata": {},
   "outputs": [],
   "source": [
    "plt.loglog(base[1:],counts,'k.')\n",
    "plt.ylabel(r'$\\rho(|\\Delta|)$',size=20)\n",
    "plt.xlabel(r'$|\\Delta|$',size=20)\n",
    "plt.show()"
   ]
  },
  {
   "cell_type": "code",
   "execution_count": null,
   "id": "faba96a9",
   "metadata": {},
   "outputs": [],
   "source": []
  }
 ],
 "metadata": {
  "kernelspec": {
   "display_name": "Python 3 (ipykernel)",
   "language": "python",
   "name": "python3"
  },
  "language_info": {
   "codemirror_mode": {
    "name": "ipython",
    "version": 3
   },
   "file_extension": ".py",
   "mimetype": "text/x-python",
   "name": "python",
   "nbconvert_exporter": "python",
   "pygments_lexer": "ipython3",
   "version": "3.10.6"
  }
 },
 "nbformat": 4,
 "nbformat_minor": 5
}
