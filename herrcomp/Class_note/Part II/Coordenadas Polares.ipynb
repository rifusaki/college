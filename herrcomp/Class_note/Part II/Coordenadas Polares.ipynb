{
 "cells": [
  {
   "cell_type": "code",
   "execution_count": null,
   "id": "68d8aa9b",
   "metadata": {},
   "outputs": [],
   "source": [
    "import numpy as np\n",
    "import matplotlib.pyplot as plt\n",
    "import matplotlib.cm as cm\n",
    "\n",
    "\n",
    "a = np.linspace(0,4*np.pi/3,50)\n",
    "b = np.linspace(0,1,50)\n",
    "A, B = np.meshgrid(a, b)\n",
    "c = np.random.random(A.shape)\n",
    "\n",
    "# plotting\n",
    "ax = plt.subplot(111, polar=True)\n",
    "ax.set_yticklabels([])\n",
    "ctf = ax.contourf(a, b, c, cmap=cm.magma_r)\n",
    "plt.colorbar(ctf)\n",
    "plt.axis([0,4*np.pi/3,0,1])\n",
    "plt.show()"
   ]
  },
  {
   "cell_type": "code",
   "execution_count": null,
   "id": "e08b7c0c",
   "metadata": {},
   "outputs": [],
   "source": [
    "a = np.linspace(0,2*np.pi,500)\n",
    "b = np.linspace(0,2.5,1000)\n",
    "A, B = np.meshgrid(a, b)\n",
    "c = np.random.random(A.shape)\n",
    "\n",
    "# plotting\n",
    "ax = plt.subplot(111, polar=True)\n",
    "ax.set_yticklabels([])\n",
    "ctf = ax.contourf(a, b, c, cmap=cm.jet)\n",
    "plt.colorbar(ctf)\n",
    "plt.axis([0,2*np.pi,0,2.5])\n",
    "plt.show()"
   ]
  },
  {
   "cell_type": "code",
   "execution_count": null,
   "id": "b739038d",
   "metadata": {},
   "outputs": [],
   "source": [
    "plt.imshow(c,cmap=cm.jet)\n",
    "plt.colorbar()\n",
    "plt.show()"
   ]
  },
  {
   "cell_type": "code",
   "execution_count": null,
   "id": "5fcfa659",
   "metadata": {},
   "outputs": [],
   "source": []
  }
 ],
 "metadata": {
  "kernelspec": {
   "display_name": "Python 3 (ipykernel)",
   "language": "python",
   "name": "python3"
  },
  "language_info": {
   "codemirror_mode": {
    "name": "ipython",
    "version": 3
   },
   "file_extension": ".py",
   "mimetype": "text/x-python",
   "name": "python",
   "nbconvert_exporter": "python",
   "pygments_lexer": "ipython3",
   "version": "3.10.6"
  }
 },
 "nbformat": 4,
 "nbformat_minor": 5
}
