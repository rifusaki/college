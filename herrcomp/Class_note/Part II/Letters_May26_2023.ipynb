{
 "cells": [
  {
   "cell_type": "code",
   "execution_count": null,
   "id": "e82a84e8",
   "metadata": {},
   "outputs": [],
   "source": [
    "import numpy as np\n",
    "import matplotlib.pyplot as plt"
   ]
  },
  {
   "cell_type": "code",
   "execution_count": null,
   "id": "81bb5253",
   "metadata": {},
   "outputs": [],
   "source": [
    "Data=np.loadtxt(\"characters_moby.txt\",dtype=str)"
   ]
  },
  {
   "cell_type": "code",
   "execution_count": null,
   "id": "d24e6afd",
   "metadata": {},
   "outputs": [],
   "source": [
    "vals,freq=np.unique(Data,return_counts=True)"
   ]
  },
  {
   "cell_type": "code",
   "execution_count": null,
   "id": "d1f5d135",
   "metadata": {},
   "outputs": [],
   "source": [
    "plt.plot(vals,freq,'k.')\n",
    "plt.show()"
   ]
  },
  {
   "cell_type": "code",
   "execution_count": null,
   "id": "0b8cc47d",
   "metadata": {},
   "outputs": [],
   "source": [
    "index_sort=np.argsort(freq)[::-1]"
   ]
  },
  {
   "cell_type": "code",
   "execution_count": null,
   "id": "dcb5cb76",
   "metadata": {},
   "outputs": [],
   "source": [
    "index_sort"
   ]
  },
  {
   "cell_type": "code",
   "execution_count": null,
   "id": "807fe47f",
   "metadata": {},
   "outputs": [],
   "source": [
    "plt.plot(vals[index_sort],freq[index_sort],'k.')\n",
    "plt.show()"
   ]
  },
  {
   "cell_type": "code",
   "execution_count": null,
   "id": "54c54951",
   "metadata": {},
   "outputs": [],
   "source": []
  }
 ],
 "metadata": {
  "kernelspec": {
   "display_name": "Python 3 (ipykernel)",
   "language": "python",
   "name": "python3"
  },
  "language_info": {
   "codemirror_mode": {
    "name": "ipython",
    "version": 3
   },
   "file_extension": ".py",
   "mimetype": "text/x-python",
   "name": "python",
   "nbconvert_exporter": "python",
   "pygments_lexer": "ipython3",
   "version": "3.10.6"
  }
 },
 "nbformat": 4,
 "nbformat_minor": 5
}
