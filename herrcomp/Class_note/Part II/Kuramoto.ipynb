{
 "cells": [
  {
   "cell_type": "code",
   "execution_count": null,
   "id": "37f892d2",
   "metadata": {},
   "outputs": [],
   "source": [
    "import numpy as np\n",
    "import matplotlib.pyplot as plt\n",
    "from scipy.integrate import solve_ivp"
   ]
  },
  {
   "cell_type": "code",
   "execution_count": null,
   "id": "6b966f8f",
   "metadata": {},
   "outputs": [],
   "source": [
    "matA=[[0,1,1,1,1],[1,0,0,0,1],[1,0,0,0,0],[1,0,0,0,0],[1,1,0,0,0]]\n",
    "Nv=len(matA)"
   ]
  },
  {
   "cell_type": "code",
   "execution_count": null,
   "id": "42da4b93",
   "metadata": {},
   "outputs": [],
   "source": [
    "plt.imshow(matA)\n",
    "plt.show()"
   ]
  },
  {
   "cell_type": "code",
   "execution_count": null,
   "id": "0fb179f0",
   "metadata": {},
   "outputs": [],
   "source": [
    "def fun(t,y):\n",
    "    R_list=[]\n",
    "    for i in range(Nv):\n",
    "        val=sum(matA[i][j]*np.sin(y[j]-y[i]) for j in range(Nv))\n",
    "        R_list.append(val)\n",
    "    return R_list"
   ]
  },
  {
   "cell_type": "code",
   "execution_count": null,
   "id": "800789e3",
   "metadata": {},
   "outputs": [],
   "source": []
  },
  {
   "cell_type": "code",
   "execution_count": null,
   "id": "546c17e3",
   "metadata": {},
   "outputs": [],
   "source": [
    "y0=2*np.pi*np.random.rand(Nv)\n",
    "t_span=[0,10]\n",
    "sol=solve_ivp(fun,t_span,y0,t_eval=np.linspace(t_span[0],t_span[1],1000))"
   ]
  },
  {
   "cell_type": "code",
   "execution_count": null,
   "id": "5037ef9a",
   "metadata": {},
   "outputs": [],
   "source": [
    "for i in range(Nv):\n",
    "    plt.plot(sol.t,sol.y[i],'-',label=str(i+1))\n",
    "plt.xlabel(r'$t$',size=20)\n",
    "plt.ylabel(r'$\\theta(t)$',size=20)\n",
    "plt.legend(loc='upper right')\n",
    "plt.show()"
   ]
  },
  {
   "cell_type": "code",
   "execution_count": null,
   "id": "af86fea7",
   "metadata": {},
   "outputs": [],
   "source": [
    "matA=[[0,1,0,0,1],[1,0,1,0,0],[0,1,0,1,0],[0,0,1,0,1],[1,0,0,1,0]]\n",
    "Nv=len(matA)"
   ]
  },
  {
   "cell_type": "code",
   "execution_count": null,
   "id": "d2d1f35e",
   "metadata": {},
   "outputs": [],
   "source": [
    "plt.imshow(matA)"
   ]
  },
  {
   "cell_type": "code",
   "execution_count": null,
   "id": "843de6bc",
   "metadata": {},
   "outputs": [],
   "source": [
    "y0=2*np.pi*np.random.rand(Nv)\n",
    "t_span=[0,10]\n",
    "sol=solve_ivp(fun,t_span,y0,t_eval=np.linspace(t_span[0],t_span[1],1000))"
   ]
  },
  {
   "cell_type": "code",
   "execution_count": null,
   "id": "b19c4c41",
   "metadata": {},
   "outputs": [],
   "source": [
    "for i in range(Nv):\n",
    "    plt.plot(sol.t,sol.y[i],'-',label=str(i+1))\n",
    "plt.xlabel(r'$t$',size=20)\n",
    "plt.ylabel(r'$\\theta(t)$',size=20)\n",
    "plt.legend(loc='upper right')\n",
    "plt.show()"
   ]
  }
 ],
 "metadata": {
  "kernelspec": {
   "display_name": "Python 3 (ipykernel)",
   "language": "python",
   "name": "python3"
  },
  "language_info": {
   "codemirror_mode": {
    "name": "ipython",
    "version": 3
   },
   "file_extension": ".py",
   "mimetype": "text/x-python",
   "name": "python",
   "nbconvert_exporter": "python",
   "pygments_lexer": "ipython3",
   "version": "3.10.6"
  }
 },
 "nbformat": 4,
 "nbformat_minor": 5
}
