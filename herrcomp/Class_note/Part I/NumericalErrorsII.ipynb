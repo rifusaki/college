{
 "cells": [
  {
   "cell_type": "markdown",
   "id": "6bdb43a8-bbf2-4f7d-9ad4-c42fdd92de00",
   "metadata": {
    "id": "6bdb43a8-bbf2-4f7d-9ad4-c42fdd92de00"
   },
   "source": [
    "Before you turn this problem in, make sure everything runs as expected. First, **restart the kernel** (in the menubar, select Kernel$\\rightarrow$Restart) and then **run all cells** (in the menubar, select Cell$\\rightarrow$Run All).\n",
    "\n",
    "Make sure you fill in any place that says `YOUR CODE HERE` or \"YOUR ANSWER HERE\", as well as your name and collaborators below:"
   ]
  },
  {
   "cell_type": "code",
   "execution_count": null,
   "id": "cba1c46c-bbc6-446d-b610-8095fc85ffb0",
   "metadata": {
    "id": "cba1c46c-bbc6-446d-b610-8095fc85ffb0"
   },
   "outputs": [],
   "source": [
    "NAME = \"\"\n",
    "COLLABORATORS = \"NONE\""
   ]
  },
  {
   "cell_type": "markdown",
   "id": "6df6270b",
   "metadata": {
    "deletable": false,
    "editable": false,
    "id": "6df6270b",
    "nbgrader": {
     "cell_type": "markdown",
     "checksum": "bef81361b32288939078a0751c44a319",
     "grade": false,
     "grade_id": "cell-237852e2d5fff727",
     "locked": true,
     "schema_version": 3,
     "solution": false,
     "task": false
    }
   },
   "source": [
    "# Numerical errors II : types of errors and general remarks\n",
    "In this notebook we will check several simple examples showing the intrincacies that could arise when using floating point (FP) arithmetic. Before starting, let's make clear some key ideas:\n",
    "- FP is well defined through the IEEE754 standard. \n",
    "- A simple substraction could destroy 15 decimal places of precision\n",
    "- You should not cast floats to integers\n",
    "- You should normalize your models to natural units\n",
    "- Addition is not always associative: $x + (y + z) \\ne (x+y) + z$, when $x = -1.5\\times 10^{38}, y = +1.5\\times 10^{38}, z = 1.0$ (single precision)\n",
    "- All numbers can be represented in binary: false. Check 0.1, or 0.3\n",
    "\n",
    "For some dramatic examples of FP errors, check:\n",
    "- https://www.iro.umontreal.ca/~mignotte/IFT2425/Disasters.html\n",
    "- https://web.ma.utexas.edu/users/arbogast/misc/disasters.html\n",
    "- https://slate.com/technology/2019/10/round-floor-software-errors-stock-market-battlefield.html\n",
    "- https://stackoverflow.com/questions/2732845/real-life-example-fo-floating-point-error\n",
    "\n",
    "# Kind of errors\n",
    "- Probability of an error: `start` $\\to U_1 \\to U_2 \\to \\ldots \\to U_n \\to$ `end`\n",
    "- Blunders: Typographical, wrong program, etc\n",
    "- Random errors: Electronics, alien invasion, etc\n",
    "- Approximation: (mathematical series truncation)\n",
    "- Roundoff and truncation of a number in the computer representation\n",
    "\n",
    "## Roundoff/truncation example\n",
    "Let's compute the following sum as a function of $k$, \n",
    "$$f(k) = \\left|\\frac{k}{10} - \\sum_{i=1}^k 0.1\\right|$$\n",
    "Mathematically, this function should give 0 always. Is that true?\n",
    "\n",
    "\n"
   ]
  },
  {
   "cell_type": "code",
   "execution_count": null,
   "id": "a0b3b5cd",
   "metadata": {
    "deletable": false,
    "id": "a0b3b5cd",
    "nbgrader": {
     "cell_type": "code",
     "checksum": "6d329bbbe0bb64563b7b0f81b3b9298b",
     "grade": false,
     "grade_id": "cell-87b28f852cecedf8",
     "locked": false,
     "schema_version": 3,
     "solution": true,
     "task": false
    }
   },
   "outputs": [],
   "source": [
    "%matplotlib inline\n",
    "import numpy as np\n",
    "import matplotlib.pyplot as plt\n",
    "def plot_diff(kmax):\n",
    "    \"\"\"\n",
    "    This function computes and plot the function f(k), up to a kmax\n",
    "    \"\"\"\n",
    "    # YOUR CODE HERE\n",
    "    raise NotImplementedError()\n",
    "    \n",
    "plot_diff(100000)"
   ]
  },
  {
   "cell_type": "markdown",
   "id": "002c0945",
   "metadata": {
    "deletable": false,
    "editable": false,
    "id": "002c0945",
    "nbgrader": {
     "cell_type": "markdown",
     "checksum": "70e6d31473842befec7a19479e6d6157",
     "grade": false,
     "grade_id": "cell-dbe9d88024d4d77f",
     "locked": true,
     "schema_version": 3,
     "solution": false,
     "task": false
    }
   },
   "source": [
    "![Untitled.png](attachment:Untitled.png)"
   ]
  },
  {
   "cell_type": "markdown",
   "id": "6aaea162",
   "metadata": {
    "deletable": false,
    "editable": false,
    "id": "6aaea162",
    "nbgrader": {
     "cell_type": "markdown",
     "checksum": "a171c2db434c0cf230c45ef2f368d25b",
     "grade": false,
     "grade_id": "cell-cfad7322db76a805",
     "locked": true,
     "schema_version": 3,
     "solution": false,
     "task": false
    }
   },
   "source": [
    "## Substractive cancellation\n",
    "Given $a = b-c$, then $a_c = b_c-c_c$, therefore\n",
    "\\begin{align}\n",
    "a_c &= a(1+\\epsilon_a ) = b_c - c_c = b(1+\\epsilon_b ) - c(1+\\epsilon_c )\\\\\n",
    "\\frac{a_c}{a} &= 1 + \\epsilon_b \\frac{b}{a} - \\frac{c}{a}\\epsilon_c  \n",
    "\\end{align}\n",
    "so the error in $a$ is about\n",
    "$$\\epsilon_a = \\frac{b}{a}(\\epsilon_b - \\epsilon_c), $$ \n",
    "which is much larger, when $b$ and $c$ are close (so $a$ is small).\n",
    "\n",
    "### Example of substrative cancellation\n",
    "The following series,\n",
    "$$S_N^{(1)} = \\sum_{n=1}^{2N} (-1)^n \\frac{n}{n+1},$$\n",
    "can be written in two mathematically equivalent ways:\n",
    "$$S_N^{(2)} = -\\sum_{n=1}^{N} \\frac{2n-1}{2n} + \\sum_{n=1}^{N} \\frac{2n}{2n+1},$$\n",
    "and\n",
    "$$S_N^{(3)} = \\sum_{n=1}^{N} \\frac{1}{2n(2n+1)}.$$\n",
    "\n",
    "**Could there be any computational difference? why?**\n",
    "\n",
    "Write a program that compute all sums, and , assuming that $S_n^{(3)}$ is the best option (why?), plots the relative difference with the other sums as a function of $N$. "
   ]
  },
  {
   "cell_type": "code",
   "execution_count": null,
   "id": "5cd3dad6",
   "metadata": {
    "deletable": false,
    "id": "5cd3dad6",
    "nbgrader": {
     "cell_type": "code",
     "checksum": "c30e083fa9be525400da172072d17743",
     "grade": false,
     "grade_id": "cell-519994f6858e5b46",
     "locked": false,
     "schema_version": 3,
     "solution": true,
     "task": false
    }
   },
   "outputs": [],
   "source": [
    "# Substracting cancellation\n",
    "import numpy as np\n",
    "import matplotlib.pyplot as plt\n",
    "%matplotlib inline\n",
    "\n",
    "def sum1(N):\n",
    "    # YOUR CODE HERE\n",
    "    raise NotImplementedError()\n",
    "\n",
    "def sum2(N):\n",
    "    # YOUR CODE HERE\n",
    "    raise NotImplementedError()\n",
    "\n",
    "def sum3(N):\n",
    "    # YOUR CODE HERE\n",
    "    raise NotImplementedError()\n",
    "\n",
    "def plot_diff_sums(N):\n",
    "    \"\"\"\n",
    "    Plots the relative difference among three sums which are the same mathematically\n",
    "    \"\"\"\n",
    "    adata = np.zeros(N+1)\n",
    "    bdata = np.zeros(N+1)\n",
    "    for n in range(1, N+1):\n",
    "        #print n, sum1(n), sum2(n), sum3(n)\n",
    "        #adata[n] = sum1(n)\n",
    "        #bdata[n] = sum3(n)\n",
    "        adata[n] = abs((sum1(n) - sum3(n))/sum3(n))\n",
    "        bdata[n] = abs((sum2(n) - sum3(n))/sum3(n))\n",
    "\n",
    "    fig, axes = plt.subplots()\n",
    "    axes.plot(adata, \"o-\", ms=6.0, label=\"%sum1\")\n",
    "    axes.plot(bdata, \"g*--\", ms = 9.0, label=\"%sum2\")\n",
    "    axes.set_xscale(\"log\")\n",
    "    axes.set_yscale(\"log\")\n",
    "    axes.legend(loc=2)\n",
    "    \n",
    "plot_diff_sums(1000)"
   ]
  },
  {
   "cell_type": "markdown",
   "id": "18760ebf",
   "metadata": {
    "deletable": false,
    "editable": false,
    "id": "18760ebf",
    "nbgrader": {
     "cell_type": "markdown",
     "checksum": "3462a63fc0d08cf7aae287be2ab4c9cd",
     "grade": false,
     "grade_id": "cell-a635d3a84ef8a6ce",
     "locked": true,
     "schema_version": 3,
     "solution": false,
     "task": false
    }
   },
   "source": [
    "![Untitled.png](attachment:Untitled.png)"
   ]
  },
  {
   "cell_type": "markdown",
   "id": "386446d0",
   "metadata": {
    "deletable": false,
    "editable": false,
    "id": "386446d0",
    "nbgrader": {
     "cell_type": "markdown",
     "checksum": "320dc496e85649f28c71a05d6db4ff8d",
     "grade": false,
     "grade_id": "cell-e23806ed87fd4701",
     "locked": true,
     "schema_version": 3,
     "solution": false,
     "task": false
    }
   },
   "source": [
    "## Significant figures and relative precision\n",
    "Even simple cases like changing a sum order can give surprising results: Compute the following two sums and plot their relative difference as functions of $N$,\n",
    "$$S_N^{(1)}  = \\sum_{n=1}^{N} \\frac{1}{n}$$\n",
    "$$S_N^{(2)}  = \\sum_{n=N}^{1} \\frac{1}{n}$$"
   ]
  },
  {
   "cell_type": "code",
   "execution_count": null,
   "id": "3b04894a",
   "metadata": {
    "deletable": false,
    "id": "3b04894a",
    "nbgrader": {
     "cell_type": "code",
     "checksum": "bdd310fcfe212939aea4ddd9c1a6708b",
     "grade": false,
     "grade_id": "cell-0a3cdb9bd15f1af9",
     "locked": false,
     "schema_version": 3,
     "solution": true,
     "task": false
    }
   },
   "outputs": [],
   "source": [
    "import numpy as np\n",
    "import matplotlib.pyplot as plt\n",
    "%matplotlib inline\n",
    "\n",
    "# Significant figures    \n",
    "def plot_sum_sigfig(NMAX):\n",
    "    xdata = np.arange(1, NMAX+1)\n",
    "    ydata = np.zeros(NMAX)\n",
    "    sumup = 0.0\n",
    "    sumdown = 0.0\n",
    "    # YOUR CODE HERE\n",
    "    raise NotImplementedError()\n",
    "    \n",
    "plot_sum_sigfig(100000)"
   ]
  },
  {
   "cell_type": "markdown",
   "id": "c21c912a",
   "metadata": {
    "deletable": false,
    "editable": false,
    "id": "c21c912a",
    "nbgrader": {
     "cell_type": "markdown",
     "checksum": "3f64976e876ab38f3a8ec8ae6419840d",
     "grade": false,
     "grade_id": "cell-074ad15319bde0b1",
     "locked": true,
     "schema_version": 3,
     "solution": false,
     "task": false
    }
   },
   "source": [
    "![Untitled.png](attachment:Untitled.png)"
   ]
  },
  {
   "cell_type": "markdown",
   "id": "46e1c550",
   "metadata": {
    "deletable": false,
    "editable": false,
    "id": "46e1c550",
    "nbgrader": {
     "cell_type": "markdown",
     "checksum": "46e44fa573bb33ac6df4973e4a57d82e",
     "grade": false,
     "grade_id": "cell-698781aaf8c733a2",
     "locked": true,
     "schema_version": 3,
     "solution": false,
     "task": false
    }
   },
   "source": [
    "## Multiplicative errors\n",
    "When you multiply numbers, like in the expression $a = b\\times c$, it is possible to show that the error is \n",
    "$$1 + \\epsilon_a + \\epsilon_b$$\n",
    "\n",
    "## Errors in algorithms and their computational implementation\n",
    "As you can see, there are several source for errors in computation. Some come from the mathematical approximation, , called $\\epsilon_a$, and some others are intrinsic from the numerical representation, and we can call them $\\epsilon_r$. Sometimes, the rounding/truncation error are modeled as a random walk, $\\epsilon_r \\simeq \\sqrt{N} \\epsilon_m$, where $\\epsilon_m$ is the machine precision, and $N$ is the representative number of \"steps\".  From here, the total error can be estimated as \n",
    "\\begin{align}\n",
    "\\epsilon_{\\rm tot} &= \\epsilon_a + \\epsilon_r \\\\\n",
    "&= \\frac{\\alpha}{N^\\beta} + \\sqrt{N} \\epsilon_m.\n",
    "\\end{align}\n",
    "You can derive this equation an compute the optimal value for $N$, which will depend on the order of the mathematical algorithm and the machine precision. The next table show some examples that illustrate this point:\n",
    "\n",
    "![CleanShot%202022-08-21%20at%2000.12.12@2x.png](attachment:CleanShot%202022-08-21%20at%2000.12.12@2x.png)\n"
   ]
  },
  {
   "cell_type": "code",
   "execution_count": null,
   "id": "d699bd7e",
   "metadata": {
    "id": "d699bd7e"
   },
   "outputs": [],
   "source": []
  }
 ],
 "metadata": {
  "colab": {
   "provenance": []
  },
  "kernelspec": {
   "display_name": "Python 3 (ipykernel)",
   "language": "python",
   "name": "python3"
  },
  "language_info": {
   "codemirror_mode": {
    "name": "ipython",
    "version": 3
   },
   "file_extension": ".py",
   "mimetype": "text/x-python",
   "name": "python",
   "nbconvert_exporter": "python",
   "pygments_lexer": "ipython3",
   "version": "3.10.6"
  },
  "toc": {
   "base_numbering": 1,
   "nav_menu": {},
   "number_sections": true,
   "sideBar": true,
   "skip_h1_title": false,
   "title_cell": "Table of Contents",
   "title_sidebar": "Contents",
   "toc_cell": false,
   "toc_position": {},
   "toc_section_display": true,
   "toc_window_display": true
  },
  "vscode": {
   "interpreter": {
    "hash": "b0fa6594d8f4cbf19f97940f81e996739fb7646882a419484c72d19e05852a7e"
   }
  }
 },
 "nbformat": 4,
 "nbformat_minor": 5
}
