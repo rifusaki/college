{
 "cells": [
  {
   "attachments": {},
   "cell_type": "markdown",
   "metadata": {},
   "source": [
    "**Patrones de Turing**\n",
    "\n",
    "*David Sáenz Lancheros*"
   ]
  },
  {
   "cell_type": "code",
   "execution_count": null,
   "metadata": {},
   "outputs": [],
   "source": [
    "import numpy as np\n",
    "import matplotlib.pyplot as plt"
   ]
  },
  {
   "attachments": {},
   "cell_type": "markdown",
   "metadata": {},
   "source": [
    "**Laplaciano**"
   ]
  },
  {
   "cell_type": "code",
   "execution_count": null,
   "metadata": {},
   "outputs": [],
   "source": [
    "def laplace(A,h):\n",
    "    At=A[0:-2,1:-1]\n",
    "    Al=A[1:-1,0:-2]\n",
    "    Ab=A[2:,1:-1]\n",
    "    Ar=A[1:-1,2:]\n",
    "    Ac=A[1:-1,1:-1]\n",
    "    return (At+Al+Ab+Ar-4*Ac)/h**2"
   ]
  },
  {
   "attachments": {},
   "cell_type": "markdown",
   "metadata": {},
   "source": [
    "Parámetros"
   ]
  },
  {
   "cell_type": "code",
   "execution_count": null,
   "metadata": {},
   "outputs": [],
   "source": [
    "a=0.00028\n",
    "b=0.005\n",
    "tao=0.1\n",
    "kap=-0.005\n",
    "h=0.02\n",
    "dt=0.001\n",
    "T=10#Tiempo total en segundos\n",
    "Deltat=2#Para poder gráficar cada dos segundos\n",
    "n1=int(1/h)\n",
    "n2=int(T/dt)"
   ]
  },
  {
   "attachments": {},
   "cell_type": "markdown",
   "metadata": {},
   "source": [
    "Matrices"
   ]
  },
  {
   "cell_type": "code",
   "execution_count": null,
   "metadata": {},
   "outputs": [],
   "source": [
    "X=np.linspace(0,1,n1)\n",
    "Y=np.linspace(0,1,n1)\n",
    "T=np.linspace(0,T,n2)\n",
    "Psi= np.random.rand(len(X),len(Y))\n",
    "Phi= np.random.rand(len(X),len(Y))\n"
   ]
  },
  {
   "cell_type": "code",
   "execution_count": null,
   "metadata": {},
   "outputs": [],
   "source": [
    "for n in range(n2+1):\n",
    "    t=n*dt\n",
    "    dPhi=laplace(Phi,h)\n",
    "    dPsi=laplace(Psi,h)\n",
    "    #Se excluyen los valores de los bordes, para calcular de manera discreta\n",
    "    Phic=Phi[1:-1,1:-1]\n",
    "    Psic=Psi[1:-1,1:-1]\n",
    "    Phi[1:-1,1:-1]=Phic+dt*(a*dPhi+Phic-Phic**3-Psic+kap)\n",
    "    Psi[1:-1,1:-1]=Psic+dt*(b*dPsi+Phic-Psic)/tao\n",
    "    for A in (Phi,Psi): #Condición de frontera tipo Neumann\n",
    "        A[0,:]=A[1,:]\n",
    "        A[-1,:]=A[-2,:]\n",
    "        A[:,0]=A[:,1]\n",
    "        A[:,-1]=A[:,-2]\n",
    "    if t%Deltat==0: #Gráficar cada dos segundos\n",
    "        plt.imshow(Phi,interpolation='none')\n",
    "        plt.title(f\"t={t}\")\n",
    "        plt.colorbar()\n",
    "        plt.show()\n",
    "    "
   ]
  }
 ],
 "metadata": {
  "kernelspec": {
   "display_name": "herrcomp",
   "language": "python",
   "name": "python3"
  },
  "language_info": {
   "codemirror_mode": {
    "name": "ipython",
    "version": 3
   },
   "file_extension": ".py",
   "mimetype": "text/x-python",
   "name": "python",
   "nbconvert_exporter": "python",
   "pygments_lexer": "ipython3",
   "version": "3.8.16"
  }
 },
 "nbformat": 4,
 "nbformat_minor": 2
}
