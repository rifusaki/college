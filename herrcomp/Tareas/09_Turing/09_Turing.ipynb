{
 "cells": [
  {
   "attachments": {},
   "cell_type": "markdown",
   "metadata": {},
   "source": [
    "# Patrones de Turing\n",
    "Martina García Mejía"
   ]
  },
  {
   "attachments": {},
   "cell_type": "markdown",
   "metadata": {},
   "source": [
    "Importar paquetes y definir funciones."
   ]
  },
  {
   "cell_type": "code",
   "execution_count": null,
   "metadata": {},
   "outputs": [],
   "source": [
    "import numpy as np\n",
    "import matplotlib.pyplot as plt"
   ]
  },
  {
   "cell_type": "code",
   "execution_count": null,
   "metadata": {},
   "outputs": [],
   "source": [
    "def nablasq(fun,h):\n",
    "    return (fun[0:-2,1:-1]+fun[1:-1,0:-2]+fun[2:,1:-1]+fun[1:-1,2:]-4*fun[1:-1,1:-1])/h**2"
   ]
  },
  {
   "attachments": {},
   "cell_type": "markdown",
   "metadata": {},
   "source": [
    "Parámetros y demás"
   ]
  },
  {
   "cell_type": "code",
   "execution_count": null,
   "metadata": {},
   "outputs": [],
   "source": [
    "yi, yf = xi, xf = (0, 1)\n",
    "h = 0.02\n",
    "\n",
    "a = 0.00028\n",
    "b = 0.005\n",
    "tau = 0.1\n",
    "k = -0.005\n",
    "\n",
    "lim_yi = lim_yf = 0\n",
    "lim_xi = lim_xf = 0\n",
    "\n",
    "tf = 10\n",
    "dt = 0.001\n",
    "\n",
    "graph_freq = 2"
   ]
  },
  {
   "cell_type": "code",
   "execution_count": null,
   "metadata": {},
   "outputs": [],
   "source": [
    "x, y = np.meshgrid(np.arange(xi, xf, h),\n",
    "                   np.arange(yi, yf, h))\n",
    "\n",
    "phi = np.random.rand(x.shape[0], x.shape[1])\n",
    "psi = np.random.rand(x.shape[0], x.shape[1])"
   ]
  },
  {
   "attachments": {},
   "cell_type": "markdown",
   "metadata": {},
   "source": [
    "Patrones en sí"
   ]
  },
  {
   "cell_type": "code",
   "execution_count": null,
   "metadata": {},
   "outputs": [],
   "source": [
    "for t in np.arange(dt,tf+dt,dt):\n",
    "    dphi, dpsi = (nablasq(phi,h), nablasq(psi,h))\n",
    "    phi_bl, psi_bl = (phi[1:-1,1:-1], psi[1:-1,1:-1])\n",
    "\n",
    "    phi[1:-1,1:-1] = phi_bl + dt*(a*dphi+phi_bl-(phi_bl**3)-psi_bl+k)\n",
    "    psi[1:-1,1:-1] = psi_bl + dt*(b*dpsi+phi_bl-psi_bl)/tau\n",
    "\n",
    "    for fun in (phi,psi):\n",
    "       fun[0,:] = fun[1,:]\n",
    "       fun[-1,:] = fun[-2,:]\n",
    "       fun[:,0] = fun[:,1]\n",
    "       fun[:,-1] = fun[:,-2]\n",
    "\n",
    "    if t%graph_freq == 0:\n",
    "        plt.imshow(phi+psi, cmap='BuPu', interpolation='bilinear')\n",
    "        plt.title(f'{t} segundos')\n",
    "        plt.colorbar()\n",
    "        plt.show()\n"
   ]
  }
 ],
 "metadata": {
  "kernelspec": {
   "display_name": "college",
   "language": "python",
   "name": "python3"
  },
  "language_info": {
   "codemirror_mode": {
    "name": "ipython",
    "version": 3
   },
   "file_extension": ".py",
   "mimetype": "text/x-python",
   "name": "python",
   "nbconvert_exporter": "python",
   "pygments_lexer": "ipython3",
   "version": "3.8.16"
  }
 },
 "nbformat": 4,
 "nbformat_minor": 2
}
