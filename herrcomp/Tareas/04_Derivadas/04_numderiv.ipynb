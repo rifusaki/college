{
 "cells": [
  {
   "attachments": {},
   "cell_type": "markdown",
   "metadata": {},
   "source": [
    "... by Martina García Mejía\n",
    "\n",
    "### Importar librerías, datos y demás"
   ]
  },
  {
   "cell_type": "code",
   "execution_count": null,
   "metadata": {},
   "outputs": [],
   "source": [
    "import numpy as np\n",
    "import matplotlib.pyplot as plt\n",
    "from scipy.optimize import curve_fit"
   ]
  },
  {
   "attachments": {},
   "cell_type": "markdown",
   "metadata": {},
   "source": [
    "La lectura de datos se hace localmente y en el mismo directorio en el que se encuentra el notebook, con el nombre original del archivo."
   ]
  },
  {
   "cell_type": "code",
   "execution_count": null,
   "metadata": {},
   "outputs": [],
   "source": [
    "data_raw = np.genfromtxt(\"datos-carro-1d.csv\", delimiter=',', missing_values=np.nan, skip_header=5) # Importación de datos\n",
    "\n",
    "data = data_raw[-(data_raw[:,1][data_raw[:,1]>0.004]).shape[0]:]# Nuevo array con datos filtrados\n",
    "#   La condición de filtrado es que x > 0.004 (el movimiento inicie), \n",
    "#   luego se hace una nueva lista (array) de la cantidad n de números que cumplen esa función, \n",
    "#   seleccionando de último a primero en la lista original [-n:], pues el carro no desacelera al final.\n",
    "\n",
    "t, x, v, a = data[:,0], data[:,1], data[:,3], data[:,5]     # Por simplicidad\n",
    "\n",
    "print(f\"Inicio del movimiento: {data[0:1,0][0]:.3f}s\")"
   ]
  },
  {
   "attachments": {},
   "cell_type": "markdown",
   "metadata": {},
   "source": [
    "### Empieza lo chévere\n",
    "Comencemos haciendo algunas definiciones:"
   ]
  },
  {
   "cell_type": "code",
   "execution_count": null,
   "metadata": {},
   "outputs": [],
   "source": [
    "def central(t,val):\n",
    "    v[1:-1] = (val[2:] - val[:-2])/(t[2:] - t[:-2])\n",
    "    return v\n",
    "\n",
    "def linfit(t,vo,a):\n",
    "    return vo+a*t\n",
    "\n",
    "def quadfit(t,xo,vo,a):\n",
    "    return xo+vo*t+a*(t**2)/2"
   ]
  },
  {
   "attachments": {},
   "cell_type": "markdown",
   "metadata": {},
   "source": [
    "#### Velocidad\n",
    "Ahora hagamos la derivada central y el ajuste:"
   ]
  },
  {
   "cell_type": "code",
   "execution_count": null,
   "metadata": {},
   "outputs": [],
   "source": [
    "v_calc = central(t,x)   # Cálculo de velocidad por derivada central\n",
    "vc_param, vc_coparam = curve_fit(linfit, t[1:-1], v_calc[1:-1])   # Cálculo de parámetros del ajuste\n",
    "vc_err = np.sqrt(np.diag(vc_coparam))   # Errores estándar\n",
    "\n",
    "print(f\"Los parámetros vo y a son {vc_param[0]:.4f} y {vc_param[1]:.4f}.\")\n",
    "print(f\"La desviación estándar para los valores de vo y a son {vc_err[0]:.4f} y {vc_err[1]:.4f}.\")"
   ]
  },
  {
   "cell_type": "code",
   "execution_count": null,
   "metadata": {},
   "outputs": [],
   "source": [
    "plt.figure(figsize=(10,6.5))\n",
    "plt.scatter(t, v_calc, color=\"xkcd:bright pink\", marker='.', label=\"Velocidad calculada\", zorder=2)\n",
    "plt.scatter(t, v, color=\"xkcd:green\", marker='v', label=\"Velocidad experimental\", zorder=1)\n",
    "plt.plot(t, linfit(t, *vc_param), color=\"xkcd:blue\", \n",
    "         label=f\"Ajuste lineal\\n  $v_{0}$ = {vc_param[0]:.3f} $\\pm$ {vc_err[0]:.3f} $m/s$\\n  a = {vc_param[1]:.3f} $\\pm$ {vc_err[1]:.3f} $m/s$\")\n",
    "plt.xlabel(\"Tiempo $(s)$\")\n",
    "plt.ylabel(\"Velocidad $(m/s)$\")\n",
    "plt.title(\"Velocidad del carro\")\n",
    "plt.gca().spines['top'].set_visible(False)\n",
    "plt.gca().spines['right'].set_visible(False)\n",
    "plt.grid(linestyle=\"--\")\n",
    "plt.legend()\n",
    "plt.show()"
   ]
  },
  {
   "attachments": {},
   "cell_type": "markdown",
   "metadata": {},
   "source": [
    "Este algoritmo de derivada central es, de hecho, el mismo que usa Tracker por defecto."
   ]
  },
  {
   "attachments": {},
   "cell_type": "markdown",
   "metadata": {},
   "source": [
    "#### Aceleración\n",
    "Promediando datos, haciendo ajustes y calculando errores"
   ]
  },
  {
   "cell_type": "code",
   "execution_count": null,
   "metadata": {},
   "outputs": [],
   "source": [
    "aex_prom = np.nanmean(a)  # Promedio de datos experimentales\n",
    "aex_err = np.nanstd(a)    # Desviación estándar\n",
    "\n",
    "a_param, a_coparam = curve_fit(quadfit, t, x)   # Cálculo de parámetros del ajuste\n",
    "a_err = np.sqrt(np.diag(a_coparam))   # Errores estándar\n",
    "\n",
    "print(f\"La aceleración promedio a partir de los datos experimentales es {aex_prom:.4f} +- {aex_err:.4f} m/s^2\\n\")\n",
    "\n",
    "print(f\"Los parámetros xo, vo y a son {a_param[0]:.4f}, {a_param[1]:.4f} y {a_param[2]:.4f}.\")\n",
    "print(f\"La desviación estándar para los valores de xo, vo y a son {a_err[0]:.4f}, {a_err[1]:.4f} y {a_err[2]:.4f}.\")"
   ]
  },
  {
   "attachments": {},
   "cell_type": "markdown",
   "metadata": {},
   "source": [
    "Graficando el asunto:"
   ]
  },
  {
   "cell_type": "code",
   "execution_count": null,
   "metadata": {},
   "outputs": [],
   "source": [
    "plt.figure(figsize=(10,7))\n",
    "plt.scatter(t, a, color=\"xkcd:green\", marker='^', label=\"Aceleración experimental\", zorder=0)\n",
    "plt.plot([min(t), max(t)], [aex_prom, aex_prom], color=\"xkcd:dark red\", linestyle=\"--\", zorder=2, \n",
    "         label=f\"Promedio experimental\\na= {aex_prom:.3f} $\\pm$ {aex_err:.3f} $m/s^{2}$\", linewidth=1)\n",
    "plt.plot([min(t), max(t)], [vc_param[1], vc_param[1]], color=\"xkcd:blue\", linestyle=\"--\", zorder=1, \n",
    "         label=f\"Ajuste lineal, velocidad\\na = {vc_param[1]:.3f} $\\pm$ {vc_err[1]:.3f} $m/s^{2}$\", linewidth=1)\n",
    "plt.plot([min(t), max(t)], [a_param[2], a_param[2]], color=\"xkcd:orange\", linestyle=\"--\", zorder=1, \n",
    "         label=f\"Ajuste cuadrático, aceleración\\na = {a_param[2]:.3f} $\\pm$ {a_err[2]:.3f} $m/s^{2}$\", linewidth=1)\n",
    "plt.xlabel(\"Tiempo $(s)$\")\n",
    "plt.ylabel(\"Aceleración $(m/s^{2})$\")\n",
    "plt.title(\"Aceleración del carro\")\n",
    "plt.gca().spines['top'].set_visible(False)\n",
    "plt.gca().spines['right'].set_visible(False)\n",
    "plt.grid(linestyle=\"--\")\n",
    "plt.legend(loc=\"lower left\")\n",
    "plt.show()"
   ]
  }
 ],
 "metadata": {
  "kernelspec": {
   "display_name": "base",
   "language": "python",
   "name": "python3"
  },
  "language_info": {
   "codemirror_mode": {
    "name": "ipython",
    "version": 3
   },
   "file_extension": ".py",
   "mimetype": "text/x-python",
   "name": "python",
   "nbconvert_exporter": "python",
   "pygments_lexer": "ipython3",
   "version": "3.9.13"
  }
 },
 "nbformat": 4,
 "nbformat_minor": 2
}
