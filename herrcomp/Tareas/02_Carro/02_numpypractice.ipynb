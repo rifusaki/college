{
 "cells": [
  {
   "attachments": {},
   "cell_type": "markdown",
   "metadata": {},
   "source": [
    "**Integrantes:**\n",
    "\n",
    "García Mejía, Martina\n",
    "\n",
    "Becerra Ahumada, Juan Camilo\n",
    "\n",
    "Navas González, Juan Camilo\n",
    "\n",
    "Niño Bernal, Carlos Felipe"
   ]
  },
  {
   "attachments": {},
   "cell_type": "markdown",
   "metadata": {},
   "source": [
    "### Importando paquetes"
   ]
  },
  {
   "cell_type": "code",
   "execution_count": null,
   "metadata": {},
   "outputs": [],
   "source": [
    "import numpy as np\n",
    "import matplotlib.pyplot as plt\n",
    "from scipy.optimize import curve_fit"
   ]
  },
  {
   "attachments": {},
   "cell_type": "markdown",
   "metadata": {},
   "source": [
    "### Haciendo cálculos"
   ]
  },
  {
   "attachments": {},
   "cell_type": "markdown",
   "metadata": {},
   "source": [
    "Importamos los datos del archivo y graficamos:"
   ]
  },
  {
   "cell_type": "code",
   "execution_count": null,
   "metadata": {},
   "outputs": [],
   "source": [
    "data = np.genfromtxt(\"datos-carro-1d.csv\", delimiter=',', missing_values=np.nan, skip_header=5) # Importación de datos"
   ]
  },
  {
   "cell_type": "code",
   "execution_count": null,
   "metadata": {},
   "outputs": [],
   "source": [
    "#   Gráfica de movimiento en x\n",
    "\n",
    "plt.figure(figsize=(12,8))\n",
    "plt.scatter(data[:,0], data[:,1], color=\"xkcd:orange\", marker='.', label=\"Altura máxima (m)\")\n",
    "plt.xlabel(\"Tiempo $(s)$\")\n",
    "plt.ylabel(\"Posición $(m))$\")\n",
    "plt.title(\"Posición del carro\")\n",
    "plt.gca().spines['top'].set_visible(False)\n",
    "plt.gca().spines['right'].set_visible(False)\n",
    "plt.grid(linestyle=\"--\")\n",
    "plt.show()"
   ]
  },
  {
   "cell_type": "code",
   "execution_count": null,
   "metadata": {},
   "outputs": [],
   "source": [
    "#   Filtrando los datos a partir del momento de inicio del movimiento\n",
    "\n",
    "filtered_data = data[-(data[:,1][data[:,1]>0.004]).shape[0]:]   # Nuevo array con datos filtrados\n",
    "#   La condición de filtrado es que x > 0.004 (el movimiento inicie), \n",
    "#   luego se hace una nueva lista (array) de la cantidad n de números que cumplen esa función, \n",
    "#   seleccionando de último a primero en la lista original [-n:], pues el carro no desacelera al final.\n",
    "\n",
    "print(f\"Inicio del movimiento: {filtered_data[0:1,0][0]:.3f}s\")"
   ]
  },
  {
   "attachments": {},
   "cell_type": "markdown",
   "metadata": {},
   "source": [
    "El movimiento comienza aproximadamente en $t_{0}=1.13s$.\n",
    "\n",
    "Ahora realizamos la regresión no lineal y graficamos:"
   ]
  },
  {
   "cell_type": "code",
   "execution_count": null,
   "metadata": {},
   "outputs": [],
   "source": [
    "def fitfunc(t,x0,v0,a): # Función a ajustar\n",
    "    return x0 + v0*t + 0.5*a*(t**2)\n",
    "\n",
    "param = curve_fit(fitfunc, filtered_data[:,0], filtered_data[:,1])[0]   # Cálculo de parámetros del ajuste\n",
    "\n",
    "print(f\"Los coeficientes x0, v0, a_x son {param}.\")"
   ]
  },
  {
   "cell_type": "code",
   "execution_count": null,
   "metadata": {},
   "outputs": [],
   "source": [
    "#   Gráfica del ajuste con los datos\n",
    "\n",
    "plt.figure(figsize=(12,8))\n",
    "plt.scatter(filtered_data[:,0], filtered_data[:,1], color=\"xkcd:orange\", marker='o', label=\"Datos experimentales\")\n",
    "plt.plot(filtered_data[:,0], fitfunc(filtered_data[:,0], *param), color=\"xkcd:light purple\", label=\"Regresión\")\n",
    "plt.xlabel(\"Tiempo $(s)$\")\n",
    "plt.ylabel(\"Posición $(m)$\")\n",
    "plt.title(\"Posición del carro con regresión no lineal\")\n",
    "plt.gca().spines['top'].set_visible(False)\n",
    "plt.gca().spines['right'].set_visible(False)\n",
    "plt.grid(linestyle=\"--\")\n",
    "plt.legend()\n",
    "plt.show()"
   ]
  },
  {
   "attachments": {},
   "cell_type": "markdown",
   "metadata": {},
   "source": [
    "Comparemos con las derivadas numéricas calculadas por Tracker:"
   ]
  },
  {
   "cell_type": "code",
   "execution_count": null,
   "metadata": {},
   "outputs": [],
   "source": [
    "#   Filtrando los datos np.nan para calcular el promedio de aceleración por derivación numérica\n",
    "\n",
    "a_num = filtered_data[[not i for i in np.isnan(filtered_data[:,5])]][:,5] # Nuevo array sólo con aceleraciones, omitiendo los datos np.nan\n",
    "#   Condición de filtrado: dato no es np.nan. No importa la posición (se conserva), sólo su valor\n",
    "\n",
    "a_avg = np.average(a_num)  # Promedio de la aceleración por derivación numérica\n",
    "\n",
    "print(f\"El valor de a_x numérico promedio es {a_avg:.3f}m/s^2\")\n",
    "print(f\"El valor de a_x de la regresión es {param[2]:.3f}m/s^2\")\n",
    "print(f\"La diferencia porcentual es {100*(-param[2]+a_avg)/(param[2]+a_avg):.3f}%\")"
   ]
  },
  {
   "attachments": {},
   "cell_type": "markdown",
   "metadata": {},
   "source": [
    "Tenemos que la diferencia porcentual entre ambos valores es $0.106\\%$"
   ]
  },
  {
   "attachments": {},
   "cell_type": "markdown",
   "metadata": {},
   "source": [
    "### Notas adicionales"
   ]
  },
  {
   "attachments": {},
   "cell_type": "markdown",
   "metadata": {},
   "source": [
    "Probamos dos métodos para filtrar datos: uno más simple y versátil (permite filtrado en cualquier posición) y uno más rápido (se omiten sólo los datos en las primeras posiciones). Ambos fueron usados y es posible utilizar sólo uno de ellos para resolver el problema. A continuación dejamos el comparativo entre ambos haciendo la misma operación:"
   ]
  },
  {
   "cell_type": "code",
   "execution_count": null,
   "metadata": {},
   "outputs": [],
   "source": [
    "%%timeit    # El método utilizado para determinar el inicio del movimiento. Omite los primeros datos\n",
    "fil1 = data[-(data[:,1][data[:,1]>0.004]).shape[0]:]"
   ]
  },
  {
   "cell_type": "code",
   "execution_count": null,
   "metadata": {},
   "outputs": [],
   "source": [
    "%%timeit    # Este método se utilizó para excluir los datos np.nan del promedio calculado. Omite datos en cualquier posición.\n",
    "fil1 = data[data[:,1] > 0.004]"
   ]
  }
 ],
 "metadata": {
  "kernelspec": {
   "display_name": "base",
   "language": "python",
   "name": "python3"
  },
  "language_info": {
   "codemirror_mode": {
    "name": "ipython",
    "version": 3
   },
   "file_extension": ".py",
   "mimetype": "text/x-python",
   "name": "python",
   "nbconvert_exporter": "python",
   "pygments_lexer": "ipython3",
   "version": "3.9.13"
  },
  "vscode": {
   "interpreter": {
    "hash": "c98924fb2474a8d65f3ff65c74422614500910c1ccaa42b65c0a4f9f730f1862"
   }
  }
 },
 "nbformat": 4,
 "nbformat_minor": 2
}
