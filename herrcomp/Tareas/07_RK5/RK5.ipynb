{
 "cells": [
  {
   "attachments": {},
   "cell_type": "markdown",
   "metadata": {},
   "source": [
    "# Runge-Kutta, grado 5"
   ]
  },
  {
   "attachments": {},
   "cell_type": "markdown",
   "metadata": {},
   "source": [
    "Importar paquetes."
   ]
  },
  {
   "cell_type": "code",
   "execution_count": 1,
   "metadata": {},
   "outputs": [],
   "source": [
    "import numpy as np\n",
    "import matplotlib.pyplot as plt"
   ]
  },
  {
   "cell_type": "code",
   "execution_count": null,
   "metadata": {},
   "outputs": [],
   "source": [
    "def RK5(t0,x0,y0,h,tmax,f):\n",
    "    t,x,y = (t0,x0,y0)\n",
    "    T,X,Y = ([t],[x],[y])\n",
    "    while t<=tmax:\n",
    "        k1 = f(t,x,y)\n",
    "        k2 = f(t+0.5*h, x+h/4, y+k1*h/4)\n",
    "        k3 = f(t+0.5*h, x+h/4, y+k1*h/8+k2*h/8)\n",
    "        k4 = f(t+0.5*h, x+h/2, y-k2*h/2+k3*h)\n",
    "        k5 = f(t+0.5*h, x+h*3/4, y+k1*h*3/16+k4*h*9/16)\n",
    "        k6 = f(t+h, x+h, t-k1*h*3/7+k2*h*2/7+k3*h*12/7-k4*h*12/7+k5*h*8/7)\n",
    "        \n",
    "        t += h\n",
    "        T.append(t)\n",
    "        X.append(x)\n",
    "        Y.append(y)\n",
    "    return T,X,Y"
   ]
  }
 ],
 "metadata": {
  "kernelspec": {
   "display_name": "college",
   "language": "python",
   "name": "python3"
  },
  "language_info": {
   "codemirror_mode": {
    "name": "ipython",
    "version": 3
   },
   "file_extension": ".py",
   "mimetype": "text/x-python",
   "name": "python",
   "nbconvert_exporter": "python",
   "pygments_lexer": "ipython3",
   "version": "3.8.16"
  },
  "orig_nbformat": 4
 },
 "nbformat": 4,
 "nbformat_minor": 2
}
