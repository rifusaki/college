{
 "cells": [
  {
   "attachments": {},
   "cell_type": "markdown",
   "metadata": {},
   "source": [
    "# Runge-Kutta, grado 5"
   ]
  },
  {
   "attachments": {},
   "cell_type": "markdown",
   "metadata": {},
   "source": [
    "### Paquetes y whatnot"
   ]
  },
  {
   "cell_type": "code",
   "execution_count": null,
   "metadata": {},
   "outputs": [],
   "source": [
    "import numpy as np\n",
    "import matplotlib.pyplot as plt"
   ]
  },
  {
   "attachments": {},
   "cell_type": "markdown",
   "metadata": {},
   "source": [
    "### Función Runge-Kutta, grado 5 "
   ]
  },
  {
   "cell_type": "code",
   "execution_count": null,
   "metadata": {},
   "outputs": [],
   "source": [
    "def RK5(x0,y0,h,xmax,f,*args):\n",
    "    x,y = (x0,y0)\n",
    "    X,Y = ([x],[y])\n",
    "    while x<=xmax:\n",
    "        k1 = f(x,y,*args)\n",
    "        k2 = f(x+h/4, y+k1*h/4,*args)\n",
    "        k3 = f(x+h/4, y+k1*h/8+k2*h/8,*args)\n",
    "        k4 = f(x+h/2, y-k2*h/2+k3*h,*args)\n",
    "        k5 = f(x+h*3/4, y+k1*h*3/16+k4*h*9/16,*args)\n",
    "        k6 = f(x+h, y-k1*h*3/7+k2*h*2/7+k3*h*12/7-k4*h*12/7+k5*h*8/7,*args)\n",
    "\n",
    "        y += h*(7*k1+32*k3+12*k4+32*k5+7*k6)/90\n",
    "        x+=h\n",
    "        \n",
    "        X.append(x)\n",
    "        Y.append(y)\n",
    "    return X,Y"
   ]
  },
  {
   "attachments": {},
   "cell_type": "markdown",
   "metadata": {},
   "source": [
    "### Punto 1\n",
    "Definamos nuestras funciones y apliquemos RK5:"
   ]
  },
  {
   "cell_type": "code",
   "execution_count": null,
   "metadata": {},
   "outputs": [],
   "source": [
    "def fun1(x,y):\n",
    "    return x-2*y\n",
    "\n",
    "x1,y1 = RK5(0,1,0.01,5,fun1)\n",
    "\n",
    "xl = np.linspace(0,5,5000)\n",
    "\n",
    "def ref1(x):\n",
    "    return (2*x+5*np.e**(-2*x)-1)/4\n"
   ]
  },
  {
   "attachments": {},
   "cell_type": "markdown",
   "metadata": {},
   "source": [
    "Graficando:"
   ]
  },
  {
   "cell_type": "code",
   "execution_count": null,
   "metadata": {},
   "outputs": [],
   "source": [
    "fig, (ax1) = plt.subplots(1, 1, figsize=(12,8))\n",
    "\n",
    "ax1.scatter(x1,y1, marker='.', color='xkcd:orange', linewidth=0.5, zorder=2, label='Solución con RK5')\n",
    "ax1.plot(xl,ref1(xl), color='xkcd:bright blue', linewidth=6, zorder=1, label='Solución analítica')\n",
    "ax1.spines['top'].set_visible(False)\n",
    "ax1.spines['right'].set_visible(False)\n",
    "ax1.grid(ls='--', zorder=0)\n",
    "ax1.set_title(\"Solución de dy/dx+2y=x\")\n",
    "ax1.set_ylabel(\"y\")\n",
    "ax1.set_xlabel(\"x\")\n",
    "ax1.legend(loc='lower right')"
   ]
  },
  {
   "attachments": {},
   "cell_type": "markdown",
   "metadata": {},
   "source": [
    "### Punto 2\n",
    "Calculemos las soluciones en todos los casos:"
   ]
  },
  {
   "cell_type": "code",
   "execution_count": null,
   "metadata": {},
   "outputs": [],
   "source": [
    "def fun2(x,y,a):\n",
    "    return x**2-2*y**a\n",
    "\n",
    "X,Y = ([],[])\n",
    "for a in [0.2,0.4,0.6,0.8]:\n",
    "    x,y = RK5(0,1,0.01,5,fun2,a)\n",
    "    X.append(x)\n",
    "    Y.append(y)"
   ]
  },
  {
   "attachments": {},
   "cell_type": "markdown",
   "metadata": {},
   "source": [
    "Graficando:"
   ]
  },
  {
   "cell_type": "code",
   "execution_count": null,
   "metadata": {},
   "outputs": [],
   "source": [
    "fig, (ax1) = plt.subplots(1, 1, figsize=(12,8))\n",
    "\n",
    "for x,y,color,alpha in zip(X,Y,['purple','blue','green','orange'],['0.2','0.4','0.6','0.8']):\n",
    "    ax1.scatter(x,y, marker='.', color=f'xkcd:{color}', linewidth=0.1, zorder=2, label=f'alpha={alpha}')\n",
    "\n",
    "ax1.spines['top'].set_visible(False)\n",
    "ax1.spines['right'].set_visible(False)\n",
    "ax1.grid(ls='--', zorder=0)\n",
    "ax1.set_title(\"Solución de dy/dx+2y**a=x**2\")\n",
    "ax1.set_ylabel(\"y\")\n",
    "ax1.set_xlabel(\"x\")\n",
    "ax1.legend(loc='lower right')"
   ]
  }
 ],
 "metadata": {
  "kernelspec": {
   "display_name": "college",
   "language": "python",
   "name": "python3"
  },
  "language_info": {
   "codemirror_mode": {
    "name": "ipython",
    "version": 3
   },
   "file_extension": ".py",
   "mimetype": "text/x-python",
   "name": "python",
   "nbconvert_exporter": "python",
   "pygments_lexer": "ipython3",
   "version": "3.8.16"
  }
 },
 "nbformat": 4,
 "nbformat_minor": 2
}
