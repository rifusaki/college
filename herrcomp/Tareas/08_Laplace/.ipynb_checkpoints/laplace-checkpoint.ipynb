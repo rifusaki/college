{
 "cells": [
  {
   "cell_type": "markdown",
   "metadata": {},
   "source": [
    "## Importando cosas"
   ]
  },
  {
   "cell_type": "code",
   "execution_count": 1,
   "metadata": {},
   "outputs": [],
   "source": [
    "import numpy as np\n",
    "import matplotlib.pyplot as plt\n",
    "import matplotlib.cm as cm"
   ]
  },
  {
   "cell_type": "markdown",
   "metadata": {},
   "source": [
    "## Soluciones"
   ]
  },
  {
   "cell_type": "markdown",
   "metadata": {},
   "source": [
    "### Punto 1"
   ]
  },
  {
   "cell_type": "code",
   "execution_count": 57,
   "metadata": {},
   "outputs": [],
   "source": [
    "limr = 2\n",
    "limt = 2*np.pi/3\n",
    "\n",
    "dr = 0.1\n",
    "dt = 0.1\n",
    "\n",
    "n = 50\n",
    "niter = 5000\n",
    "\n",
    "r = np.linspace(0,limr,n)\n",
    "theta = np.linspace(0,limt,n)\n",
    "R, THETA = np.meshgrid(r, theta)\n",
    "phi = np.zeros(R.shape)\n",
    "\n",
    "r2t = 100\n",
    "rt2p3 = 100\n",
    "\n",
    "phi[-1,:] = r2t\n",
    "phi[:,-1] = rt2p3"
   ]
  },
  {
   "cell_type": "code",
   "execution_count": null,
   "metadata": {},
   "outputs": [],
   "source": [
    "for a in range(niter):\n",
    "    for i in range(1, n-1):\n",
    "        for j in range(1, n-1):\n",
    "            phi[i,j] = ((phi[i+1,j]+phi[i-1,j])/(2*dr**2) + (phi[i,j+1]+phi[i,j-1])/(2*(i*dr*dt)**2) + \n",
    "                        (phi[i+1,j]-phi[i-1,j])/(2*i*dr**2))/(1/dr**2 + 1/(i*dr*dt)**2)"
   ]
  },
  {
   "cell_type": "code",
   "execution_count": null,
   "metadata": {},
   "outputs": [],
   "source": [
    "# plotting\n",
    "ax = plt.subplot(111, polar=True)\n",
    "ax.set_yticklabels([])\n",
    "ctf = ax.contourf(r, theta, phi, cmap=cm.magma_r)\n",
    "plt.colorbar(ctf)\n",
    "plt.axis([0,limt,0,limr])\n",
    "plt.show()"
   ]
  }
 ],
 "metadata": {
  "kernelspec": {
   "display_name": "Python 3 (ipykernel)",
   "language": "python",
   "name": "python3"
  },
  "language_info": {
   "codemirror_mode": {
    "name": "ipython",
    "version": 3
   },
   "file_extension": ".py",
   "mimetype": "text/x-python",
   "name": "python",
   "nbconvert_exporter": "python",
   "pygments_lexer": "ipython3",
   "version": "3.11.3"
  }
 },
 "nbformat": 4,
 "nbformat_minor": 2
}
