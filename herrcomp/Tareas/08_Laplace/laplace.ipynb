{
 "cells": [
  {
   "attachments": {},
   "cell_type": "markdown",
   "metadata": {},
   "source": [
    "## Importando cosas"
   ]
  },
  {
   "cell_type": "code",
   "execution_count": null,
   "metadata": {},
   "outputs": [],
   "source": [
    "import numpy as np\n",
    "import matplotlib.pyplot as plt\n",
    "import matplotlib.cm as cm"
   ]
  },
  {
   "attachments": {},
   "cell_type": "markdown",
   "metadata": {},
   "source": [
    "## Soluciones"
   ]
  },
  {
   "cell_type": "code",
   "execution_count": null,
   "metadata": {},
   "outputs": [],
   "source": [
    "# Domain: r and theta\n",
    "ri, rf = 0, 2\n",
    "ti, tf = 0, 2*np.pi/3\n",
    "\n",
    "# Parametres\n",
    "dr, dt = 0.05, 0.05\n",
    "n = 50000          # Iterations"
   ]
  },
  {
   "cell_type": "code",
   "execution_count": null,
   "metadata": {},
   "outputs": [],
   "source": [
    "def laplace_polar(ri, rf, ti, tf, dr, dt, lim_ti, lim_tf, lim_rf, n, default_val=0):\n",
    "    theta, r = np.meshgrid(np.arange(ti,tf+dt,dt),np.arange(ri,rf+dr,dr))\n",
    "    phi = np.full(theta.shape, default_val)\n",
    "\n",
    "    phi[-1,:] = lim_rf(np.arange(ti,tf+dt,dt))\n",
    "    phi[:,0], phi[:,-1] = lim_ti(np.arange(ri,rf+dr,dr)), lim_tf(np.arange(ri,rf+dr,dr))\n",
    "\n",
    "    for _ in range(n):\n",
    "        for i in range(1, phi.shape[0]-1):\n",
    "            for j in range(1, phi.shape[1]-1):\n",
    "                phi[i, j] = ((phi[i+1, j]+phi[i-1, j])/(2*dr**2) + (phi[i, j+1]+phi[i, j-1])/(2*(i*dr*dt)**2) + (phi[i+1, j] - phi[i-1, j])/(2*i*dr**2))/(1/dr**2 + 1/(i*dr*dt)**2)\n",
    "\n",
    "\n",
    "    return theta, r, phi"
   ]
  },
  {
   "attachments": {},
   "cell_type": "markdown",
   "metadata": {},
   "source": [
    "### Punto 1: límites fijos"
   ]
  },
  {
   "cell_type": "code",
   "execution_count": null,
   "metadata": {},
   "outputs": [],
   "source": [
    "# Conditions and limits\n",
    "lim_ti = lambda theta: 0      # Theta = 0\n",
    "lim_tf = lambda theta: 100    # Theta = tf\n",
    "lim_rf = lambda r: 100        # r = rf\n",
    "\n",
    "theta0, r0, phi0 = laplace_polar(ri, rf, ti, tf, dr, dt, lim_ti, lim_tf, lim_rf, n)"
   ]
  },
  {
   "cell_type": "code",
   "execution_count": null,
   "metadata": {},
   "outputs": [],
   "source": [
    "ax = plt.subplot(111, polar=True)\n",
    "ax.set_yticklabels([])\n",
    "ctf = ax.contourf(theta0, r0, phi0, cmap=cm.magma_r)\n",
    "plt.colorbar(ctf)\n",
    "plt.axis([ti,tf,ri,rf])\n",
    "plt.show()"
   ]
  },
  {
   "attachments": {},
   "cell_type": "markdown",
   "metadata": {},
   "source": [
    "### Punto 2"
   ]
  },
  {
   "cell_type": "code",
   "execution_count": null,
   "metadata": {},
   "outputs": [],
   "source": [
    "# Conditions and limits\n",
    "lim_ti = lambda r: -10*np.sin(2*np.pi*(r - ri)/(rf - ri))           # Theta = 0\n",
    "lim_tf = lambda r: 10*np.sin(2*np.pi*(r - ri)/(rf - ri))          # Theta = tf\n",
    "lim_rf = lambda theta: 10*np.sin(4*np.pi*(theta - ti)/(tf - ti))   # r = rf\n",
    "default_val = 0\n",
    "\n",
    "theta1, r1, phi1 = laplace_polar(ri, rf, ti, tf, dr, dt, lim_ti, lim_tf, lim_rf, n, default_val)"
   ]
  },
  {
   "cell_type": "code",
   "execution_count": null,
   "metadata": {},
   "outputs": [],
   "source": [
    "ax = plt.subplot(111, polar=True)\n",
    "ax.set_yticklabels([])\n",
    "ctf = ax.contourf(theta1, r1, phi1, cmap=cm.magma_r)\n",
    "plt.colorbar(ctf)\n",
    "plt.axis([ti,tf,ri,rf])\n",
    "plt.show()"
   ]
  }
 ],
 "metadata": {
  "kernelspec": {
   "display_name": "Python 3 (ipykernel)",
   "language": "python",
   "name": "python3"
  },
  "language_info": {
   "codemirror_mode": {
    "name": "ipython",
    "version": 3
   },
   "file_extension": ".py",
   "mimetype": "text/x-python",
   "name": "python",
   "nbconvert_exporter": "python",
   "pygments_lexer": "ipython3",
   "version": "3.8.16"
  }
 },
 "nbformat": 4,
 "nbformat_minor": 2
}
