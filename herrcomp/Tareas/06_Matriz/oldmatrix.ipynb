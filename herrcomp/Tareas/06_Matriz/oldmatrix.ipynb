{
 "cells": [
  {
   "cell_type": "code",
   "execution_count": null,
   "metadata": {},
   "outputs": [],
   "source": [
    "'''\n",
    "Clasificación de matrices\n",
    "'''\n",
    "# Usaremos un diccionario para clasificar y contar la cantidad de ocurrencias de cada caso.\n",
    "matrix_dict = {'saddle':0, 'sink':0, 'spiral sink':0, 'spiral source':0, 'source':0,\n",
    "               'unstable fixed':0, 'stable fixed':0, ' degenerate sink':0, 'degenerate source':0,\n",
    "               'center':0, 'uniform motion':0}\n",
    "\n",
    "# Esta función clasifica cada matriz y retorna su tipo\n",
    "def classifier(matrix):\n",
    "    tr, det = np.trace(matrix), np.linalg.det(matrix)\n",
    "    delta = tr**2 - 4*det\n",
    "\n",
    "    if (det < 0): res = 'saddle'\n",
    "    elif (tr < 0) and (delta > 0): res = 'sink'\n",
    "    elif (tr < 0) and (delta < 0): res = 'spiral sink'\n",
    "    elif (tr > 0) and (delta < 0): res = 'spiral source'\n",
    "    elif (tr > 0) and (delta > 0): res = 'source'\n",
    "\n",
    "    return res, tr, det\n",
    "\n",
    "'''\n",
    "Graficación\n",
    "'''\n",
    "def prescatter(fig,xlb='x',ylb='y', titl='y v x'):\n",
    "    fig.spines['top'].set_visible(False)\n",
    "    fig.spines['right'].set_visible(False)\n",
    "    fig.grid(ls='--', zorder=0)\n",
    "    fig.set_title(titl)\n",
    "    fig.set_ylabel(ylb)\n",
    "    fig.set_xlabel(xlb)\n",
    "    fig.legend()\n",
    "\n",
    "def addscatter(type, tr, det, fig):\n",
    "    if type == 'saddle': col = 'xkcd:dark violet'\n",
    "    elif type == 'sink': col = 'xkcd:dark red'\n",
    "    elif type == 'spiral sink': col = 'xkcd:pale orange'\n",
    "    elif type == 'spiral source': col = 'xkcd:green blue'\n",
    "    elif type == 'source': col = 'xkcd:dark blue'\n",
    "    fig.plot(tr,det, marker='o', color=col, markersize=2)\n"
   ]
  },
  {
   "cell_type": "code",
   "execution_count": null,
   "metadata": {},
   "outputs": [],
   "source": [
    "fig, (ax) = plt.subplots(1, 1, figsize=(10,6))\n",
    "prescatter(ax)\n",
    "\n",
    "for i in range(10000):\n",
    "    matrix = np.random.uniform(low=-1, high=1, size=(2, 2)) # a diferencia de random.random [-1,1), este usa [-1,1]\n",
    "    matrix_type, tr, det = classifier(matrix)\n",
    "    matrix_dict[matrix_type] +=1\n",
    "    addscatter(matrix_type, tr, det, ax)"
   ]
  }
 ],
 "metadata": {
  "language_info": {
   "name": "python"
  }
 },
 "nbformat": 4,
 "nbformat_minor": 2
}
