{
 "cells": [
  {
   "attachments": {},
   "cell_type": "markdown",
   "metadata": {},
   "source": [
    "#### Importando cosas importantes"
   ]
  },
  {
   "cell_type": "code",
   "execution_count": null,
   "metadata": {},
   "outputs": [],
   "source": [
    "import numpy as np\n",
    "import matplotlib.pyplot as plt"
   ]
  },
  {
   "attachments": {},
   "cell_type": "markdown",
   "metadata": {},
   "source": [
    "### Lo divertido"
   ]
  },
  {
   "attachments": {},
   "cell_type": "markdown",
   "metadata": {},
   "source": [
    "#### Definiciones y funciones\n",
    "Comenzamos con algunas funciones que sólo se necesitan correr una vez (funciones para clasificar, graficar y demás)."
   ]
  },
  {
   "cell_type": "code",
   "execution_count": null,
   "metadata": {},
   "outputs": [],
   "source": [
    "'''\n",
    "Clasificación de matrices\n",
    "'''\n",
    "def classifier(matrixarr, tol):\n",
    "    # Calcular parámetros\n",
    "    tr, det = np.trace(matrixarr, axis1=1, axis2=2), np.linalg.det(matrixarr)\n",
    "    delta = tr**2 - 4*det\n",
    "\n",
    "    # Hacer un array \"máscara\" para cada uno de los casos\n",
    "    # En áreas\n",
    "    saddle = det < 0\n",
    "    sink = np.logical_and(det > 0, np.logical_and(tr < 0, delta > 0))   # Retornan un array de booleanos dependiendo de las condiciones\n",
    "    spiral_sink = np.logical_and(det > 0, np.logical_and(tr < 0, delta < 0))\n",
    "    source = np.logical_and(det > 0, np.logical_and(tr > 0, delta > 0))\n",
    "    spiral_source = np.logical_and(det > 0, np.logical_and(tr > 0, delta < 0))\n",
    "\n",
    "    # Alrededor de líneas\n",
    "    center = np.logical_and(det > 0, np.isclose(tr, 0, atol=tol))\n",
    "    stable_fixed = np.logical_and(tr < 0, np.isclose(det, 0, atol=tol))\n",
    "    degenerate_sink = np.logical_and(tr < 0, np.isclose(delta, 0, atol=tol))\n",
    "    unstable_fixed = np.logical_and(tr > 0, np.isclose(det, 0, atol=tol))\n",
    "    degenerate_source = np.logical_and(tr > 0, np.isclose(delta, 0, atol=tol))\n",
    "    uniform = np.logical_and(np.isclose(tr, 0, atol=tol), np.isclose(det, 0, atol=tol))\n",
    "\n",
    "    return tr, det, (saddle,sink,spiral_sink,source,spiral_source), (center,stable_fixed,degenerate_sink,unstable_fixed,degenerate_source,uniform)\n",
    "\n",
    "\n",
    "'''\n",
    "Graficación\n",
    "'''\n",
    "# Configuración de estilos de la gráfica\n",
    "def style(fig,xlb='x',ylb='y', titl='y v x'):\n",
    "    fig.spines['top'].set_visible(False)\n",
    "    fig.spines['right'].set_visible(False)\n",
    "    fig.grid(ls='--', zorder=0)\n",
    "    fig.set_title(titl)\n",
    "    fig.set_ylabel(ylb)\n",
    "    fig.set_xlabel(xlb)\n",
    "    fig.legend(loc='lower right')\n",
    "    fig.set_xlim([-2.3,3.5])\n",
    "\n",
    "# La gráfica en si\n",
    "def matrixplot(fig1,tr,det, mask_a, mask_l):\n",
    "    area_names = ('Saddle','Sink','Spiral sink','Source','Spiral source')\n",
    "    line_names = ('Center','Stable fixed','Degenerate Sink','Unstable fixed','Degenerate source', 'Uniform')\n",
    "\n",
    "    for i,col,leg in zip(range(len(mask_a)),\n",
    "                         ('dark violet', 'dark red', 'dark orange', 'dark blue', 'green blue'), area_names):    # Aplicar las máscaras (arrays booleanos) a los datos originales \n",
    "        fig1.scatter(tr[mask_a[i]], det[mask_a[i]], marker='.', color='xkcd:'+col, label=leg+f': {100*[np.count_nonzero(x == True)/len(x) for x in mask_a][i]:.3f}%', linewidth=0.1, zorder=1)   \n",
    "\n",
    "    for i,col,leg in zip(range(len(mask_l)),    # Los puntos que corresponden a áreas cercanas a las líneas son más gruesos\n",
    "                         ('black', 'light red', 'light orange', 'light purple', 'light green', 'grey'), line_names):\n",
    "        fig1.scatter(tr[mask_l[i]], det[mask_l[i]], marker='.', color='xkcd:'+col, label=leg+f': {100*[np.count_nonzero(x == True)/len(x) for x in mask_l][i]:.3f}%', linewidth=1, zorder=2)"
   ]
  },
  {
   "attachments": {},
   "cell_type": "markdown",
   "metadata": {},
   "source": [
    "#### Los cálculos"
   ]
  },
  {
   "cell_type": "code",
   "execution_count": null,
   "metadata": {},
   "outputs": [],
   "source": [
    "# Crear las matrices\n",
    "matrices = np.random.uniform(-1, 1, size=(10**6, 2, 2))\n",
    "\n",
    "# Traza, determinante y clasificación\n",
    "tr, det, type_area, type_line =  classifier(matrices, 1.0e-3)"
   ]
  },
  {
   "attachments": {},
   "cell_type": "markdown",
   "metadata": {},
   "source": [
    "Y graficamos:"
   ]
  },
  {
   "cell_type": "code",
   "execution_count": null,
   "metadata": {},
   "outputs": [],
   "source": [
    "fig, (ax1) = plt.subplots(1, 1, figsize=(12,8))\n",
    "\n",
    "matrixplot(ax1,tr,det,type_area, type_line)\n",
    "style(ax1, 'Tr(A)', 'det(A)', 'Diagrama de Poincaré: Clasificación de retratos de fase')\n",
    "\n",
    "#fig.savefig('matrixspectra.png', dpi=300)   # La exportación se hizo en PNG y se covirtió manualmente porque si se exportaba en PDF el archivo resultante era ridículamente pesado"
   ]
  }
 ],
 "metadata": {
  "kernelspec": {
   "display_name": "base",
   "language": "python",
   "name": "python3"
  },
  "language_info": {
   "codemirror_mode": {
    "name": "ipython",
    "version": 3
   },
   "file_extension": ".py",
   "mimetype": "text/x-python",
   "name": "python",
   "nbconvert_exporter": "python",
   "pygments_lexer": "ipython3",
   "version": "3.11.2"
  }
 },
 "nbformat": 4,
 "nbformat_minor": 2
}
