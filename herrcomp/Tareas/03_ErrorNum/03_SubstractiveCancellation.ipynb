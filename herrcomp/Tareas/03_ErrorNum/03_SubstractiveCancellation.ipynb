{
 "cells": [
  {
   "attachments": {},
   "cell_type": "markdown",
   "metadata": {},
   "source": [
    "### Importando librerías"
   ]
  },
  {
   "cell_type": "code",
   "execution_count": null,
   "metadata": {},
   "outputs": [],
   "source": [
    "import numpy as np\n",
    "import matplotlib.pyplot as plt"
   ]
  },
  {
   "attachments": {},
   "cell_type": "markdown",
   "metadata": {},
   "source": [
    "### Parte 1"
   ]
  },
  {
   "cell_type": "code",
   "execution_count": null,
   "metadata": {},
   "outputs": [],
   "source": [
    "#   Definiendo las dos funciones usadas: normal y (p)rima\n",
    "def f1(a,b,c):\n",
    "    return ((-b+np.sqrt(b**2-4*a*c))/(2*a),(-b-np.sqrt(b**2-4*a*c))/(2*a))\n",
    "\n",
    "def f1p(a,b,c):\n",
    "    return ((-2*c)/(b+np.sqrt(b**2-4*a*c)),(-2*c)/(b-np.sqrt(b**2-4*a*c)))\n",
    "\n",
    "#   Ejecutando las funciones para obtener los datos\n",
    "c = np.logspace(-10,-1,10)  # Obteniendo C\n",
    "data = np.array([f1(1,1,c), f1p(1,1,c)])\n",
    "\n",
    "#   Graficando\n",
    "fig, (ax1, ax2) = plt.subplots(1, 2, figsize=(13,5))\n",
    "fig.suptitle('Porcentaje de diferencia relativa entre x y x\\' tomando $c=10^{-n}$, $n \\in [1,2,...,10]$')\n",
    "\n",
    "ax1.scatter(c, 100*(data[0][0]-data[1][0])/data[0][0], marker='o', color='xkcd:light purple', label='x1 y x1\\'', zorder=2)\n",
    "ax1.spines['top'].set_visible(False)\n",
    "ax1.spines['right'].set_visible(False)\n",
    "ax1.set_xscale('log')\n",
    "ax1.grid(ls='--')\n",
    "ax1.set_ylabel('Diferencia relativa (%)')\n",
    "ax1.set_xlabel('C')\n",
    "ax1.set_title('x1 y x1\\'')\n",
    "\n",
    "ax2.scatter(c, 100*(data[0][1]-data[1][1])/data[0][1], marker='o', color='xkcd:green blue', label='x2 y x2\\'', zorder=2)\n",
    "ax2.spines['top'].set_visible(False)\n",
    "ax2.spines['right'].set_visible(False)\n",
    "ax2.set_xscale('log')\n",
    "ax2.grid(ls='--')\n",
    "ax2.set_ylabel('Diferencia relativa (%)')\n",
    "ax2.set_xlabel('C')\n",
    "ax2.set_title('x2 y x2\\'')"
   ]
  },
  {
   "attachments": {},
   "cell_type": "markdown",
   "metadata": {},
   "source": [
    "La diferencia relativa es evidentemente más grande entre más pequeño es $C$. Esto de esperar. Tomaría la fórmula original ($x_{1,2}=\\frac{-b\\pm\\sqrt{b^{2}-4ac}}{2a}$) sobre la primada pues la propagación de error dada por el término $C$ es menor al aparecer únicamente en el numerador dentro de una raíz. Del otro modo, además de aparecer en la raíz, afecta a todos los términos en su multiplicación."
   ]
  },
  {
   "attachments": {},
   "cell_type": "markdown",
   "metadata": {},
   "source": [
    "### Parte 2"
   ]
  },
  {
   "attachments": {},
   "cell_type": "markdown",
   "metadata": {},
   "source": [
    "Primero grafiquemos la función original:"
   ]
  },
  {
   "cell_type": "code",
   "execution_count": null,
   "metadata": {},
   "outputs": [],
   "source": [
    "def f(x):   return 1-np.sin(x)\n",
    "c = np.pi/2\n",
    "x = np.concatenate((c-np.flip(np.logspace(-10,-1,10)), [c], c+np.logspace(-10,-1,10)))\n",
    "\n",
    "def graf(x,f, lab):\n",
    "    plt.scatter(x, f(x), color='xkcd:orange')\n",
    "    plt.gca().spines['right'].set_visible(False)\n",
    "    plt.gca().spines['top'].set_visible(False)\n",
    "    plt.title(f\"$f(x)$ {lab} en proximidad a C\" )\n",
    "    plt.ylabel(\"$f(x)$\")\n",
    "    plt.xlabel(\"x\")\n",
    "    plt.yscale(\"log\")\n",
    "    plt.grid(ls=\"--\")\n",
    "\n",
    "graf(x,f,\"original\")"
   ]
  },
  {
   "attachments": {},
   "cell_type": "markdown",
   "metadata": {},
   "source": [
    "Multiplicando $1-\\sin{x}$ por $\\frac{1+\\sin{x}}{1+\\sin{x}}$, tenemos $\\frac{\\cos^{2}x}{1+\\sin^{2}x}$, lo cual elimina la resta entre números demasiado cercanos."
   ]
  },
  {
   "cell_type": "code",
   "execution_count": null,
   "metadata": {},
   "outputs": [],
   "source": [
    "def fp(x):  return (np.power(np.cos(x),2))/(1+np.power(np.sin(x),2))\n",
    "\n",
    "graf(x,fp,\"modificada\")"
   ]
  },
  {
   "attachments": {},
   "cell_type": "markdown",
   "metadata": {},
   "source": [
    "Con la función modificada evitamos la resta entre números muy pequeños, una operación muy vulnerable a errores. Vemos que el resultado se aproxima cada vez más a cero y con una rapidez mayor."
   ]
  }
 ],
 "metadata": {
  "kernelspec": {
   "display_name": "base",
   "language": "python",
   "name": "python3"
  },
  "language_info": {
   "codemirror_mode": {
    "name": "ipython",
    "version": 3
   },
   "file_extension": ".py",
   "mimetype": "text/x-python",
   "name": "python",
   "nbconvert_exporter": "python",
   "pygments_lexer": "ipython3",
   "version": "3.9.13"
  },
  "vscode": {
   "interpreter": {
    "hash": "c98924fb2474a8d65f3ff65c74422614500910c1ccaa42b65c0a4f9f730f1862"
   }
  }
 },
 "nbformat": 4,
 "nbformat_minor": 2
}
