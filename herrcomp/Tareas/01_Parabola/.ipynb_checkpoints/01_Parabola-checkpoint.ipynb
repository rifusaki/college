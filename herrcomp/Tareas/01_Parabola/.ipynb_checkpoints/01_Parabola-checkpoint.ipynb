{
 "cells": [
  {
   "cell_type": "markdown",
   "id": "af134b1a-813c-4b35-b450-b8ce221a48a6",
   "metadata": {},
   "source": [
    "## Parabolic path and dictionaries\n",
    "by Martina García Mejía"
   ]
  },
  {
   "cell_type": "markdown",
   "id": "53538b6e-800c-4b61-aa53-e7c993d76372",
   "metadata": {},
   "source": [
    "### Importando paquetes, definiendo constantes y la función"
   ]
  },
  {
   "cell_type": "code",
   "execution_count": null,
   "id": "07a7bd5f-5864-416e-a658-30f7d6076548",
   "metadata": {},
   "outputs": [],
   "source": [
    "import numpy as np\n",
    "import matplotlib.pyplot as plt"
   ]
  },
  {
   "cell_type": "code",
   "execution_count": null,
   "id": "3c0b4a50-ae44-49a8-ae0c-a8af207a1230",
   "metadata": {},
   "outputs": [],
   "source": [
    "g = 9.81\n",
    "\n",
    "def maxh(params):\n",
    "    return (params[\"v0\"]*np.sin(params[\"theta0\"]))**2/(2*g)"
   ]
  },
  {
   "cell_type": "markdown",
   "id": "d938d376-bb2a-41b2-92d6-e9fd612cdbfe",
   "metadata": {},
   "source": [
    "### Altura máxima desde input"
   ]
  },
  {
   "cell_type": "code",
   "execution_count": null,
   "id": "e7c24061-f071-4dc1-9070-e03ff603f02c",
   "metadata": {},
   "outputs": [],
   "source": [
    "while True:\n",
    "    try: # Asegurar que el input es un float sin tener que volver a correr la función\n",
    "        usrparams = {\"v0\":float(input(\"Ingrese la rapidez inicial (m/s): \")), \n",
    "                 \"theta0\":float(input(\"Ingrese el ángulo de lanzamiento (rad): \"))}\n",
    "    except: continue\n",
    "    break\n",
    "    \n",
    "print(f\"\\nLa altura máxima del cuerpo es {maxh(usrparams):.3f}m\")"
   ]
  },
  {
   "cell_type": "markdown",
   "id": "4896bf0d-dd47-4c33-8181-9b7a2fd1793f",
   "metadata": {},
   "source": [
    "### Altura máxima en función del ángulo"
   ]
  },
  {
   "cell_type": "code",
   "execution_count": null,
   "id": "f6b64ec4-509b-4268-ba3c-6ab78894a632",
   "metadata": {},
   "outputs": [],
   "source": [
    "axparams = {\"v0\":2.34, \"theta0\": np.linspace(0, np.pi/2, 100)} # Parámetros dados por el ejercicio\n",
    "\n",
    "plt.figure(figsize=(12,8))\n",
    "plt.plot(axparams[\"theta0\"], maxh(axparams), color=\"xkcd:light purple\", label=\"Altura máxima (m)\")\n",
    "plt.xlabel(\"Ángulo de lanzamiento $\\Theta_{0}$\")\n",
    "plt.ylabel(\"Altura (m)\")\n",
    "plt.title(\"Altura máxima en función del ángulo $\\Theta_{0}$ $\\epsilon$ $[0, \\pi/2]$\")\n",
    "plt.gca().spines['top'].set_visible(False)\n",
    "plt.gca().spines['right'].set_visible(False)\n",
    "plt.grid(linestyle=\"--\")\n",
    "plt.legend()\n",
    "plt.savefig(\"Hmax.png\", dpi=300)\n",
    "plt.show()"
   ]
  }
 ],
 "metadata": {
  "kernelspec": {
   "display_name": "herrcomp",
   "language": "python",
   "name": "python3"
  },
  "language_info": {
   "codemirror_mode": {
    "name": "ipython",
    "version": 3
   },
   "file_extension": ".py",
   "mimetype": "text/x-python",
   "name": "python",
   "nbconvert_exporter": "python",
   "pygments_lexer": "ipython3",
   "version": "3.10.9"
  },
  "vscode": {
   "interpreter": {
    "hash": "b447fe641c03edaa635bce0c96df1e869fa5cd7fe0fabea2fbf324f51047b4b3"
   }
  }
 },
 "nbformat": 4,
 "nbformat_minor": 5
}
