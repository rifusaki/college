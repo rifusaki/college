{
 "cells": [
  {
   "attachments": {},
   "cell_type": "markdown",
   "metadata": {},
   "source": [
    "### Integración de datos \"experimentales\"\n",
    "Martina García Mejía\n",
    "\n",
    "Leidy Paola Guevara Diaz\n",
    "\n",
    "\n",
    "... y el resto? bien, gracias"
   ]
  },
  {
   "attachments": {},
   "cell_type": "markdown",
   "metadata": {},
   "source": [
    "#### Importando librerías y datos"
   ]
  },
  {
   "cell_type": "code",
   "execution_count": null,
   "metadata": {},
   "outputs": [],
   "source": [
    "import numpy as np\n",
    "import matplotlib.pyplot as plt\n",
    "from scipy.integrate import cumulative_trapezoid\n",
    "from scipy.optimize import curve_fit"
   ]
  },
  {
   "cell_type": "code",
   "execution_count": null,
   "metadata": {},
   "outputs": [],
   "source": [
    "'''La lectura de datos se hace localmente y en el mismo directorio en el que se encuentra el notebook, con el nombre original del archivo.'''\n",
    "\n",
    "data = np.genfromtxt(\"accel.txt\", delimiter=' ', missing_values=np.nan)\n",
    "t, a = data[:,0], data[:,1]"
   ]
  },
  {
   "attachments": {},
   "cell_type": "markdown",
   "metadata": {},
   "source": [
    "#### Lo interesante"
   ]
  },
  {
   "attachments": {},
   "cell_type": "markdown",
   "metadata": {},
   "source": [
    "Primero integremos numéricamente los datos de aceleración y velocidad usando el método del trapezoide."
   ]
  },
  {
   "cell_type": "code",
   "execution_count": null,
   "metadata": {},
   "outputs": [],
   "source": [
    "v = cumulative_trapezoid(a,t, initial=0)\n",
    "x = cumulative_trapezoid(v,t, initial=0)"
   ]
  },
  {
   "attachments": {},
   "cell_type": "markdown",
   "metadata": {},
   "source": [
    "Seleccionemos el rango de datos donde la aceleración es aproximadamente constante y hagamos un ajuste de la posición en función del tiempo, incluyendo errores."
   ]
  },
  {
   "cell_type": "code",
   "execution_count": null,
   "metadata": {},
   "outputs": [],
   "source": [
    "#   Rango donde la aceleración es semiconstante y sublistas en este rango\n",
    "cons_rg = (t > 1.0) & (t < 1.9)\n",
    "t_cons, a_cons, v_cons, x_cons = t[cons_rg], a[cons_rg], v[cons_rg], x[cons_rg]\n",
    "\n",
    "#   Regresión cuadrática\n",
    "def pos(t,xo,vo,a):\n",
    "    return xo+vo*t+a*(t**2)/2\n",
    "\n",
    "x_param, x_coparam = curve_fit(pos, t_cons, x_cons)   # Cálculo de parámetros del ajuste\n",
    "x_err = np.sqrt(np.diag(x_coparam))   # Errores estándar"
   ]
  },
  {
   "attachments": {},
   "cell_type": "markdown",
   "metadata": {},
   "source": [
    "Ahora sí, graficando:"
   ]
  },
  {
   "cell_type": "code",
   "execution_count": null,
   "metadata": {},
   "outputs": [],
   "source": [
    "fig, (ax1, ax2, ax3) = plt.subplots(1, 3, figsize=(25,5))\n",
    "fig.suptitle('Aceleración experimental, sus integrales numéricas y resultado de una regresión cuadrática sobre la posición')\n",
    "\n",
    "ax1.plot(t,a, marker='o', color='xkcd:green blue', label='Aceleración experimental', zorder=2)\n",
    "ax1.plot([min(t_cons), max(t_cons)],[x_param[2], x_param[2]], color=\"xkcd:purple\", linewidth=2, zorder=2, \n",
    "         label=f'a(t) = {x_param[2]:.3f}$\\pm${x_err[2]:.3f}')\n",
    "ax1.spines['top'].set_visible(False)\n",
    "ax1.spines['right'].set_visible(False)\n",
    "ax1.grid(ls='--', zorder=0)\n",
    "ax1.set_ylabel('Aceleración ($m/s^2$)')\n",
    "ax1.set_xlabel('Tiempo ($s$)')\n",
    "ax1.legend()\n",
    "ax1.set_title('Aceleración')\n",
    "\n",
    "ax2.plot(t,v, marker='o', color='xkcd:green blue', label='Velocidad: curva integral', zorder=1)\n",
    "ax2.plot(t_cons,x_param[2]*t_cons+x_param[1], color=\"xkcd:purple\", linewidth=2, zorder=2, \n",
    "         label=f'v(t) = ({x_param[1]:.3f}$\\pm${x_err[1]:.3f}) + ({x_param[2]:.3f}$\\pm${x_err[2]:.3f})t')\n",
    "ax2.spines['top'].set_visible(False)\n",
    "ax2.spines['right'].set_visible(False)\n",
    "ax2.grid(ls='--', zorder=0)\n",
    "ax2.set_ylabel('Velocidad ($m/s$)')\n",
    "ax2.set_xlabel('Tiempo ($s$)')\n",
    "ax2.legend()\n",
    "ax2.set_title('Velocidad')\n",
    "\n",
    "ax3.plot(t,x, marker='o', color='xkcd:green blue', label='Posición: curva segunda integral', zorder=1)\n",
    "ax3.plot(t_cons,pos(t_cons, *x_param), color=\"xkcd:purple\", linewidth=2, zorder=2,\n",
    "         label=f'x(t) = ({x_param[0]:.3f}$\\pm${x_err[0]:.3f}) + ({x_param[1]:.3f}$\\pm${x_err[1]:.3f})t + ({x_param[2]:.3f}$\\pm${x_err[2]:.3f})$t^{2}/2$ ')\n",
    "ax3.spines['top'].set_visible(False)\n",
    "ax3.spines['right'].set_visible(False)\n",
    "ax3.grid(ls='--', zorder=0)\n",
    "ax3.set_ylabel('Posición ($m$)')\n",
    "ax3.set_xlabel('Tiempo ($s$)')\n",
    "ax3.legend()\n",
    "ax3.set_title('Posición')\n"
   ]
  }
 ],
 "metadata": {
  "kernelspec": {
   "display_name": "base",
   "language": "python",
   "name": "python3"
  },
  "language_info": {
   "codemirror_mode": {
    "name": "ipython",
    "version": 3
   },
   "file_extension": ".py",
   "mimetype": "text/x-python",
   "name": "python",
   "nbconvert_exporter": "python",
   "pygments_lexer": "ipython3",
   "version": "3.9.13"
  }
 },
 "nbformat": 4,
 "nbformat_minor": 2
}
