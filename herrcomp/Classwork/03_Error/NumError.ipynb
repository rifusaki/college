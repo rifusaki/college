{
 "cells": [
  {
   "attachments": {},
   "cell_type": "markdown",
   "metadata": {},
   "source": [
    "## Integrantes\n",
    "\n",
    "*Leidy Paola Guevara Diaz*\n",
    "\n",
    "*Santiago Nova Acosta*\n",
    "\n",
    "*David Sáenz Lancheros*\n",
    "\n",
    "*Nelson Andrés Rodríguez*\n",
    "\n",
    "*Martina García Mejía*"
   ]
  },
  {
   "cell_type": "markdown",
   "metadata": {},
   "source": [
    "# Practical example: Series expansion of $e^{-x}$\n",
    "The function $e^{-x}$ can be expanded as \n",
    "$$e^{-x} = \\sum_{i=0}^{\\infty} (-1)^i \\frac{x^i}{i!} = 1 -  x + \\frac{x^2}{2} - \\frac{x^3}{6} + \\ldots \\ (|x| < \\infty)$$\n",
    "\n",
    "This is a great expansion, valid for all finite values of $x$. But, **what numerical problems do you see?**\n",
    "\n",
    "Implement a function that receives $x$ and $N$ (max number of terms), and saves the iteration value of the series as a function of $i$ in a file called `sumdata.txt`. Then load the data and plot it. Use $N = 10000$ and $x=1.8766$. You will need to implement also a factorial function."
   ]
  },
  {
   "cell_type": "code",
   "execution_count": null,
   "metadata": {},
   "outputs": [],
   "source": [
    "import matplotlib.pyplot as plt\n",
    "import numpy as np"
   ]
  },
  {
   "cell_type": "code",
   "execution_count": null,
   "metadata": {},
   "outputs": [],
   "source": [
    "# use fout.write(f\"...\") to save the data \n",
    "def exp_expansion(x, N, fname):\n",
    "    total = 0.0\n",
    "    fout = open(fname, \"w\")\n",
    "    for ii in range(N):\n",
    "        total += np.power(-1.0,ii)*np.power(x,ii)/factorial(ii)\n",
    "        fout.write(f\"{ii},{total}\\n\")\n",
    "    fout.close()\n",
    "    return fout\n",
    "\n",
    "def factorial(n):\n",
    "    result = 1.0\n",
    "    for ii in range(1,n+1):\n",
    "        result *= ii\n",
    "    return result\n",
    "\n",
    "    \n",
    "# Call the function  \n",
    "exp_expansion(x=1.8766, N=100, fname=\"sumdata.txt\")"
   ]
  },
  {
   "cell_type": "code",
   "execution_count": null,
   "metadata": {},
   "outputs": [],
   "source": [
    "#%matplotlib notebook\n",
    "# Plot the data\n",
    "x, y = np.loadtxt('sumdata.txt', unpack = True, delimiter=',')\n",
    "plt.plot(x, y, 'c.')"
   ]
  },
  {
   "cell_type": "markdown",
   "metadata": {},
   "source": [
    "As you can see, there are many problems with this approach. When doing computational tasks, you cannot think that  you are doing maths, you need to think also about the computer. \n",
    "\n",
    "Now try to avoid the intrinsic overflows, underflows (and substractive cancelations) by reworking the sum term in a recurrent way: if \n",
    "$$a_i = (-1)^i \\frac{x^i}{i!}$$\n",
    "how could you write $a_{i+1}$ as a function of $a_i$? Thin about it and then check the next cell."
   ]
  },
  {
   "cell_type": "markdown",
   "metadata": {},
   "source": [
    "\n",
    "$$a_{i+1} = \\frac{-x a_i}{i+1}$$\n"
   ]
  },
  {
   "cell_type": "markdown",
   "metadata": {},
   "source": [
    "Now your task is to implement a second version using the recurrence function and compare the results with the first one. Write a function that prints `i expansion1 expansion2` and plot the. Is there any advantage on using the new form?"
   ]
  },
  {
   "cell_type": "code",
   "execution_count": null,
   "metadata": {},
   "outputs": [],
   "source": [
    "# use fout.write(f\"...\") to save the data \n",
    "def exp_expansion_new(x, N, fname):\n",
    "    a_i = 1.0\n",
    "    total1, total2 = (0.0, 0.0)\n",
    "    exact = np.exp(-x)\n",
    "    fout = open(fname, \"w\")\n",
    "    for i in range(N+1):\n",
    "      # Método 1\n",
    "      total1 += np.power(-1.0,i)*np.power(x,i)/factorial(i)\n",
    "      err1 = np.abs(100*(exact-total1))/(exact)\n",
    "      # Método 2\n",
    "      total2 += a_i\n",
    "      a_i = -x*a_i/(i+1)\n",
    "      err2 = 100*np.abs((exact-total2))/(exact)\n",
    "\n",
    "      fout.write(f\"{i},{total1},{total2},{err1},{err2}\\n\")\n",
    "     \n",
    "    fout.close()\n",
    "\n",
    "# Call the NEW function  \n",
    "exp_expansion_new(x=1.8766, N=2000, fname=\"sumdatanew.txt\")"
   ]
  },
  {
   "cell_type": "code",
   "execution_count": null,
   "metadata": {},
   "outputs": [],
   "source": [
    "# Plot the data\n",
    "import matplotlib.pyplot as plt\n",
    "import numpy as np\n",
    "x, y, z, a, b = np.loadtxt('sumdatanew.txt', unpack = True, delimiter=',')\n",
    "plt.plot(x, y, 'go', label=\"Método 1\")\n",
    "plt.plot(x, z, 'k-', label=\"Método 2\")\n",
    "plt.legend()\n",
    "plt.ylabel(\"Resultado\")\n",
    "plt.xlabel(\"N\")\n",
    "plt.title(\"Expansión en series de $e^{-x}$\")\n",
    "plt.grid()"
   ]
  },
  {
   "attachments": {},
   "cell_type": "markdown",
   "metadata": {},
   "source": [
    "Graficando los errores porcentuales:"
   ]
  },
  {
   "cell_type": "code",
   "execution_count": null,
   "metadata": {},
   "outputs": [],
   "source": [
    "plt.plot(x[:30],a[:30], label=\"Método 1\", color=\"green\")\n",
    "plt.plot(x[:30],b[:30], '--', label=\"Método 2\", color=\"orange\")\n",
    "plt.xlabel(\"N\")\n",
    "plt.ylabel(\"Error porcentual\")\n",
    "plt.title(\"Error porcentual de la expansión en series de $e^{-x}$\")\n",
    "plt.grid('--')\n",
    "plt.legend()\n"
   ]
  },
  {
   "cell_type": "code",
   "execution_count": null,
   "metadata": {},
   "outputs": [],
   "source": [
    "plt.plot(x[:30],a[:30]-b[:30])\n",
    "plt.title(\"Diferencia de errores porcentuales\")\n",
    "plt.xlabel(\"N\")\n",
    "plt.ylabel(\"err1-err2\")\n",
    "plt.grid()\n",
    "plt.legend()"
   ]
  },
  {
   "attachments": {},
   "cell_type": "markdown",
   "metadata": {},
   "source": [
    "Vemos que los errores siguen tendiendo a cero con N más grande:"
   ]
  },
  {
   "cell_type": "code",
   "execution_count": null,
   "metadata": {},
   "outputs": [],
   "source": [
    "plt.plot(x,a, label=\"Método 1\", color=\"green\")\n",
    "plt.plot(x,b, '--', label=\"Método 2\", color=\"orange\")\n",
    "plt.xlabel(\"N\")\n",
    "plt.ylabel(\"Error porcentual\")\n",
    "plt.grid('--')\n",
    "plt.legend()"
   ]
  }
 ],
 "metadata": {
  "kernelspec": {
   "display_name": "base",
   "language": "python",
   "name": "python3"
  },
  "language_info": {
   "codemirror_mode": {
    "name": "ipython",
    "version": 3
   },
   "file_extension": ".py",
   "mimetype": "text/x-python",
   "name": "python",
   "nbconvert_exporter": "python",
   "pygments_lexer": "ipython3",
   "version": "3.9.13"
  },
  "vscode": {
   "interpreter": {
    "hash": "c98924fb2474a8d65f3ff65c74422614500910c1ccaa42b65c0a4f9f730f1862"
   }
  }
 },
 "nbformat": 4,
 "nbformat_minor": 2
}
