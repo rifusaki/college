{
 "cells": [
  {
   "cell_type": "markdown",
   "id": "64e14ede-2665-49a6-a275-a99db186fee2",
   "metadata": {},
   "source": [
    "## Heatmap\n",
    "\n",
    "Write a Python function that takes an integer n as input and returns a NumPy array of size n x n, where the elements of the array are random integers between lower and upper, which are also arguments of the function. Write a second function that takes the NumPy array as input and creates a heatmap of the array. Use these functions to create a program that generates a mxm NumPy array of random integers and displays it as a heatmap. Use several m\n",
    "\n",
    "### Names:\n",
    "   Manuel Angel García\n",
    "   \n",
    "   David Alejandro Marín Rincón\n",
    "   \n",
    "   Martina García Mejía\n",
    "   \n",
    "   David Alexander Rubio\n",
    "   \n",
    "   David Calderón Gómez\n",
    "   "
   ]
  },
  {
   "cell_type": "code",
   "execution_count": null,
   "id": "d7aac395-17cf-447f-ae3a-027d640df0ee",
   "metadata": {},
   "outputs": [],
   "source": [
    "import numpy as np\n",
    "import random\n",
    "import seaborn as sns\n",
    "import matplotlib.pyplot as plt\n",
    "\n",
    "def matrix(n,down,up):\n",
    "    return np.array([[random.randint(down,up) for i in range(n)] for j in range(n)]) \n",
    "\n",
    "def heatmap(array):\n",
    "    ht = sns.heatmap(array)\n",
    "    plt.show()\n",
    "\n",
    "for i in range(5):\n",
    "    n,down,up = [int(x.strip()) for x in input(\"Enter three coma separated values \")\n",
    "                 .split(\",\")]\n",
    "    heatmap(matrix(n,down,up))"
   ]
  }
 ],
 "metadata": {
  "kernelspec": {
   "display_name": "Python 3 (ipykernel)",
   "language": "python",
   "name": "python3"
  },
  "language_info": {
   "codemirror_mode": {
    "name": "ipython",
    "version": 3
   },
   "file_extension": ".py",
   "mimetype": "text/x-python",
   "name": "python",
   "nbconvert_exporter": "python",
   "pygments_lexer": "ipython3",
   "version": "3.10.9"
  }
 },
 "nbformat": 4,
 "nbformat_minor": 5
}
