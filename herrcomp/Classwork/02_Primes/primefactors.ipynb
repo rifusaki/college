{
 "cells": [
  {
   "cell_type": "code",
   "execution_count": null,
   "id": "6314cb9a-e4c4-412a-887f-019817087720",
   "metadata": {},
   "outputs": [],
   "source": [
    "\n",
    "import numpy as np\n",
    "\n",
    "def primefactors(n):\n",
    "    i = 2\n",
    "    factors = []\n",
    "    while i * i <= n:\n",
    "        if n % i:\n",
    "            i += 1\n",
    "        else:\n",
    "            n //= i\n",
    "            factors.append(i)\n",
    "    if n > 1:\n",
    "        factors.append(n)\n",
    "    return factors\n",
    "\n",
    "def isprime():\n",
    "    n = int(input(\"Ingrese un numero para saber si es primo: \").strip())\n",
    "    fact = primefactors(n)\n",
    "    if len(fact) == 1: \n",
    "        print(\"Sus factores son\", fact)\n",
    "    else:\n",
    "        print(n, \"es primo\")"
   ]
  },
  {
   "cell_type": "code",
   "execution_count": null,
   "id": "1654f6fa-325d-4507-82f6-894e9ce064f3",
   "metadata": {},
   "outputs": [],
   "source": [
    "isprime()"
   ]
  },
  {
   "cell_type": "code",
   "execution_count": null,
   "id": "e05cd388-5799-40e9-b174-a647e3ebc226",
   "metadata": {},
   "outputs": [],
   "source": [
    "print(primefactors(2))\n",
    "print(primefactors(10))\n",
    "print(primefactors(201))\n",
    "print(primefactors(97))\n",
    "print(primefactors(1213427))\n",
    "print(primefactors(1213428))"
   ]
  },
  {
   "cell_type": "code",
   "execution_count": null,
   "id": "3bc630d4-a892-4096-b210-90988ad36414",
   "metadata": {},
   "outputs": [],
   "source": [
    "del primefactors\n",
    "from sympy.ntheory import primefactors\n",
    "\n",
    "print(primefactors(2))\n",
    "print(primefactors(10))\n",
    "print(primefactors(201))\n",
    "print(primefactors(97))\n",
    "print(primefactors(1213427))\n",
    "print(primefactors(1213428))"
   ]
  }
 ],
 "metadata": {
  "kernelspec": {
   "display_name": "Python 3 (ipykernel)",
   "language": "python",
   "name": "python3"
  },
  "language_info": {
   "codemirror_mode": {
    "name": "ipython",
    "version": 3
   },
   "file_extension": ".py",
   "mimetype": "text/x-python",
   "name": "python",
   "nbconvert_exporter": "python",
   "pygments_lexer": "ipython3",
   "version": "3.10.9"
  }
 },
 "nbformat": 4,
 "nbformat_minor": 5
}
