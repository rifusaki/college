{
 "cells": [
  {
   "cell_type": "code",
   "execution_count": null,
   "metadata": {},
   "outputs": [],
   "source": [
    "import numpy as np\n",
    "import matplotlib.pyplot as plt"
   ]
  },
  {
   "cell_type": "code",
   "execution_count": null,
   "metadata": {},
   "outputs": [],
   "source": [
    "alpha, beta, gamma, delta = (1.1,0.4,0.4,0.1) # Condiciones iniciales\n",
    "\n",
    "def f(t,x,y):\n",
    "    return alpha*x-beta*x*y\n",
    "\n",
    "def g(t,x,y):\n",
    "    return delta*x*y-gamma*y\n",
    "\n",
    "t,x,y = (0,30,7) # Condiciones iniciales x2\n",
    "h = 0.01\n",
    "T,X,Y = ([t],[x],[y])\n",
    "\n",
    "alpha,beta,Fnorm = (1,1,0.1)\n",
    "\n",
    "def Rk4_coupled(t0,x0,y0,h,tmax):\n",
    "    t,x,y = (t0,x0,y0)\n",
    "    T,X,Y = ([t],[x],[y])\n",
    "    while t<=tmax:\n",
    "        k1x,k1y = (f(t,x,y), g(t,x,y))\n",
    "        k2x,k2y = (f(t+0.5*h,x+0.5*k1x*h,y+0.5*k1y*h), g(t+0.5*h,x+0.5*k1x*h,y+0.5*k1y*h))\n",
    "        k3x,k3y = (f(t+0.5*h,x+0.5*k2x*h,y+0.5*k2y*h), g(t+0.5*h,x+0.5*k2x*h,y+0.5*k2y*h))\n",
    "        k4x,k4y = (f(t+h,x+k3x*h,y+k3y*h), g(t+h,x+k3x*h,y+k3y*h))\n",
    "        x,y += ((k1x+2*k2x+2*k3x+k4x)*h/6, (k1y+2*k2y+2*k3y+k4y)*h/6)\n",
    "        t += h\n",
    "        T.append(t)\n",
    "        X.append(x)\n",
    "        Y.append(y)\n",
    "    return T,X,Y"
   ]
  }
 ],
 "metadata": {
  "kernelspec": {
   "display_name": "base",
   "language": "python",
   "name": "python3"
  },
  "language_info": {
   "name": "python",
   "version": "3.10.9"
  },
  "orig_nbformat": 4
 },
 "nbformat": 4,
 "nbformat_minor": 2
}
