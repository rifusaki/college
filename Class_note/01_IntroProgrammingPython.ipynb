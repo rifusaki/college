{
 "cells": [
  {
   "cell_type": "markdown",
   "id": "beaab18f",
   "metadata": {
    "colab_type": "text",
    "id": "view-in-github"
   },
   "source": [
    "<a href=\"https://colab.research.google.com/github/rifusaki/herrcomp/blob/master/01_IntroProgrammingPython.ipynb\" target=\"_parent\"><img src=\"https://colab.research.google.com/assets/colab-badge.svg\" alt=\"Open In Colab\"/></a>"
   ]
  },
  {
   "cell_type": "markdown",
   "id": "6bdb43a8-bbf2-4f7d-9ad4-c42fdd92de00",
   "metadata": {
    "id": "6bdb43a8-bbf2-4f7d-9ad4-c42fdd92de00"
   },
   "source": [
    "Before you turn this problem in, make sure everything runs as expected. First, **restart the kernel** (in the menubar, select Kernel$\\rightarrow$Restart) and then **run all cells** (in the menubar, select Cell$\\rightarrow$Run All).\n",
    "\n",
    "Make sure you fill in any place that says `YOUR CODE HERE` or \"YOUR ANSWER HERE\", as well as your name and collaborators below:"
   ]
  },
  {
   "cell_type": "code",
   "execution_count": null,
   "id": "cba1c46c-bbc6-446d-b610-8095fc85ffb0",
   "metadata": {
    "id": "cba1c46c-bbc6-446d-b610-8095fc85ffb0"
   },
   "outputs": [],
   "source": [
    "NAME = \"\"\n",
    "COLLABORATORS = \"NONE\""
   ]
  },
  {
   "cell_type": "markdown",
   "id": "9bfbac41",
   "metadata": {
    "id": "9bfbac41"
   },
   "source": [
    "# Python Programming (very fast) Introduction\n",
    "\n",
    "## Importing modules\n",
    "Python has an extensive standard library (https://docs.python.org/3/library/) to perform several task in optimized and easy-to-use way. For basic mathematical operations you can just use the normal operators, but for other standard functions, like `sin`, you could import the standard `math` module, or , much better, use either `numpy` or `scipy` modules\n",
    "```python\n",
    "import math as m # imports the math module with an alias m\n",
    "# import math # imports math module but you need to use math.sin or math.cos\n",
    "# from math import * # DO NOT do this: exposes all inners from math\n",
    "\n",
    "x = 5.2\n",
    "y = m.sin(x)\n",
    "print(x, y)\n",
    "```\n",
    "\n",
    "<div class=\"alert alert-block alert-info\">\n",
    "<b>Exercise:</b> Copy and execute the previous code in the following cell (use shift+enter to execute) \n",
    "</div>"
   ]
  },
  {
   "cell_type": "code",
   "execution_count": 3,
   "id": "bd0b402f",
   "metadata": {
    "colab": {
     "base_uri": "https://localhost:8080/"
    },
    "deletable": false,
    "id": "bd0b402f",
    "nbgrader": {
     "cell_type": "code",
     "checksum": "013f937e702eceac3ba76eed805f13eb",
     "grade": false,
     "grade_id": "cell-1d206d3930590507",
     "locked": false,
     "schema_version": 3,
     "solution": true,
     "task": false
    },
    "outputId": "50aff955-80ea-4d74-9e92-f468641b2664"
   },
   "outputs": [
    {
     "name": "stdout",
     "output_type": "stream",
     "text": [
      "5.2 -0.8834546557201531\n"
     ]
    }
   ],
   "source": [
    "import math as m\n",
    "\n",
    "x = 5.2\n",
    "y = m.sin(x)\n",
    "print(x, y)"
   ]
  },
  {
   "cell_type": "markdown",
   "id": "e28a35b2",
   "metadata": {
    "id": "e28a35b2"
   },
   "source": [
    "<div class=\"alert alert-block alert-info\">\n",
    "<b>Exercise:</b> Now replace math by numpy and execute it. Is there any difference?\n",
    "</div>"
   ]
  },
  {
   "cell_type": "code",
   "execution_count": 5,
   "id": "cd00df99",
   "metadata": {
    "colab": {
     "base_uri": "https://localhost:8080/"
    },
    "deletable": false,
    "id": "cd00df99",
    "nbgrader": {
     "cell_type": "code",
     "checksum": "9da8f546de4900093f1745c47b9f3c1b",
     "grade": false,
     "grade_id": "cell-d2ac73e7587d20db",
     "locked": false,
     "schema_version": 3,
     "solution": true,
     "task": false
    },
    "outputId": "51bf2f0a-7226-43bd-b24e-e5f37aadcbd5"
   },
   "outputs": [
    {
     "name": "stdout",
     "output_type": "stream",
     "text": [
      "5.2 -0.8834546557201531\n"
     ]
    }
   ],
   "source": [
    "import numpy as np\n",
    "\n",
    "x = 5.2\n",
    "y = np.sin(x)\n",
    "print(x, y)"
   ]
  },
  {
   "cell_type": "markdown",
   "id": "3563a52e",
   "metadata": {
    "id": "3563a52e"
   },
   "source": [
    "## Looking for help\n",
    "What are the units of the argument for the `sin` function? Are there any other functions provided by the `numpy` module? Check the documentation using either google or, inside a notebook\n",
    "```\n",
    "help(np.sin)\n",
    "help(np)\n",
    "np.sin?\n",
    "```"
   ]
  },
  {
   "cell_type": "code",
   "execution_count": null,
   "id": "b25edafd",
   "metadata": {
    "id": "b25edafd"
   },
   "outputs": [],
   "source": [
    "help(np)"
   ]
  },
  {
   "cell_type": "markdown",
   "id": "a8daf053",
   "metadata": {
    "id": "a8daf053"
   },
   "source": [
    "## Printing and reading to and from the screen\n",
    "\n",
    "You have already seen how to print to the screen. To read, you can use the function call ```input```. Try it:"
   ]
  },
  {
   "cell_type": "code",
   "execution_count": null,
   "id": "249e7093",
   "metadata": {
    "id": "249e7093"
   },
   "outputs": [],
   "source": [
    "var = input(\"Please write something :\\t\")\n",
    "print(\"You have written : \" + var)\n",
    "print(f\"You have written : {var}\") # uses a f-string: https://realpython.com/python-f-strings/"
   ]
  },
  {
   "cell_type": "markdown",
   "id": "7dfd07f6",
   "metadata": {
    "id": "7dfd07f6"
   },
   "source": [
    "You can also format the printing string, like you have done in c/c++ . For example, you can write something like"
   ]
  },
  {
   "cell_type": "code",
   "execution_count": 2,
   "id": "7d7dee4d",
   "metadata": {
    "id": "7d7dee4d"
   },
   "outputs": [
    {
     "name": "stdout",
     "output_type": "stream",
     "text": [
      "x = 0005 \t y = 2.3 \n",
      " y=2.3399999999999999e+00\n",
      "\n",
      "x = 0005 \t y = 2.34000 \n",
      " y=2.3399999999999999e+00\n"
     ]
    }
   ],
   "source": [
    "x = 5\n",
    "y = 2.34\n",
    "print(\"x = %04d \\t y = %.1f \\n y=%20.16e\\n\"%(x, y, y))\n",
    "print(f\"x = {x:04d} \\t y = {y:.5f} \\n y={y:20.16e}\")"
   ]
  },
  {
   "cell_type": "markdown",
   "id": "970119ef",
   "metadata": {
    "id": "970119ef"
   },
   "source": [
    "Note: if you need to manipulate strings and numbers, you should cast the number to string by using ```str```, as in ```str(x)``` ."
   ]
  },
  {
   "cell_type": "markdown",
   "id": "92ef186e",
   "metadata": {
    "id": "92ef186e"
   },
   "source": [
    "<div class=\"alert alert-block alert-info\">\n",
    "<b>Exercise:</b> Print the sum of two numbers with 5 decimals, filled with 0, and in field of 10 spaces \n",
    "</div>"
   ]
  },
  {
   "cell_type": "code",
   "execution_count": 11,
   "id": "051e43fa",
   "metadata": {
    "deletable": false,
    "id": "051e43fa",
    "nbgrader": {
     "cell_type": "code",
     "checksum": "466c25d15691e643883b9259e27f0a3c",
     "grade": false,
     "grade_id": "squares",
     "locked": false,
     "schema_version": 3,
     "solution": true
    },
    "tags": []
   },
   "outputs": [
    {
     "name": "stdout",
     "output_type": "stream",
     "text": [
      "0027.90000\n"
     ]
    }
   ],
   "source": [
    "x = 32.6\n",
    "y = -4.7\n",
    "print(f\"{x+y:010.5f}\")"
   ]
  },
  {
   "cell_type": "markdown",
   "id": "c9e26d3c",
   "metadata": {
    "id": "c9e26d3c"
   },
   "source": [
    "## Selection structures : `if`, `if else`\n",
    "\n",
    "This is a simple example on how to use if to select from several options"
   ]
  },
  {
   "cell_type": "code",
   "execution_count": null,
   "id": "29de0e0d",
   "metadata": {
    "id": "29de0e0d"
   },
   "outputs": [],
   "source": [
    "m = 5\n",
    "if m < 1:\n",
    "    print (f\"{m} is smaller than 1\")\n",
    "elif 1 <= m <= 4:\n",
    "    print (f\"{m} is in between 1 and 4\")\n",
    "else :\n",
    "    print (f\"{m} is larger than 4\")"
   ]
  },
  {
   "cell_type": "markdown",
   "id": "4ea48677",
   "metadata": {
    "id": "4ea48677"
   },
   "source": [
    "You can also compare values directly, or even compare several values"
   ]
  },
  {
   "cell_type": "code",
   "execution_count": null,
   "id": "5ff5dad0",
   "metadata": {
    "ExecuteTime": {
     "end_time": "2018-09-13T19:07:18.645052Z",
     "start_time": "2018-09-13T19:07:18.625357Z"
    },
    "id": "5ff5dad0"
   },
   "outputs": [],
   "source": [
    "print(2 == 3)\n",
    "print(2 == 2 and 3 > 9)\n",
    "print([2, 3] == [3, 2])\n",
    "print([2, 3] == [2, 2])\n",
    "print([2, 3] == [2, 3])"
   ]
  },
  {
   "cell_type": "markdown",
   "id": "d7939776",
   "metadata": {
    "id": "d7939776"
   },
   "source": [
    "<div class=\"alert alert-block alert-info\">\n",
    "<b>Exercise:</b> Read a number and indicate if the number is even or odd \n",
    "</div>"
   ]
  },
  {
   "cell_type": "code",
   "execution_count": null,
   "id": "1304ed12",
   "metadata": {
    "deletable": false,
    "id": "1304ed12",
    "nbgrader": {
     "cell_type": "code",
     "checksum": "a5ec35ebd41df13616479519c30fb84e",
     "grade": false,
     "grade_id": "cell-8ccf3fbf15c165e4",
     "locked": false,
     "schema_version": 3,
     "solution": true,
     "task": false
    }
   },
   "outputs": [],
   "source": [
    "# YOUR CODE HERE\n",
    "raise NotImplementedError()"
   ]
  },
  {
   "cell_type": "markdown",
   "id": "30642f5f",
   "metadata": {
    "id": "30642f5f"
   },
   "source": [
    "## Loop structures: for and while"
   ]
  },
  {
   "cell_type": "code",
   "execution_count": null,
   "id": "60729320",
   "metadata": {
    "id": "60729320"
   },
   "outputs": [],
   "source": [
    "N = 5\n",
    "i = 0\n",
    "while i < N:\n",
    "    print (i, end=\" \")\n",
    "    i = i+1"
   ]
  },
  {
   "cell_type": "code",
   "execution_count": null,
   "id": "97ef1cfa",
   "metadata": {
    "id": "97ef1cfa"
   },
   "outputs": [],
   "source": [
    "for ii in range(1, 10):\n",
    "    print(f\"{ii}\", end=\" \")"
   ]
  },
  {
   "cell_type": "code",
   "execution_count": null,
   "id": "6263818f",
   "metadata": {
    "id": "6263818f"
   },
   "outputs": [],
   "source": [
    "name = \"My name\" # a string is an array for characters\n",
    "for c in name:\n",
    "    print (c, end=\"-\")\n",
    "print()\n",
    "print(name[0])\n",
    "print(name[-1])"
   ]
  },
  {
   "cell_type": "markdown",
   "id": "3924024d",
   "metadata": {
    "id": "3924024d"
   },
   "source": [
    "<div class=\"alert alert-block alert-info\">\n",
    "<b>Exercise:</b> Print values from 0.0, to 1.0 (exclusive), in steps of 0.05 \n",
    "</div>"
   ]
  },
  {
   "cell_type": "code",
   "execution_count": null,
   "id": "d7041d21",
   "metadata": {
    "deletable": false,
    "id": "d7041d21",
    "nbgrader": {
     "cell_type": "code",
     "checksum": "3a81dc7c34d9e4c7b7882e47d39744bc",
     "grade": false,
     "grade_id": "cell-a83db8b3e865fef8",
     "locked": false,
     "schema_version": 3,
     "solution": true,
     "task": false
    }
   },
   "outputs": [],
   "source": [
    "# ii = 0.0\n",
    "# while ii < 1.0:\n",
    "#     print(ii)\n",
    "#     ii = ii + 0.05\n",
    "# YOUR CODE HERE\n",
    "raise NotImplementedError()"
   ]
  },
  {
   "cell_type": "markdown",
   "id": "015a42a7",
   "metadata": {
    "id": "015a42a7"
   },
   "source": [
    "<div class=\"alert alert-block alert-info\">\n",
    "<b>Exercise:</b> Now use numpy to do the same (check for the linspace function) \n",
    "</div>"
   ]
  },
  {
   "cell_type": "code",
   "execution_count": null,
   "id": "776ed24e",
   "metadata": {
    "deletable": false,
    "id": "776ed24e",
    "nbgrader": {
     "cell_type": "code",
     "checksum": "736337b68b68d7d3c52bc14f5b4adb5d",
     "grade": false,
     "grade_id": "cell-4d62b200c665b8ab",
     "locked": false,
     "schema_version": 3,
     "solution": true,
     "task": false
    }
   },
   "outputs": [],
   "source": [
    "# YOUR CODE HERE\n",
    "raise NotImplementedError()"
   ]
  },
  {
   "cell_type": "markdown",
   "id": "5ba3a295",
   "metadata": {
    "id": "5ba3a295"
   },
   "source": [
    "## How to declare functions\n",
    "Functions are the next construct necessary for the a good program design. A function should be defined by using the keyword ```def``` ."
   ]
  },
  {
   "cell_type": "code",
   "execution_count": null,
   "id": "674c345a",
   "metadata": {
    "id": "674c345a"
   },
   "outputs": [],
   "source": [
    "def my_function() : \n",
    "    print (\"I am the function\")\n",
    "    \n",
    "my_function() # this calls the function    \n"
   ]
  },
  {
   "cell_type": "code",
   "execution_count": null,
   "id": "27ac68d4",
   "metadata": {
    "id": "27ac68d4"
   },
   "outputs": [],
   "source": [
    "# this shows how to pass arguments\n",
    "def my_function(x):\n",
    "    print (f\"Value of argument is {x}\")\n",
    "    \n",
    "#my_function() # error, requires argument\n",
    "my_function(-3)\n",
    "my_function(0.9)\n"
   ]
  },
  {
   "cell_type": "code",
   "execution_count": null,
   "id": "468b3024",
   "metadata": {
    "id": "468b3024"
   },
   "outputs": [],
   "source": [
    "# this shows how to pass arguments, and assign default values\n",
    "def my_function(x = 0):\n",
    "    print (f\"Value of argument is {x}\")\n",
    "    \n",
    "my_function() # no longer an error\n",
    "my_function(-3)"
   ]
  },
  {
   "cell_type": "code",
   "execution_count": null,
   "id": "8c805e40",
   "metadata": {
    "id": "8c805e40"
   },
   "outputs": [],
   "source": [
    "# this shows how to pass arguments, assign default values, and also calls by named arguments\n",
    "def my_function(x = 0, y = 1):\n",
    "    print (\"Calling my_function\")\n",
    "    print (\"x \" + str(x))\n",
    "    print (\"y \" + str(y))\n",
    "    \n",
    "my_function() # no longer an error\n",
    "my_function(-3, 2) # x = -3, y = -2\n",
    "my_function(y=-3, x=2) # x = 2, y = -3"
   ]
  },
  {
   "cell_type": "markdown",
   "id": "d386b8fc",
   "metadata": {
    "id": "d386b8fc"
   },
   "source": [
    "### Exercises"
   ]
  },
  {
   "cell_type": "markdown",
   "id": "517e4395",
   "metadata": {
    "id": "517e4395"
   },
   "source": [
    "1. Write a function that receives a temperature in F and prints it in C "
   ]
  },
  {
   "cell_type": "code",
   "execution_count": null,
   "id": "bc84c9a2",
   "metadata": {
    "deletable": false,
    "id": "bc84c9a2",
    "nbgrader": {
     "cell_type": "code",
     "checksum": "102dd30e077fdbba266c1887ec95ad50",
     "grade": false,
     "grade_id": "cell-6d72db8e857ab57e",
     "locked": false,
     "schema_version": 3,
     "solution": true,
     "task": false
    }
   },
   "outputs": [],
   "source": [
    "def FtoC(f):\n",
    "# YOUR CODE HERE\n",
    "raise NotImplementedError()"
   ]
  },
  {
   "cell_type": "code",
   "execution_count": null,
   "id": "7c237050",
   "metadata": {
    "deletable": false,
    "editable": false,
    "id": "7c237050",
    "nbgrader": {
     "cell_type": "code",
     "checksum": "fd61d85dd6d9dfdfa3e85424fd2816a3",
     "grade": true,
     "grade_id": "cell-0764b89cea883781",
     "locked": true,
     "points": 0,
     "schema_version": 3,
     "solution": false,
     "task": false
    }
   },
   "outputs": [],
   "source": [
    "assert FtoC(0) == \"The temperature 0 F is equivalent to -17.78 C\"\n",
    "assert FtoC(10.3) == \"The temperature 10.3 F is equivalent to -12.06 C\"\n",
    "### BEGIN HIDDEN TEST\n",
    "assert FtoC(-10.3) == \"The temperature -10.3 F is equivalent to -23.50 C\"\n",
    "### END HIDDEN TEST"
   ]
  },
  {
   "cell_type": "markdown",
   "id": "3e19d984",
   "metadata": {
    "id": "3e19d984"
   },
   "source": [
    "2. The coordinates for the vertexes of a given triangle are written into a file in the form  \\begin{align*}x_1\\ \\ \\  y_1\\\\x_2\\ \\ \\  y_2\\\\x_3\\ \\ \\ y_3  \\end{align*} Write a program that reads this values, and computes the area of the triangle, defined as $$ A = \\frac{1}{2}[x_2y_3 - x_3y_2 - x_1y_3 + x_3y_1 + x_1y_2 - x_2y_1]$$. Use functions."
   ]
  },
  {
   "cell_type": "code",
   "execution_count": null,
   "id": "9a24a229",
   "metadata": {
    "id": "9a24a229"
   },
   "outputs": [],
   "source": []
  }
 ],
 "metadata": {
  "colab": {
   "include_colab_link": true,
   "provenance": []
  },
  "kernelspec": {
   "display_name": "Python 3 (ipykernel)",
   "language": "python",
   "name": "python3"
  },
  "language_info": {
   "codemirror_mode": {
    "name": "ipython",
    "version": 3
   },
   "file_extension": ".py",
   "mimetype": "text/x-python",
   "name": "python",
   "nbconvert_exporter": "python",
   "pygments_lexer": "ipython3",
   "version": "3.10.9"
  },
  "latex_envs": {
   "LaTeX_envs_menu_present": true,
   "autoclose": true,
   "autocomplete": true,
   "bibliofile": "biblio.bib",
   "cite_by": "apalike",
   "current_citInitial": 1,
   "eqLabelWithNumbers": true,
   "eqNumInitial": 1,
   "hotkeys": {
    "equation": "Ctrl-E",
    "itemize": "Ctrl-I"
   },
   "labels_anchors": false,
   "latex_user_defs": false,
   "report_style_numbering": false,
   "user_envs_cfg": false
  },
  "toc": {
   "base_numbering": 1,
   "nav_menu": {},
   "number_sections": true,
   "sideBar": true,
   "skip_h1_title": false,
   "title_cell": "Table of Contents",
   "title_sidebar": "Contents",
   "toc_cell": false,
   "toc_position": {},
   "toc_section_display": true,
   "toc_window_display": true
  }
 },
 "nbformat": 4,
 "nbformat_minor": 5
}
