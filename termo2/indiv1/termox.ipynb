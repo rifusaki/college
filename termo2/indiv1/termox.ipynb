{
 "cells": [
  {
   "cell_type": "code",
   "execution_count": null,
   "id": "e89aa1b8",
   "metadata": {},
   "outputs": [],
   "source": [
    "import pandas as pd\n",
    "import matplotlib.pyplot as plt\n",
    "import numpy as np\n",
    "from scipy.optimize import curve_fit"
   ]
  },
  {
   "cell_type": "code",
   "execution_count": null,
   "id": "59d624ab",
   "metadata": {},
   "outputs": [],
   "source": [
    "# Load the Excel file into a dictionary of DataFrames\n",
    "excel_data = pd.read_excel('data.xlsx', sheet_name=None)\n",
    "\n",
    "# Convert each sheet into the desired format\n",
    "data = {\n",
    "    sheet_name: {col: tuple(sheet[col]) for col in sheet.columns}\n",
    "    for sheet_name, sheet in excel_data.items()\n",
    "}"
   ]
  },
  {
   "cell_type": "code",
   "execution_count": null,
   "id": "dac70fd8",
   "metadata": {},
   "outputs": [],
   "source": [
    "def termistor(r):\n",
    "    return 1 / ((1/315.69540346) + (1/4215.24536648) * (np.log(r) - np.log(46.81845276))) - 273.15\n",
    "\n",
    "def termopar(v):\n",
    "    return 23.167170359486402 * v + 21.584628742215017\n",
    "\n",
    "def diodo(v):\n",
    "    return -381.65624624697824 * v + 198.19182382029874\n",
    "\n",
    "def termox(r):\n",
    "    return 25.29720763 + (1/0.08337824) * np.log((r - 3.21426157)/0.08302689)"
   ]
  },
  {
   "cell_type": "markdown",
   "id": "353ddd7d",
   "metadata": {},
   "source": [
    "## TermoX"
   ]
  },
  {
   "cell_type": "code",
   "execution_count": null,
   "id": "9e73e05e",
   "metadata": {},
   "outputs": [],
   "source": [
    "x = np.array([termistor(x) for x in data['TermoX']['Termistor']])\n",
    "y = data['TermoX']['X']\n",
    "\n",
    "def func(t, a, b, c, t0):\n",
    "    return a + b * np.exp(c * (t - t0))\n",
    "\n",
    "popt, pcov = curve_fit(func, x, y)\n",
    "\n",
    "plt.figure(figsize=(10,6))\n",
    "plt.scatter(x, y, color='xkcd:bright blue',marker='o', zorder=1, label='Original data')\n",
    "plt.plot(x, func(x, *popt), linewidth=2.5, color=\"xkcd:bright orange\", zorder=2, label=rf\"$R(T) = {popt[0]:.3f} + {popt[1]:.3f} \\cdot exp({popt[2]:.3f} \\cdot (T - {popt[3]:.3f}))$\")\n",
    "plt.xlabel(rf\"T $(C)$\")\n",
    "plt.ylabel(rf\"R $(K\\Omega)$\")\n",
    "plt.title(\"Termómetro X\") \n",
    "plt.gca().spines['top'].set_visible(False)\n",
    "plt.gca().spines['right'].set_visible(False)\n",
    "plt.grid(axis='both', linestyle=\"--\")\n",
    "plt.legend()\n",
    "# plt.savefig('Original.png', dpi=300)\n",
    "plt.show()"
   ]
  },
  {
   "cell_type": "code",
   "execution_count": null,
   "id": "42421214",
   "metadata": {},
   "outputs": [],
   "source": [
    "y = np.array([termistor(x) for x in data['TermoX']['Termistor']])\n",
    "x = np.array(data['TermoX']['X'])\n",
    "\n",
    "def func(r):\n",
    "    return 25.29720763 + (1/0.08337824) * np.log((r - 3.21426157)/0.08302689)\n",
    "\n",
    "plt.figure(figsize=(10,6))\n",
    "plt.scatter(x, y, color='xkcd:bright blue',marker='o', zorder=1, label='Original data')\n",
    "plt.plot(x, func(x), linewidth=2.5, color=\"xkcd:bright orange\", zorder=2, label=rf\"$T(R) = {25.29720763:.3f} + (1/{0.08337824:.3f}) \\cdot Ln((R - {3.21426157:.3f})/{0.08302689:.3f})$\")\n",
    "plt.ylabel(rf\"T $(C)$\")\n",
    "plt.xlabel(rf\"R $(K\\Omega)$\")\n",
    "plt.title(\"Termómetro X\") \n",
    "plt.gca().spines['top'].set_visible(False)\n",
    "plt.gca().spines['right'].set_visible(False)\n",
    "plt.grid(axis='both', linestyle=\"--\")\n",
    "plt.legend()\n",
    "plt.savefig('TR.png', dpi=300)\n",
    "plt.show()"
   ]
  },
  {
   "cell_type": "code",
   "execution_count": null,
   "id": "41b725ea",
   "metadata": {},
   "outputs": [],
   "source": [
    "y = np.array([termistor(x) for x in data['TermoX']['Termistor']])\n",
    "x = np.array(data['TermoX']['X'])\n",
    "\n",
    "def func(r, a, b, c, t0):\n",
    "    return t0 + (1/c) * np.log((r - a)/b)\n",
    "\n",
    "popt, pcov = curve_fit(func, x, y)\n",
    "\n",
    "plt.figure(figsize=(10,6))\n",
    "plt.scatter(x, y, color='xkcd:bright blue',marker='o', zorder=1, label='Original data')\n",
    "plt.plot(x, func(x, *popt), linewidth=2.5, color=\"xkcd:bright orange\", zorder=2, label=rf\"$R(T) = {popt[0]:.3f} + {popt[1]:.3f} \\cdot exp({popt[2]:.3f} \\cdot (T - {popt[3]:.3f}))$\")\n",
    "plt.ylabel(rf\"T $(C)$\")\n",
    "plt.xlabel(rf\"R $(K\\Omega)$\")\n",
    "plt.title(\"Termómetro X\") \n",
    "plt.gca().spines['top'].set_visible(False)\n",
    "plt.gca().spines['right'].set_visible(False)\n",
    "plt.grid(axis='both', linestyle=\"--\")\n",
    "plt.legend()\n",
    "#plt.savefig('mecworkheat.png', dpi=300)\n",
    "plt.show()"
   ]
  },
  {
   "cell_type": "markdown",
   "id": "c10d502a",
   "metadata": {},
   "source": [
    "## Punto triple"
   ]
  },
  {
   "cell_type": "code",
   "execution_count": null,
   "id": "34a78701",
   "metadata": {},
   "outputs": [],
   "source": [
    "# Ebullicion\n",
    "print(f\"Termistor: {termistor(8.8):.2f} °C\")\n",
    "print(f\"Alcohol: 88 °C\")\n",
    "print(f\"Diodo: {diodo(0.29):.2f} °C\")\n",
    "print(f\"Termopar: {termopar(2.9):.2f} °C\")"
   ]
  },
  {
   "cell_type": "code",
   "execution_count": null,
   "id": "31720d82",
   "metadata": {},
   "outputs": [],
   "source": [
    "# Congelacion\n",
    "print(f\"Termistor: {termistor(321):.2f} °C\")\n",
    "print(f\"Alcohol: 0 °C\")\n",
    "print(f\"Termometro X: {termox(3.23):.2f} °C\")"
   ]
  }
 ],
 "metadata": {
  "kernelspec": {
   "display_name": "college",
   "language": "python",
   "name": "python3"
  },
  "language_info": {
   "codemirror_mode": {
    "name": "ipython",
    "version": 3
   },
   "file_extension": ".py",
   "mimetype": "text/x-python",
   "name": "python",
   "nbconvert_exporter": "python",
   "pygments_lexer": "ipython3",
   "version": "3.8.18"
  }
 },
 "nbformat": 4,
 "nbformat_minor": 5
}
