{
 "cells": [
  {
   "cell_type": "code",
   "execution_count": null,
   "id": "17e1c837",
   "metadata": {},
   "outputs": [],
   "source": [
    "import pandas as pd\n",
    "import matplotlib.pyplot as plt\n",
    "import numpy as np\n",
    "from scipy.optimize import curve_fit\n",
    "from scipy.stats import linregress"
   ]
  },
  {
   "cell_type": "code",
   "execution_count": null,
   "id": "285ff65c",
   "metadata": {},
   "outputs": [],
   "source": [
    "# Load the Excel file into a dictionary of DataFrames\n",
    "excel_data = pd.read_excel('data.xlsx', sheet_name=None)\n",
    "\n",
    "# Convert each sheet into the desired format\n",
    "data = {\n",
    "    sheet_name: {col: tuple(sheet[col]) for col in sheet.columns}\n",
    "    for sheet_name, sheet in excel_data.items()\n",
    "}\n",
    "\n",
    "# Print the result (optional)\n",
    "print(data)"
   ]
  },
  {
   "cell_type": "markdown",
   "id": "444b8931",
   "metadata": {},
   "source": [
    "## Termopar\n",
    "Este es lineal iirc"
   ]
  },
  {
   "cell_type": "code",
   "execution_count": null,
   "id": "f7d7ac0e",
   "metadata": {},
   "outputs": [],
   "source": [
    "x = np.array(data['Termopar']['Termopar'])\n",
    "y = np.array(data['Termopar']['Alcohol'])\n",
    "\n",
    "termo_reg = linregress(x, y)\n",
    "print(termo_reg)\n",
    "\n",
    "plt.figure(figsize=(10,6))\n",
    "plt.scatter(x, y, color='xkcd:violet',marker='o', zorder=1, label='Original data')\n",
    "plt.plot(x, termo_reg.intercept + termo_reg.slope * x, color=\"xkcd:dark cyan\", zorder=2, label=rf'$T(R) = ({termo_reg.slope:.3f}) \\cdot R + ({termo_reg.intercept:.3f})$')\n",
    "plt.ylabel(rf\"T $(C)$\")\n",
    "plt.xlabel(rf\"V $(mV)$\")\n",
    "plt.title(\"Termopar\") \n",
    "plt.gca().spines['top'].set_visible(False)\n",
    "plt.gca().spines['right'].set_visible(False)\n",
    "plt.grid(axis='both', linestyle=\"--\")\n",
    "plt.legend()\n",
    "#plt.savefig('mecworkheat.png', dpi=300)\n",
    "plt.show()\n",
    "\n",
    "def termopar(v):\n",
    "    return 23.167170359486402 * v + 21.584628742215017"
   ]
  },
  {
   "cell_type": "markdown",
   "id": "129cd805",
   "metadata": {},
   "source": [
    "## Termistor"
   ]
  },
  {
   "cell_type": "markdown",
   "id": "7654f853",
   "metadata": {},
   "source": [
    "### Versión linealizada"
   ]
  },
  {
   "cell_type": "code",
   "execution_count": null,
   "id": "07aef083",
   "metadata": {},
   "outputs": [],
   "source": [
    "x = (data['Termistor']['Alcohol'])\n",
    "ln_y = np.log(data['Termistor']['Termistor'])\n",
    "\n",
    "termo_reg = linregress(x, ln_y)\n",
    "print(termo_reg)\n",
    "\n",
    "plt.figure(figsize=(10,6))\n",
    "plt.scatter(x, ln_y, color='xkcd:bright blue',marker='o', zorder=1, label='Original data')\n",
    "plt.plot(x, termo_reg.intercept + termo_reg.slope * np.array(x), linewidth=2.5, color=\"xkcd:bright orange\", zorder=2, label=rf'$R(T) = ({termo_reg.slope:.3f}) \\cdot Ln(T) + ({termo_reg.intercept:.3f})$')\n",
    "plt.xlabel(rf\"T $(C)$\")\n",
    "plt.ylabel(rf\"Ln(R) $(K\\Omega)$\")\n",
    "plt.title(\"Termistor\") \n",
    "plt.gca().spines['top'].set_visible(False)\n",
    "plt.gca().spines['right'].set_visible(False)\n",
    "plt.grid(axis='both', linestyle=\"--\")\n",
    "plt.legend()\n",
    "#plt.savefig('mecworkheat.png', dpi=300)\n",
    "plt.show()"
   ]
  },
  {
   "cell_type": "code",
   "execution_count": null,
   "id": "c0c7316c",
   "metadata": {},
   "outputs": [],
   "source": [
    "# Lo mismo pero T(R)\n",
    "\n",
    "y = (data['Termistor']['Alcohol'])\n",
    "ln_x = np.log(data['Termistor']['Termistor'])\n",
    "\n",
    "termo_reg = linregress(ln_x, y)\n",
    "print(termo_reg)\n",
    "\n",
    "plt.figure(figsize=(10,6))\n",
    "plt.scatter(ln_x, y, color='xkcd:bright blue',marker='o', zorder=1, label='Original data')\n",
    "plt.plot(ln_x, termo_reg.intercept + termo_reg.slope * np.array(ln_x), linewidth=2.5, color=\"xkcd:bright orange\", zorder=2, label=rf'$T(R) = ({termo_reg.slope:.3f}) \\cdot Ln(R) + ({termo_reg.intercept:.3f})$')\n",
    "plt.ylabel(rf\"T $(C)$\")\n",
    "plt.xlabel(rf\"Ln(R) $(K\\Omega)$\")\n",
    "plt.title(\"Termistor\") \n",
    "plt.gca().spines['top'].set_visible(False)\n",
    "plt.gca().spines['right'].set_visible(False)\n",
    "plt.grid(axis='both', linestyle=\"--\")\n",
    "plt.legend()\n",
    "#plt.savefig('mecworkheat.png', dpi=300)\n",
    "plt.show()"
   ]
  },
  {
   "cell_type": "markdown",
   "id": "1164a207",
   "metadata": {},
   "source": [
    "### Versión exponencial"
   ]
  },
  {
   "cell_type": "code",
   "execution_count": null,
   "id": "f3971bf7",
   "metadata": {},
   "outputs": [],
   "source": [
    "x = (data['Termistor']['Termistor'])\n",
    "y = (data['Termistor']['Alcohol'])\n",
    "\n",
    "def func(r, t0, b, r0):\n",
    "    return 1 / ((1/t0) + (1/b) * (np.log(r) - np.log(r0))) - 273.15\n",
    "\n",
    "popt, pcov = curve_fit(func, x, y)\n",
    "\n",
    "def termistor(r):\n",
    "    return 1 / ((1/315.69540346) + (1/4215.24536648) * (np.log(r) - np.log(46.81845276))) - 273.15\n",
    "\n",
    "plt.figure(figsize=(10,6))\n",
    "plt.scatter(x, y, color='xkcd:bright blue',marker='o', zorder=1, label='Original data')\n",
    "plt.plot(x, func(x, *popt), linewidth=2.5, color=\"xkcd:bright orange\", zorder=2, label=rf\"T = 1 / ((1/{popt[0]:.3f}]) + (1/{popt[1]:.3f})*ln(R/{popt[2]:.3f})) - 273.15\")\n",
    "plt.ylabel(rf\"T $(C)$\")\n",
    "plt.xlabel(rf\"R $(K\\Omega)$\")\n",
    "plt.title(\"Termistor\") \n",
    "plt.gca().spines['top'].set_visible(False)\n",
    "plt.gca().spines['right'].set_visible(False)\n",
    "plt.grid(axis='both', linestyle=\"--\")\n",
    "plt.legend()\n",
    "#plt.savefig('mecworkheat.png', dpi=300)\n",
    "plt.show()\n"
   ]
  },
  {
   "cell_type": "markdown",
   "id": "9d2a83e8",
   "metadata": {},
   "source": [
    "## Diodo"
   ]
  },
  {
   "cell_type": "code",
   "execution_count": null,
   "id": "9a916467",
   "metadata": {},
   "outputs": [],
   "source": [
    "y = np.array([termistor(x) for x in data['Diodo']['Termistor']])\n",
    "x = np.array(data['Diodo']['Diodo'])\n",
    "\n",
    "termo_reg = linregress(x, y)\n",
    "print(termo_reg)\n",
    "\n",
    "plt.figure(figsize=(10,6))\n",
    "plt.scatter(x, y, color='xkcd:violet',marker='o', zorder=1, label='Original data')\n",
    "plt.plot(x, termo_reg.intercept + termo_reg.slope * x, color=\"xkcd:dark cyan\", zorder=2, label=rf'$T(R) = ({termo_reg.slope:.3f}) \\cdot R + ({termo_reg.intercept:.3f})$')\n",
    "plt.ylabel(rf\"T $(C)$\")\n",
    "plt.xlabel(rf\"V $(V)$\")\n",
    "plt.title(\"Diodo\") \n",
    "plt.gca().spines['top'].set_visible(False)\n",
    "plt.gca().spines['right'].set_visible(False)\n",
    "plt.grid(axis='both', linestyle=\"--\")\n",
    "plt.legend()\n",
    "#plt.savefig('mecworkheat.png', dpi=300)\n",
    "plt.show()\n",
    "\n",
    "def diodo(v):\n",
    "    return -381.65624624697824 * v + 198.19182382029874"
   ]
  }
 ],
 "metadata": {
  "kernelspec": {
   "display_name": "college",
   "language": "python",
   "name": "python3"
  },
  "language_info": {
   "codemirror_mode": {
    "name": "ipython",
    "version": 3
   },
   "file_extension": ".py",
   "mimetype": "text/x-python",
   "name": "python",
   "nbconvert_exporter": "python",
   "pygments_lexer": "ipython3",
   "version": "3.8.18"
  }
 },
 "nbformat": 4,
 "nbformat_minor": 5
}
