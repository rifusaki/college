{
 "cells": [
  {
   "cell_type": "code",
   "execution_count": null,
   "id": "9fc11d38",
   "metadata": {},
   "outputs": [],
   "source": [
    "import pandas as pd\n",
    "import matplotlib.pyplot as plt\n",
    "import numpy as np\n",
    "from scipy.optimize import curve_fit\n",
    "from scipy.stats import linregress"
   ]
  },
  {
   "cell_type": "code",
   "execution_count": null,
   "id": "de0a4ea4",
   "metadata": {},
   "outputs": [],
   "source": [
    "excel_data = pd.read_excel('data.xlsx', sheet_name=None)\n",
    "\n",
    "data = {\n",
    "    sheet_name: {col: tuple(sheet[col]) for col in sheet.columns}\n",
    "    for sheet_name, sheet in excel_data.items()\n",
    "}\n"
   ]
  },
  {
   "cell_type": "markdown",
   "id": "2ee996bf",
   "metadata": {},
   "source": [
    "## Termistor"
   ]
  },
  {
   "cell_type": "code",
   "execution_count": null,
   "id": "5d69ce01",
   "metadata": {},
   "outputs": [],
   "source": [
    "t = data['termistor']['C']\n",
    "r = [i/1000 for i in data['termistor']['Ohm']]\n",
    "\n",
    "def func(r, t0, b, r0):\n",
    "    return 1 / ((1/t0) + (1/b) * (np.log(r) - np.log(r0))) - 273.15\n",
    "\n",
    "popt, pcov = curve_fit(func, r, t)\n",
    "\n",
    "plt.figure(figsize=(10,6))\n",
    "plt.scatter(r, t, color='xkcd:bright blue',marker='o', zorder=1, label='Original data')\n",
    "plt.plot(r, func(r, *popt), linewidth=2.5, color=\"xkcd:bright orange\", zorder=2, label=rf\"T = 1 / ((1/{popt[0]:.3f}]) + (1/{popt[1]:.3f})*ln(R/{popt[2]:.3f})) - 273.15\")\n",
    "plt.ylabel(rf\"T $(C)$\")\n",
    "plt.xlabel(rf\"R $(K\\Omega)$\")\n",
    "plt.title(\"Termistor\") \n",
    "plt.gca().spines['top'].set_visible(False)\n",
    "plt.gca().spines['right'].set_visible(False)\n",
    "plt.grid(axis='both', linestyle=\"--\")\n",
    "plt.legend()\n",
    "#plt.savefig('mecworkheat.png', dpi=300)\n",
    "plt.show()\n",
    "\n",
    "def termistor(r):\n",
    "    return 1 / ((1/popt[0]) + (1/popt[1]) * (np.log(r) - np.log(popt[2]))) - 273.15"
   ]
  },
  {
   "cell_type": "markdown",
   "id": "fdf33827",
   "metadata": {},
   "source": [
    "## Equivalente Mecánico"
   ]
  },
  {
   "cell_type": "markdown",
   "id": "ee1747fb",
   "metadata": {},
   "source": [
    "### Parte 1"
   ]
  },
  {
   "cell_type": "code",
   "execution_count": null,
   "id": "4d24d0c9",
   "metadata": {},
   "outputs": [],
   "source": [
    "# Equivalente mecánico\n",
    "n1 = data['mec']['n']\n",
    "t1 = termistor(data['mec']['R'])\n",
    "n2 = data['mec2']['n']\n",
    "t2 = termistor(data['mec2']['R'])\n",
    "\n",
    "(m_cal,m_pb,g,c,r) = (0.311,3.483,9.81,214,0.0565/2)\n",
    "\n",
    "def Q(x,ti):\n",
    "    return m_cal*c*(x-ti)\n",
    "def W(x):\n",
    "    return (m_pb*g)*(2*np.pi*r)*x\n",
    "\n",
    "calor = [[Q(i,t1[0]) for i in t1], [Q(i,t2[0]) for i in t2]]\n",
    "trabajo = [[W(i) for i in n1], [W(i) for i in n2]]\n",
    "\n",
    "termo_reg = [linregress(i, j) for i, j in zip(calor, trabajo)]\n",
    "\n",
    "plt.figure(figsize=(10,6))\n",
    "plt.scatter(calor[0], trabajo[0], color='xkcd:bright blue',marker='.', zorder=0, label='Data 1')\n",
    "plt.plot(calor[0], termo_reg[0][0]*np.array(calor[0]) + termo_reg[0][1], linewidth=2, color=\"xkcd:bright orange\", zorder=0, label=rf\"$y_1 = {termo_reg[0][0]:.2f}x + {termo_reg[0][1]:.2f}$\")\n",
    "plt.scatter(calor[1], trabajo[1], color='xkcd:bright purple',marker='.', zorder=0, label='Data 2')\n",
    "plt.plot(calor[1], termo_reg[1][0]*np.array(calor[1]) + termo_reg[1][1], linewidth=2, color=\"xkcd:green\", zorder=1, label=rf\"$y_2 = {termo_reg[1][0]:.2f}x + {termo_reg[1][1]:.2f}$\")\n",
    "plt.xlabel(rf\"Q $(cal)$\")\n",
    "plt.ylabel(rf\"W $(J)$\")\n",
    "plt.title(\"Equivalente mecánico\") \n",
    "plt.gca().spines['top'].set_visible(False)\n",
    "plt.gca().spines['right'].set_visible(False)\n",
    "plt.grid(axis='both', linestyle=\"--\")\n",
    "plt.legend()\n",
    "plt.savefig('Mec.png', dpi=300)\n",
    "plt.show()"
   ]
  }
 ],
 "metadata": {
  "kernelspec": {
   "display_name": "college",
   "language": "python",
   "name": "python3"
  },
  "language_info": {
   "codemirror_mode": {
    "name": "ipython",
    "version": 3
   },
   "file_extension": ".py",
   "mimetype": "text/x-python",
   "name": "python",
   "nbconvert_exporter": "python",
   "pygments_lexer": "ipython3",
   "version": "3.8.18"
  }
 },
 "nbformat": 4,
 "nbformat_minor": 5
}
