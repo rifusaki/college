{
 "cells": [
  {
   "cell_type": "code",
   "execution_count": 1,
   "id": "aef313b2",
   "metadata": {},
   "outputs": [
    {
     "name": "stdout",
     "output_type": "stream",
     "text": [
      "Hierro 1: 0.1061, -0.848%\n",
      "Hierro 2: 0.1044, -2.461% \n",
      "\n",
      "Aluminio 1: 0.2079, -3.326%\n",
      "Aluminio 2: 0.2080, -3.238% \n",
      "\n",
      "Bronce 1: 0.0912, 3.605%\n",
      "Bronce 2: 0.0899, 2.213% \n",
      "\n",
      "Plomo 1: 0.0317, 5.572%\n",
      "Plomo 2: 0.0308, 2.814% \n",
      "\n"
     ]
    }
   ],
   "source": [
    "def calor(mm, Ti, Tf, ma, Ta, ve):\n",
    "    (ca, mcal, ccal) = (1, 49.1, 0.215)\n",
    "    res = ((ma-mcal) * ca * (Tf - Ta) + mcal * ccal * (Tf - Ta))/(mm * (Ti - Tf))\n",
    "    err = 100*(res-ve)/ve\n",
    "\n",
    "    return res, err\n",
    "\n",
    "\n",
    "res, err = calor(58.4, 90.8, 27.15, 109.6, 21.6, 0.107)\n",
    "print(rf\"Hierro 1: {res:.4f}, {err:.3f}%\")\n",
    "res, err = calor(58.4, 90.7, 26.3, 132, 22.1, 0.107)\n",
    "print(rf\"Hierro 2: {res:.4f}, {err:.3f}%\", \"\\n\")\n",
    "\n",
    "res, err = calor(18.6, 90.8, 24.2, 158.3, 22.05, 0.215)\n",
    "print(rf\"Aluminio 1: {res:.4f}, {err:.3f}%\")\n",
    "res, err = calor(18.6, 91, 24, 162, 21.9, 0.215)\n",
    "print(rf\"Aluminio 2: {res:.4f}, {err:.3f}%\", \"\\n\")\n",
    "\n",
    "res, err = calor(56.4, 90.4, 24.75, 161.3, 22, 0.088)\n",
    "print(rf\"Bronce 1: {res:.4f}, {err:.3f}%\")\n",
    "res, err = calor(56.4, 90.3, 24.7, 161.8, 22, 0.088)\n",
    "print(rf\"Bronce 2: {res:.4f}, {err:.3f}%\", \"\\n\")\n",
    "\n",
    "res, err = calor(133, 90.4, 25, 144.5, 22.4, 0.030)\n",
    "print(rf\"Plomo 1: {res:.4f}, {err:.3f}%\")\n",
    "res, err = calor(133, 90.3, 24.5, 136.7, 21.75, 0.030)\n",
    "print(rf\"Plomo 2: {res:.4f}, {err:.3f}%\", \"\\n\")"
   ]
  },
  {
   "cell_type": "code",
   "execution_count": null,
   "id": "3d9d99f4",
   "metadata": {},
   "outputs": [],
   "source": []
  }
 ],
 "metadata": {
  "kernelspec": {
   "display_name": "base",
   "language": "python",
   "name": "python3"
  },
  "language_info": {
   "codemirror_mode": {
    "name": "ipython",
    "version": 3
   },
   "file_extension": ".py",
   "mimetype": "text/x-python",
   "name": "python",
   "nbconvert_exporter": "python",
   "pygments_lexer": "ipython3",
   "version": "3.12.7"
  }
 },
 "nbformat": 4,
 "nbformat_minor": 5
}
