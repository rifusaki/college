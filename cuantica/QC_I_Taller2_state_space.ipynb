{
  "nbformat": 4,
  "nbformat_minor": 0,
  "metadata": {
    "colab": {
      "provenance": [],
      "collapsed_sections": [
        "gQeoW-EAtuGj",
        "riV0ee0Juggy"
      ]
    },
    "kernelspec": {
      "name": "python3",
      "display_name": "Python 3"
    },
    "language_info": {
      "name": "python"
    }
  },
  "cells": [
    {
      "cell_type": "markdown",
      "source": [
        "# Quantum states - kets!\n",
        "The goal of this simple notebook is to walk you through the basic use of QuTiP while you learn how to operate with quantum states.\n",
        "\n",
        "## Basics of QuTiP\n",
        "\n",
        "Documentation on the package as well as instructions on how to install it can be found at https://qutip.org/\n"
      ],
      "metadata": {
        "id": "5vP2Nufej91Q"
      }
    },
    {
      "cell_type": "markdown",
      "source": [
        "## Quantum states\n",
        "### Basis\n",
        "To start, let us use one of the  examples that you work with in the excercises list 2. We consider a vector space $\\mathcal{V}$ with $\\dim \\mathcal{V} = 3$, and consider the orthonormal basis $\\{|a_{i}\\rangle\\}$, $i=1,2,3$.\n",
        "\n",
        "In **QuTiP** the basis elements can be easily define as unitary vectors or kets. For this we use the `qutip.Qobj` object class:"
      ],
      "metadata": {
        "id": "tOVgbuH7hVzd"
      }
    },
    {
      "cell_type": "markdown",
      "source": [
        "###Preliminaries\n",
        "\n",
        "For the excercise in this notebook, besides **QuTiP**, we only need the **Numpy** package."
      ],
      "metadata": {
        "id": "iJNuhJviaQhT"
      }
    },
    {
      "cell_type": "code",
      "execution_count": 10,
      "metadata": {
        "id": "XPUqebJrgZl1"
      },
      "outputs": [],
      "source": [
        "import numpy as np"
      ]
    },
    {
      "cell_type": "markdown",
      "source": [
        "I have prepared this notebook in **Colab**, therefore I must install the **QuTiP** everytime I start my notebook. If you have a local installation of the package the first lines of the code bellow can be commented.\n",
        "\n"
      ],
      "metadata": {
        "id": "siTJEPuNbVOF"
      }
    },
    {
      "cell_type": "code",
      "source": [
        "try:\n",
        "    import qutip\n",
        "except:\n",
        "    !pip install qutip\n",
        "    import qutip\n",
        "\n",
        "from qutip import *\n",
        "qutip.__version__"
      ],
      "metadata": {
        "id": "qVtCcKeigfjN",
        "colab": {
          "base_uri": "https://localhost:8080/",
          "height": 35
        },
        "outputId": "27db2582-1ca2-4e08-deca-8379790dafbb"
      },
      "execution_count": 11,
      "outputs": [
        {
          "output_type": "execute_result",
          "data": {
            "text/plain": [
              "'4.7.2'"
            ],
            "application/vnd.google.colaboratory.intrinsic+json": {
              "type": "string"
            }
          },
          "metadata": {},
          "execution_count": 11
        }
      ]
    },
    {
      "cell_type": "code",
      "source": [
        "# Basis state\n",
        "a1 = Qobj([[1],[0],[0]])\n",
        "a2 = Qobj([[0],[1],[0]])\n",
        "a3 = Qobj([[0],[0],[1]])"
      ],
      "metadata": {
        "id": "MDJarHOUIC4W"
      },
      "execution_count": 3,
      "outputs": []
    },
    {
      "cell_type": "markdown",
      "source": [
        "We can check that the basis elements are orthonormal. For this we use the inner product wich is implemented in **QuTiP** as `Q.overlap(state)`. Note that the innerproduct returns a complex number. Alternatively, the state norm is evaluated using `Q.norm()`, which returns the $L^2$ norm for states."
      ],
      "metadata": {
        "id": "ZN-4TGUeNEFm"
      }
    },
    {
      "cell_type": "code",
      "source": [
        "# normalization\n",
        "print(a2.overlap(a2))\n",
        "print(a1.norm())\n",
        "# orthogonality\n",
        "print(a1.overlap(a2))\n",
        "print(a1.overlap(a3))\n",
        "print(a3.overlap(a2))"
      ],
      "metadata": {
        "colab": {
          "base_uri": "https://localhost:8080/"
        },
        "id": "Uxft1WtrNLS1",
        "outputId": "c1aa0c2c-2ecf-4172-8dae-2281a955e566"
      },
      "execution_count": 4,
      "outputs": [
        {
          "output_type": "stream",
          "name": "stdout",
          "text": [
            "(1+0j)\n",
            "1.0\n",
            "0j\n",
            "0j\n",
            "0j\n"
          ]
        }
      ]
    },
    {
      "cell_type": "markdown",
      "source": [
        "### Quantum states\n",
        "Let us now construct the following states:\n",
        "$$|\\gamma \\rangle = \\frac{1}{\\sqrt{2}}\\left((3+i) |a_1 \\rangle + 4 |a_2 \\rangle - 6j |a_3 \\rangle \\right) $$\n",
        "$$|\\eta \\rangle = \\frac{1}{\\sqrt{13}}\\left(2i |a_1 \\rangle + 3 |a_3 \\rangle \\right). $$"
      ],
      "metadata": {
        "id": "2_4tAkGYMFrW"
      }
    },
    {
      "cell_type": "code",
      "source": [
        "# quantum states\n",
        "gamma_ket = (1.0 / np.sqrt(2))*((3+1j)*a1 + 4*a2 - 6j*a3)\n",
        "eta_ket = (1.0 / np.sqrt(13))*(2j*a1 + 3*a3)\n",
        "print(gamma_ket)\n",
        "print(eta_ket)"
      ],
      "metadata": {
        "colab": {
          "base_uri": "https://localhost:8080/"
        },
        "id": "ESLsJUO-JzQO",
        "outputId": "a44fef93-ac74-40b0-9345-4f351ae74f72"
      },
      "execution_count": 5,
      "outputs": [
        {
          "output_type": "stream",
          "name": "stdout",
          "text": [
            "Quantum object: dims = [[3], [1]], shape = (3, 1), type = ket\n",
            "Qobj data =\n",
            "[[2.12132034+0.70710678j]\n",
            " [2.82842712+0.j        ]\n",
            " [0.        -4.24264069j]]\n",
            "Quantum object: dims = [[3], [1]], shape = (3, 1), type = ket\n",
            "Qobj data =\n",
            "[[0.        +0.5547002j]\n",
            " [0.        +0.j       ]\n",
            " [0.83205029+0.j       ]]\n"
          ]
        }
      ]
    },
    {
      "cell_type": "markdown",
      "source": [
        "Note that the states so constructed are also of the class Qobj.\n",
        "\n",
        "Are the states normalized?"
      ],
      "metadata": {
        "id": "mPX0RiPsmhns"
      }
    },
    {
      "cell_type": "code",
      "source": [
        "# checking the norm of the states\n",
        "print('norm of gamma=',gamma_ket.norm())\n",
        "print('norm of eta=',eta_ket.norm())"
      ],
      "metadata": {
        "colab": {
          "base_uri": "https://localhost:8080/"
        },
        "id": "TWHqCiAgmtB5",
        "outputId": "701fc314-44f8-45de-e21f-5b36f1af36a1"
      },
      "execution_count": 6,
      "outputs": [
        {
          "output_type": "stream",
          "name": "stdout",
          "text": [
            "norm of gamma= 5.5677643628300215\n",
            "norm of eta= 1.0\n"
          ]
        }
      ]
    },
    {
      "cell_type": "markdown",
      "source": [
        "Clearly, $|\\eta\\rangle $ is normalized, but $|\\gamma\\rangle $ is not. We can normalize it using `Q.unit()`. Let us then construct the normalized states,"
      ],
      "metadata": {
        "id": "7eKfxZZYf3jM"
      }
    },
    {
      "cell_type": "code",
      "source": [
        "# normalized states\n",
        "gammaN_ket = gamma_ket.unit()\n",
        "etaN_ket = eta_ket\n",
        "# checking normalization\n",
        "print('norm of gammaN=',gammaN_ket.norm())\n",
        "print('norm of etaN=',etaN_ket.norm())"
      ],
      "metadata": {
        "colab": {
          "base_uri": "https://localhost:8080/"
        },
        "id": "Um8LXgJsghox",
        "outputId": "0ade4cca-a9dc-44a8-cce0-d473cc2edb10"
      },
      "execution_count": 7,
      "outputs": [
        {
          "output_type": "stream",
          "name": "stdout",
          "text": [
            "norm of gammaN= 1.0\n",
            "norm of etaN= 1.0\n"
          ]
        }
      ]
    },
    {
      "cell_type": "markdown",
      "source": [
        "The adjoint states or *bras* can be obtained using `Q.dag()`"
      ],
      "metadata": {
        "id": "wsskUZxUg9ly"
      }
    },
    {
      "cell_type": "code",
      "source": [
        "# obtaining the 'bras'\n",
        "gamma_bra = gammaN_ket.dag()\n",
        "eta_bra = etaN_ket.dag()\n",
        "print('gamma_bra ---',gamma_bra)\n",
        "print('eta_bra ---',gamma_bra)"
      ],
      "metadata": {
        "colab": {
          "base_uri": "https://localhost:8080/"
        },
        "id": "RsEmRurFg9NG",
        "outputId": "22eb4f5e-a9fe-4ab3-b5d9-ef021ad5f8ff"
      },
      "execution_count": null,
      "outputs": [
        {
          "output_type": "stream",
          "name": "stdout",
          "text": [
            "gamma_bra --- Quantum object: dims = [[1], [3]], shape = (1, 3), type = bra\n",
            "Qobj data =\n",
            "[[0.38100038-0.12700013j 0.50800051+0.j         0.        +0.76200076j]]\n",
            "eta_bra --- Quantum object: dims = [[1], [3]], shape = (1, 3), type = bra\n",
            "Qobj data =\n",
            "[[0.38100038-0.12700013j 0.50800051+0.j         0.        +0.76200076j]]\n"
          ]
        }
      ]
    },
    {
      "cell_type": "markdown",
      "source": [
        "One has to be carefully evaluating the 'bra-ket' or internal product directly, as in **QuTiP** the result is still an `Qobj` and not a complex number:"
      ],
      "metadata": {
        "id": "nYVPJimfjbBG"
      }
    },
    {
      "cell_type": "code",
      "source": [
        "# direct bra-ket (internal product) evaluation\n",
        "print('Qobj --- ',gamma_bra*etaN_ket)\n",
        "# dot product\n",
        "print('Complex number --- ',gamma_bra.overlap(etaN_ket))\n",
        "print('Complex number --- ',gammaN_ket.overlap(etaN_ket))\n",
        "print('Complex number --- ',eta_bra.overlap(gammaN_ket))"
      ],
      "metadata": {
        "colab": {
          "base_uri": "https://localhost:8080/"
        },
        "id": "xMVRb0RViIpo",
        "outputId": "ba760738-fa71-4660-863e-20cb01814541"
      },
      "execution_count": null,
      "outputs": [
        {
          "output_type": "stream",
          "name": "stdout",
          "text": [
            "Qobj ---  Quantum object: dims = [[1], [1]], shape = (1, 1), type = bra\n",
            "Qobj data =\n",
            "[[0.070447+0.84536394j]]\n",
            "Complex number ---  (0.0704469953676347+0.8453639444116163j)\n",
            "Complex number ---  (0.0704469953676347+0.8453639444116163j)\n",
            "Complex number ---  (0.0704469953676347-0.8453639444116163j)\n"
          ]
        }
      ]
    },
    {
      "cell_type": "markdown",
      "source": [
        "### Projectors\n",
        "\n",
        "To conclude, we can construct the projector along any given state using `Q.proj()\n",
        "`. Take for example $P_{|\\gamma\\rangle} = |\\gamma\\rangle \\langle\\gamma|$. It is obtain via"
      ],
      "metadata": {
        "id": "OW6vIQpmkEtu"
      }
    },
    {
      "cell_type": "code",
      "source": [
        "# projector\n",
        "proj_gamma = gammaN_ket.proj()"
      ],
      "metadata": {
        "id": "UBY8b4wSl-D-"
      },
      "execution_count": 8,
      "outputs": []
    },
    {
      "cell_type": "markdown",
      "source": [
        "its action on $|\\gamma \\rangle$ and $|\\eta \\rangle $ are"
      ],
      "metadata": {
        "id": "SsfwizcCnAJ3"
      }
    },
    {
      "cell_type": "code",
      "source": [
        "# projecting\n",
        "print(proj_gamma*gammaN_ket)\n",
        "print(proj_gamma*etaN_ket)"
      ],
      "metadata": {
        "colab": {
          "base_uri": "https://localhost:8080/"
        },
        "id": "mu7S1MGYnLPw",
        "outputId": "aa4b9779-a66a-4a7a-b1cb-824a9b98148f"
      },
      "execution_count": 9,
      "outputs": [
        {
          "output_type": "stream",
          "name": "stdout",
          "text": [
            "Quantum object: dims = [[3], [1]], shape = (3, 1), type = ket\n",
            "Qobj data =\n",
            "[[0.38100038+0.12700013j]\n",
            " [0.50800051+0.j        ]\n",
            " [0.        -0.76200076j]]\n",
            "Quantum object: dims = [[3], [1]], shape = (3, 1), type = ket\n",
            "Qobj data =\n",
            "[[-0.080521  +0.33103076j]\n",
            " [ 0.03578711+0.42944531j]\n",
            " [ 0.64416797-0.05368066j]]\n"
          ]
        }
      ]
    },
    {
      "cell_type": "markdown",
      "source": [
        "leaving the state $|\\gamma\\rangle$ invariant and projecting $|\\eta\\rangle$ in the $|\\gamma\\rangle$ direction."
      ],
      "metadata": {
        "id": "7RSl73KBnnZZ"
      }
    },
    {
      "cell_type": "markdown",
      "source": [
        "# Quantum states - kets! -- Homework\n",
        "## Problem (10 points).\n",
        "\n",
        "1. Review the code in this notebook and use it to guide yourself in the solution of the excersise.\n",
        "2. Consider the space of functions $f(x)$ made of all possible linear combinations of the functions $\\{1, \\sin(\\pi x), \\cos(\\pi x), \\sin(2 \\pi x), \\cos(2 \\pi x)\\}$.\n",
        "\n",
        "  a. Is this an orthonormal basis? If yes, show it, if not, construct and orthonormal basis (use code for your prove). (Remember the dot product defined in class for functions.) *Hint: Consider using the `quad()` method of the **scipy** phyton package for the evaluation of the needed integrals*\n",
        "  \n",
        "  b. Each element of the basis is represented by the kets $\\{|1\\rangle\\, |s1\\rangle\\, |c1\\rangle\\, |s2\\rangle\\,|c2\\rangle\\}$, where the identification is clear by the notation. Construct this basis as Qobj's.\n",
        "\n",
        "  c. Consider now the following three functions in this space of states:\n",
        "  - $f1 = \\frac{1}{\\sqrt{5}}(1,1,1,1,1)^{\\top}$\n",
        "  - $f2 = \\frac{1}{\\sqrt{3}}(1,1,1,0,0)^{\\top}$\n",
        "  - $f3 = \\frac{1}{\\sqrt{2}}(0,0,0,1,1)^{\\top}$\n",
        "\n",
        "  Build the kets $|f1\\rangle$, $|f2\\rangle$, and $|f3\\rangle$, and evaluate the inner prodcts $\\langle fi|fi\\rangle \\;  (i=1,2,3)$, and  $\\langle f1|f2\\rangle$, $\\langle f1|f3\\rangle$, and $\\langle f2|f3\\rangle$. Are these functions normalized? Are they orthogonal?\n",
        "\n",
        "\n",
        "\n",
        "2.   Build the projectors $|1\\rangle \\langle 1|$, $|s1\\rangle \\langle s1|$, and $|c2\\rangle \\langle c2|$. ¿What kind of mathematical object are they? (*Hint: Consider using the `Q.type` and `Q.data` instructions*)\n",
        "3.  Evaluate:\n",
        "  * $|1\\rangle \\langle 1| f2 \\rangle$\n",
        "  * $|s1\\rangle \\langle s1| f2 \\rangle$\n",
        "  * $|c2\\rangle \\langle c2| f2 \\rangle$\n",
        "\n",
        "  Explain your results.\n",
        "\n",
        "4. Evaluate $|s1\\rangle \\langle s1 |c2\\rangle \\langle c2| f2 \\rangle$. Explain your result.\n",
        "\n",
        "\n",
        "\n",
        "\n",
        "\n",
        "\n",
        "\n",
        "\n",
        "\n"
      ],
      "metadata": {
        "id": "oqYpPMfA2eLq"
      }
    }
  ]
}