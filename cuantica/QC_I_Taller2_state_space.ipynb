{
 "cells": [
  {
   "cell_type": "markdown",
   "metadata": {
    "id": "5vP2Nufej91Q"
   },
   "source": [
    "# Quantum states - kets!\n",
    "The goal of this simple notebook is to walk you through the basic use of QuTiP while you learn how to operate with quantum states.\n",
    "\n",
    "## Basics of QuTiP\n",
    "\n",
    "Documentation on the package as well as instructions on how to install it can be found at https://qutip.org/\n"
   ]
  },
  {
   "cell_type": "markdown",
   "metadata": {
    "id": "tOVgbuH7hVzd"
   },
   "source": [
    "## Quantum states\n",
    "### Basis\n",
    "To start, let us use one of the  examples that you work with in the excercises list 2. We consider a vector space $\\mathcal{V}$ with $\\dim \\mathcal{V} = 3$, and consider the orthonormal basis $\\{|a_{i}\\rangle\\}$, $i=1,2,3$.\n",
    "\n",
    "In **QuTiP** the basis elements can be easily define as unitary vectors or kets. For this we use the `qutip.Qobj` object class:"
   ]
  },
  {
   "cell_type": "markdown",
   "metadata": {
    "id": "iJNuhJviaQhT"
   },
   "source": [
    "###Preliminaries\n",
    "\n",
    "For the excercise in this notebook, besides **QuTiP**, we only need the **Numpy** package."
   ]
  },
  {
   "cell_type": "code",
   "execution_count": null,
   "metadata": {
    "id": "XPUqebJrgZl1"
   },
   "outputs": [],
   "source": [
    "import numpy as np"
   ]
  },
  {
   "cell_type": "markdown",
   "metadata": {
    "id": "siTJEPuNbVOF"
   },
   "source": [
    "I have prepared this notebook in **Colab**, therefore I must install the **QuTiP** everytime I start my notebook. If you have a local installation of the package the first lines of the code bellow can be commented.\n",
    "\n"
   ]
  },
  {
   "cell_type": "code",
   "execution_count": null,
   "metadata": {
    "colab": {
     "base_uri": "https://localhost:8080/",
     "height": 35
    },
    "id": "qVtCcKeigfjN",
    "outputId": "27db2582-1ca2-4e08-deca-8379790dafbb"
   },
   "outputs": [],
   "source": [
    "try:\n",
    "    import qutip\n",
    "except:\n",
    "    !pip install qutip\n",
    "    import qutip\n",
    "\n",
    "from qutip import *\n",
    "qutip.__version__"
   ]
  },
  {
   "cell_type": "code",
   "execution_count": null,
   "metadata": {
    "id": "MDJarHOUIC4W"
   },
   "outputs": [],
   "source": [
    "# Basis state\n",
    "a1 = Qobj([[1],[0],[0]])\n",
    "a2 = Qobj([[0],[1],[0]])\n",
    "a3 = Qobj([[0],[0],[1]])"
   ]
  },
  {
   "cell_type": "markdown",
   "metadata": {
    "id": "ZN-4TGUeNEFm"
   },
   "source": [
    "We can check that the basis elements are orthonormal. For this we use the inner product wich is implemented in **QuTiP** as `Q.overlap(state)`. Note that the innerproduct returns a complex number. Alternatively, the state norm is evaluated using `Q.norm()`, which returns the $L^2$ norm for states."
   ]
  },
  {
   "cell_type": "code",
   "execution_count": null,
   "metadata": {
    "colab": {
     "base_uri": "https://localhost:8080/"
    },
    "id": "Uxft1WtrNLS1",
    "outputId": "c1aa0c2c-2ecf-4172-8dae-2281a955e566"
   },
   "outputs": [],
   "source": [
    "# normalization\n",
    "print(a2.overlap(a2))\n",
    "print(a1.norm())\n",
    "# orthogonality\n",
    "print(a1.overlap(a2))\n",
    "print(a1.overlap(a3))\n",
    "print(a3.overlap(a2))"
   ]
  },
  {
   "cell_type": "markdown",
   "metadata": {
    "id": "2_4tAkGYMFrW"
   },
   "source": [
    "### Quantum states\n",
    "Let us now construct the following states:\n",
    "$$|\\gamma \\rangle = \\frac{1}{\\sqrt{2}}\\left((3+i) |a_1 \\rangle + 4 |a_2 \\rangle - 6j |a_3 \\rangle \\right) $$\n",
    "$$|\\eta \\rangle = \\frac{1}{\\sqrt{13}}\\left(2i |a_1 \\rangle + 3 |a_3 \\rangle \\right). $$"
   ]
  },
  {
   "cell_type": "code",
   "execution_count": null,
   "metadata": {
    "colab": {
     "base_uri": "https://localhost:8080/"
    },
    "id": "ESLsJUO-JzQO",
    "outputId": "a44fef93-ac74-40b0-9345-4f351ae74f72"
   },
   "outputs": [],
   "source": [
    "# quantum states\n",
    "gamma_ket = (1.0 / np.sqrt(2))*((3+1j)*a1 + 4*a2 - 6j*a3)\n",
    "eta_ket = (1.0 / np.sqrt(13))*(2j*a1 + 3*a3)\n",
    "print(gamma_ket)\n",
    "print(eta_ket)"
   ]
  },
  {
   "cell_type": "markdown",
   "metadata": {
    "id": "mPX0RiPsmhns"
   },
   "source": [
    "Note that the states so constructed are also of the class Qobj.\n",
    "\n",
    "Are the states normalized?"
   ]
  },
  {
   "cell_type": "code",
   "execution_count": null,
   "metadata": {
    "colab": {
     "base_uri": "https://localhost:8080/"
    },
    "id": "TWHqCiAgmtB5",
    "outputId": "701fc314-44f8-45de-e21f-5b36f1af36a1"
   },
   "outputs": [],
   "source": [
    "# checking the norm of the states\n",
    "print('norm of gamma=',gamma_ket.norm())\n",
    "print('norm of eta=',eta_ket.norm())"
   ]
  },
  {
   "cell_type": "markdown",
   "metadata": {
    "id": "7eKfxZZYf3jM"
   },
   "source": [
    "Clearly, $|\\eta\\rangle $ is normalized, but $|\\gamma\\rangle $ is not. We can normalize it using `Q.unit()`. Let us then construct the normalized states,"
   ]
  },
  {
   "cell_type": "code",
   "execution_count": null,
   "metadata": {
    "colab": {
     "base_uri": "https://localhost:8080/"
    },
    "id": "Um8LXgJsghox",
    "outputId": "0ade4cca-a9dc-44a8-cce0-d473cc2edb10"
   },
   "outputs": [],
   "source": [
    "# normalized states\n",
    "gammaN_ket = gamma_ket.unit()\n",
    "etaN_ket = eta_ket\n",
    "# checking normalization\n",
    "print('norm of gammaN=',gammaN_ket.norm())\n",
    "print('norm of etaN=',etaN_ket.norm())"
   ]
  },
  {
   "cell_type": "markdown",
   "metadata": {
    "id": "wsskUZxUg9ly"
   },
   "source": [
    "The adjoint states or *bras* can be obtained using `Q.dag()`"
   ]
  },
  {
   "cell_type": "code",
   "execution_count": null,
   "metadata": {
    "colab": {
     "base_uri": "https://localhost:8080/"
    },
    "id": "RsEmRurFg9NG",
    "outputId": "22eb4f5e-a9fe-4ab3-b5d9-ef021ad5f8ff"
   },
   "outputs": [],
   "source": [
    "# obtaining the 'bras'\n",
    "gamma_bra = gammaN_ket.dag()\n",
    "eta_bra = etaN_ket.dag()\n",
    "print('gamma_bra ---',gamma_bra)\n",
    "print('eta_bra ---',gamma_bra)"
   ]
  },
  {
   "cell_type": "markdown",
   "metadata": {
    "id": "nYVPJimfjbBG"
   },
   "source": [
    "One has to be carefully evaluating the 'bra-ket' or internal product directly, as in **QuTiP** the result is still an `Qobj` and not a complex number:"
   ]
  },
  {
   "cell_type": "code",
   "execution_count": null,
   "metadata": {
    "colab": {
     "base_uri": "https://localhost:8080/"
    },
    "id": "xMVRb0RViIpo",
    "outputId": "ba760738-fa71-4660-863e-20cb01814541"
   },
   "outputs": [],
   "source": [
    "# direct bra-ket (internal product) evaluation\n",
    "print('Qobj --- ',gamma_bra*etaN_ket)\n",
    "# dot product\n",
    "print('Complex number --- ',gamma_bra.overlap(etaN_ket))\n",
    "print('Complex number --- ',gammaN_ket.overlap(etaN_ket))\n",
    "print('Complex number --- ',eta_bra.overlap(gammaN_ket))"
   ]
  },
  {
   "cell_type": "markdown",
   "metadata": {
    "id": "OW6vIQpmkEtu"
   },
   "source": [
    "### Projectors\n",
    "\n",
    "To conclude, we can construct the projector along any given state using `Q.proj()\n",
    "`. Take for example $P_{|\\gamma\\rangle} = |\\gamma\\rangle \\langle\\gamma|$. It is obtain via"
   ]
  },
  {
   "cell_type": "code",
   "execution_count": null,
   "metadata": {
    "id": "UBY8b4wSl-D-"
   },
   "outputs": [],
   "source": [
    "# projector\n",
    "proj_gamma = gammaN_ket.proj()"
   ]
  },
  {
   "cell_type": "markdown",
   "metadata": {
    "id": "SsfwizcCnAJ3"
   },
   "source": [
    "its action on $|\\gamma \\rangle$ and $|\\eta \\rangle $ are"
   ]
  },
  {
   "cell_type": "code",
   "execution_count": null,
   "metadata": {
    "colab": {
     "base_uri": "https://localhost:8080/"
    },
    "id": "mu7S1MGYnLPw",
    "outputId": "aa4b9779-a66a-4a7a-b1cb-824a9b98148f"
   },
   "outputs": [],
   "source": [
    "# projecting\n",
    "print(proj_gamma*gammaN_ket)\n",
    "print(proj_gamma*etaN_ket)"
   ]
  },
  {
   "cell_type": "markdown",
   "metadata": {
    "id": "7RSl73KBnnZZ"
   },
   "source": [
    "leaving the state $|\\gamma\\rangle$ invariant and projecting $|\\eta\\rangle$ in the $|\\gamma\\rangle$ direction."
   ]
  },
  {
   "cell_type": "markdown",
   "metadata": {
    "id": "oqYpPMfA2eLq"
   },
   "source": [
    "# Quantum states - kets! -- Homework\n",
    "## Problem (10 points).\n",
    "\n",
    "1. Review the code in this notebook and use it to guide yourself in the solution of the excersise.\n",
    "2. Consider the space of functions $f(x)$ made of all possible linear combinations of the functions $\\{1, \\sin(\\pi x), \\cos(\\pi x), \\sin(2 \\pi x), \\cos(2 \\pi x)\\}$.\n",
    "\n",
    "  a. Is this an orthonormal basis? If yes, show it, if not, construct and orthonormal basis (use code for your prove). (Remember the dot product defined in class for functions.) *Hint: Consider using the `quad()` method of the **scipy** phyton package for the evaluation of the needed integrals*\n",
    "  \n",
    "  b. Each element of the basis is represented by the kets $\\{|1\\rangle\\, |s1\\rangle\\, |c1\\rangle\\, |s2\\rangle\\,|c2\\rangle\\}$, where the identification is clear by the notation. Construct this basis as Qobj's.\n",
    "\n",
    "  c. Consider now the following three functions in this space of states:\n",
    "  - $f1 = \\frac{1}{\\sqrt{5}}(1,1,1,1,1)^{\\top}$\n",
    "  - $f2 = \\frac{1}{\\sqrt{3}}(1,1,1,0,0)^{\\top}$\n",
    "  - $f3 = \\frac{1}{\\sqrt{2}}(0,0,0,1,1)^{\\top}$\n",
    "\n",
    "  Build the kets $|f1\\rangle$, $|f2\\rangle$, and $|f3\\rangle$, and evaluate the inner prodcts $\\langle fi|fi\\rangle \\;  (i=1,2,3)$, and  $\\langle f1|f2\\rangle$, $\\langle f1|f3\\rangle$, and $\\langle f2|f3\\rangle$. Are these functions normalized? Are they orthogonal?\n",
    "\n",
    "\n",
    "\n",
    "2.   Build the projectors $|1\\rangle \\langle 1|$, $|s1\\rangle \\langle s1|$, and $|c2\\rangle \\langle c2|$. ¿What kind of mathematical object are they? (*Hint: Consider using the `Q.type` and `Q.data` instructions*)\n",
    "3.  Evaluate:\n",
    "  * $|1\\rangle \\langle 1| f2 \\rangle$\n",
    "  * $|s1\\rangle \\langle s1| f2 \\rangle$\n",
    "  * $|c2\\rangle \\langle c2| f2 \\rangle$\n",
    "\n",
    "  Explain your results.\n",
    "\n",
    "4. Evaluate $|s1\\rangle \\langle s1 |c2\\rangle \\langle c2| f2 \\rangle$. Explain your result.\n",
    "\n",
    "\n",
    "\n",
    "\n",
    "\n",
    "\n",
    "\n",
    "\n",
    "\n"
   ]
  }
 ],
 "metadata": {
  "colab": {
   "collapsed_sections": [
    "gQeoW-EAtuGj",
    "riV0ee0Juggy"
   ],
   "provenance": []
  },
  "kernelspec": {
   "display_name": "Python 3",
   "name": "python3"
  },
  "language_info": {
   "name": "python"
  }
 },
 "nbformat": 4,
 "nbformat_minor": 0
}
