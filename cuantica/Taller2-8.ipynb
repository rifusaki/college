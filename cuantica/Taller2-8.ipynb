{
 "cells": [
  {
   "cell_type": "markdown",
   "metadata": {},
   "source": [
    "Importemos cosas:"
   ]
  },
  {
   "cell_type": "code",
   "execution_count": 1,
   "metadata": {},
   "outputs": [],
   "source": [
    "import numpy as np\n",
    "from qutip import *\n",
    "from itertools import combinations\n",
    "from scipy.integrate import quad"
   ]
  },
  {
   "cell_type": "markdown",
   "metadata": {},
   "source": [
    "### 1."
   ]
  },
  {
   "cell_type": "markdown",
   "metadata": {},
   "source": [
    "#### 1a.\n",
    "Veamos si la base es ortonormal:"
   ]
  },
  {
   "cell_type": "code",
   "execution_count": 6,
   "metadata": {},
   "outputs": [
    {
     "name": "stdout",
     "output_type": "stream",
     "text": [
      "El conjunto es ortogonal\n",
      "\n",
      "La integral de |f1(x)|^2 en [-1, 1] = 2.0\n",
      "La integral de |f2(x)|^2 en [-1, 1] = 1.0\n",
      "La integral de |f3(x)|^2 en [-1, 1] = 1.0\n",
      "La integral de |f4(x)|^2 en [-1, 1] = 1.0\n",
      "La integral de |f5(x)|^2 en [-1, 1] = 1.0\n"
     ]
    }
   ],
   "source": [
    "#   Definr las funciones\n",
    "fn = [\n",
    "    lambda x: 1,\n",
    "    lambda x: np.sin(np.pi*x),\n",
    "    lambda x: np.cos(np.pi*x),\n",
    "    lambda x: np.sin(2*np.pi*x),\n",
    "    lambda x: np.cos(2*np.pi*x)\n",
    "]\n",
    "\n",
    "(a,b) = -1,1\n",
    "\n",
    "#   Calcular producto interno\n",
    "for i, j in combinations(fn, 2):\n",
    "    inner_p = quad(lambda x: i(x)*j(x),-1,1)[0]\n",
    "    if np.isclose(inner_p,0):\n",
    "        flag = 1\n",
    "        continue\n",
    "    else:\n",
    "        flag = 0\n",
    "        pass\n",
    "    break\n",
    "\n",
    "if flag==0: print('El conjunto no es ortogonal\\n')\n",
    "else:   print('El conjunto es ortogonal\\n')\n",
    "\n",
    "#   Calcular la magnitud\n",
    "for i,f in enumerate(fn):\n",
    "    print(f'La integral de |f{i+1}(x)|^2 en [{a}, {b}] = {quad(lambda x: f(x)**2,-1,1)[0]:.1f}')\n"
   ]
  },
  {
   "cell_type": "markdown",
   "metadata": {},
   "source": [
    "Para normalizar $f1(x)$ es suficiente multiplicar por su factor de normalización $\\frac{1}{\\sqrt{2}}$."
   ]
  },
  {
   "cell_type": "code",
   "execution_count": 10,
   "metadata": {},
   "outputs": [
    {
     "name": "stdout",
     "output_type": "stream",
     "text": [
      "La integral de |f1(x)|^2 en [-1, 1] = 1.0\n",
      "La integral de |f2(x)|^2 en [-1, 1] = 1.0\n",
      "La integral de |f3(x)|^2 en [-1, 1] = 1.0\n",
      "La integral de |f4(x)|^2 en [-1, 1] = 1.0\n",
      "La integral de |f5(x)|^2 en [-1, 1] = 1.0\n"
     ]
    }
   ],
   "source": [
    "#   Definir nueva f1(x)\n",
    "fn[0] = lambda x: 1/np.sqrt(2)\n",
    "\n",
    "#   Calcular la magnitud, otra vez\n",
    "for i,f in enumerate(fn):\n",
    "    print(f'La integral de |f{i+1}(x)|^2 en [{a}, {b}] = {quad(lambda x: f(x)**2,-1,1)[0]:.1f}')"
   ]
  },
  {
   "cell_type": "markdown",
   "metadata": {},
   "source": [
    "#### 1b,1c.\n",
    "Construyamos la base y kets:"
   ]
  },
  {
   "cell_type": "code",
   "execution_count": 15,
   "metadata": {},
   "outputs": [],
   "source": [
    "#   Construir base\n",
    "o1 = Qobj([[1],[0],[0],[0],[0]])\n",
    "s1 = Qobj([[0],[1],[0],[0],[0]])\n",
    "c1 = Qobj([[0],[0],[1],[0],[0]])\n",
    "s2 = Qobj([[0],[0],[0],[1],[0]])\n",
    "c2 = Qobj([[0],[0],[0],[0],[1]])\n",
    "\n",
    "# Construir kets\n",
    "fk = [\n",
    "    (1/np.sqrt(5))*(o1+s1+c1+s2+c2),\n",
    "    (1/np.sqrt(3))*(o1 + s1 + c1),\n",
    "    (1/np.sqrt(2))*(s2+c2)\n",
    "]\n",
    "\n",
    "# Construir bras\n",
    "fb = [f.dag() for f in fk]"
   ]
  },
  {
   "cell_type": "markdown",
   "metadata": {},
   "source": [
    "Evaluemos $\\langle fi|fi\\rangle \\;  (i=1,2,3)$; y $\\langle f1|f2\\rangle$, $\\langle f1|f3\\rangle$ y $\\langle f2|f3\\rangle$:"
   ]
  },
  {
   "cell_type": "code",
   "execution_count": 28,
   "metadata": {},
   "outputs": [
    {
     "name": "stdout",
     "output_type": "stream",
     "text": [
      "<f1|f1> = (0.9999999999999999+0j)\n",
      "<f2|f2> = (1+0j)\n",
      "<f3|f3> = (0.9999999999999999+0j)\n",
      "\n",
      "<f1|f2> = (0.7745966692414834+0j)\n",
      "<f1|f3> = (0.6324555320336758+0j)\n",
      "<f2|f3> = 0j\n"
     ]
    }
   ],
   "source": [
    "#   Normalización\n",
    "for i,f in enumerate(fb):    print(f'<f{i+1}|f{i+1}> = {np.sqrt(f.overlap(fk[i]))}')\n",
    "\n",
    "#   Ortogonalidad\n",
    "print(f'\\n<f{1}|f{2}> = {fb[0].overlap(fk[1])}')\n",
    "print(f'<f{1}|f{3}> = {fb[0].overlap(fk[2])}')\n",
    "print(f'<f{2}|f{3}> = {fb[1].overlap(fk[2])}')"
   ]
  },
  {
   "cell_type": "markdown",
   "metadata": {},
   "source": [
    "Las funciones se encuentran normalizadas, pero únicamente $f2$ y $f3$ son ortogonales."
   ]
  },
  {
   "cell_type": "markdown",
   "metadata": {},
   "source": [
    "### 2.\n",
    "Construyamos los proyectores:"
   ]
  },
  {
   "cell_type": "code",
   "execution_count": 30,
   "metadata": {},
   "outputs": [
    {
     "name": "stdout",
     "output_type": "stream",
     "text": [
      "Tipo: oper\n"
     ]
    }
   ],
   "source": [
    "#   Proyectores a partir de kets\n",
    "proj = [o1.proj(),s1.proj(),c2.proj()]\n",
    "print(f'Tipo: {proj[0].type}')"
   ]
  },
  {
   "cell_type": "markdown",
   "metadata": {},
   "source": [
    "Estos objetos son operadores."
   ]
  },
  {
   "cell_type": "markdown",
   "metadata": {},
   "source": [
    "### 3.\n",
    "Evaluemos $|1\\rangle \\langle 1| f2 \\rangle$, $|s1\\rangle \\langle s1| f2 \\rangle$ y $|c2\\rangle \\langle c2| f2 \\rangle$:"
   ]
  },
  {
   "cell_type": "code",
   "execution_count": 39,
   "metadata": {},
   "outputs": [
    {
     "name": "stdout",
     "output_type": "stream",
     "text": [
      "|1><1|f2>:\n",
      "Quantum object: dims = [[5], [1]], shape = (5, 1), type = ket\n",
      "Qobj data =\n",
      "[[0.57735027]\n",
      " [0.        ]\n",
      " [0.        ]\n",
      " [0.        ]\n",
      " [0.        ]]\n",
      "\n",
      "|s1><s1|f2>:\n",
      "Quantum object: dims = [[5], [1]], shape = (5, 1), type = ket\n",
      "Qobj data =\n",
      "[[0.        ]\n",
      " [0.57735027]\n",
      " [0.        ]\n",
      " [0.        ]\n",
      " [0.        ]]\n",
      "\n",
      "|c2><c2|f2>:\n",
      "Quantum object: dims = [[5], [1]], shape = (5, 1), type = ket\n",
      "Qobj data =\n",
      "[[0.]\n",
      " [0.]\n",
      " [0.]\n",
      " [0.]\n",
      " [0.]]\n",
      "\n"
     ]
    }
   ],
   "source": [
    "labels = ('1','s1','c2')\n",
    "for p,l in zip(proj,labels):  print(f'|{l}><{l}|f2>:\\n{(p*fk[1])}\\n')"
   ]
  },
  {
   "cell_type": "markdown",
   "metadata": {},
   "source": [
    "Todos los resultados son nuevos kets. El resultado de $|c2\\rangle \\langle c2| f2 \\rangle$ es $0$ pues $| f2 \\rangle$ no tiene componentes proyectables sobre $|c2\\rangle \\langle c2|$."
   ]
  },
  {
   "cell_type": "markdown",
   "metadata": {},
   "source": [
    "### 4.\n",
    "Tenemos que\n",
    "\n",
    "$|s1\\rangle \\langle s1 |c2\\rangle \\langle c2| f2 \\rangle$\n",
    "\n",
    "Entonces\n",
    "\n",
    "$\\left ( |s1\\rangle \\langle s1 |c2\\rangle \\langle c2|\\right )| f2 \\rangle$\n",
    "\n",
    "Y evaluando:"
   ]
  },
  {
   "cell_type": "code",
   "execution_count": 41,
   "metadata": {},
   "outputs": [
    {
     "name": "stdout",
     "output_type": "stream",
     "text": [
      "|s1><s1|c2><c2|:\n",
      "Quantum object: dims = [[5], [5]], shape = (5, 5), type = oper, isherm = True\n",
      "Qobj data =\n",
      "[[0. 0. 0. 0. 0.]\n",
      " [0. 0. 0. 0. 0.]\n",
      " [0. 0. 0. 0. 0.]\n",
      " [0. 0. 0. 0. 0.]\n",
      " [0. 0. 0. 0. 0.]]\n",
      "\n"
     ]
    }
   ],
   "source": [
    "print(f'|s1><s1|c2><c2|:\\n{(proj[1]*proj[2])}\\n')"
   ]
  },
  {
   "cell_type": "markdown",
   "metadata": {},
   "source": [
    "Dado que este operador nuevo es $0$, aplicarlo sobre $|f2\\rangle$ resultaría en el estado nulo."
   ]
  }
 ],
 "metadata": {
  "kernelspec": {
   "display_name": "college",
   "language": "python",
   "name": "python3"
  },
  "language_info": {
   "codemirror_mode": {
    "name": "ipython",
    "version": 3
   },
   "file_extension": ".py",
   "mimetype": "text/x-python",
   "name": "python",
   "nbconvert_exporter": "python",
   "pygments_lexer": "ipython3",
   "version": "3.8.16"
  },
  "orig_nbformat": 4
 },
 "nbformat": 4,
 "nbformat_minor": 2
}
