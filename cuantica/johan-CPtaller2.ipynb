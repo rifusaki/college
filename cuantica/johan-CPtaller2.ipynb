{
 "cells": [
  {
   "cell_type": "code",
   "execution_count": null,
   "metadata": {
    "id": "SQLY7c9L2bDt"
   },
   "outputs": [],
   "source": [
    "import numpy as np\n",
    "from scipy.integrate import quad"
   ]
  },
  {
   "cell_type": "code",
   "execution_count": null,
   "metadata": {
    "colab": {
     "base_uri": "https://localhost:8080/",
     "height": 174
    },
    "id": "iMsuvXpW2hGY",
    "outputId": "cd862bd2-2109-455a-b947-0ddf629c3238"
   },
   "outputs": [],
   "source": [
    "try:\n",
    "    import qutip\n",
    "except:\n",
    "    !pip install qutip\n",
    "    import qutip\n",
    "\n",
    "from qutip import *\n",
    "qutip.__version__"
   ]
  },
  {
   "cell_type": "code",
   "execution_count": null,
   "metadata": {
    "colab": {
     "base_uri": "https://localhost:8080/"
    },
    "id": "1y77ORNvKmDA",
    "outputId": "3ad14501-00a9-4a08-f892-0c429ff881ec"
   },
   "outputs": [],
   "source": [
    "#Tomamos, por simplicidad el intervalo [-1,1]\n",
    "a = -1\n",
    "b = 1\n",
    "\n",
    "def f1(x):\n",
    "    return 1\n",
    "\n",
    "def f2(x):\n",
    "    return np.sin(np.pi * x)\n",
    "\n",
    "def f3(x):\n",
    "    return np.cos(np.pi * x)\n",
    "\n",
    "def f4(x):\n",
    "    return np.sin(2 * np.pi * x)\n",
    "\n",
    "def f5(x):\n",
    "    return np.cos(2 * np.pi * x)\n",
    "\n",
    "functions = [f1, f2, f3, f4, f5]\n",
    "\n",
    "inner_products = np.zeros((len(functions), len(functions)))\n",
    "\n",
    "# Utilizando el metodo quad() se calculan los productos punto:\n",
    "for i in range(len(functions)):\n",
    "    for j in range(len(functions)):\n",
    "        inner_products[i, j], _ = quad(lambda x: functions[i](x) * functions[j](x), a, b)\n",
    "\n",
    "are_orthogonal = True\n",
    "\n",
    "for i in range(len(functions)):\n",
    "    for j in range(len(functions)):\n",
    "        if i != j and not np.isclose(inner_products[i, j], 0):\n",
    "            are_orthogonal = False\n",
    "            break\n",
    "\n",
    "\n",
    "if are_orthogonal:\n",
    "    print(\"El conjunto de funciones es ortogonal\")\n",
    "else:\n",
    "    print(\"El conjunto de funciones no es ortogonal\")\n"
   ]
  },
  {
   "cell_type": "markdown",
   "metadata": {
    "id": "V90QUIblPKF_"
   },
   "source": [
    "Verificamos cuales funciones hay que normalizar:"
   ]
  },
  {
   "cell_type": "code",
   "execution_count": null,
   "metadata": {
    "colab": {
     "base_uri": "https://localhost:8080/"
    },
    "id": "nWM_DiobPHKf",
    "outputId": "d1da996a-8cba-4fb1-a53b-002e96bf752e"
   },
   "outputs": [],
   "source": [
    "for i, func in enumerate(functions):\n",
    "    integral_result, _ = quad(lambda x: func(x)**2, a, b)\n",
    "    print(f\"The integral of |f{i+1}(x)|^2 over [{a}, {b}] is {integral_result:.2f}\")\n"
   ]
  },
  {
   "cell_type": "markdown",
   "metadata": {
    "id": "qfzZT6T-3ZAZ"
   },
   "source": [
    "Es suficiente con multiplicar f1 por el factor de normalizaciòn \"1/(\\sqrt(2))\" para obtener:"
   ]
  },
  {
   "cell_type": "code",
   "execution_count": null,
   "metadata": {
    "colab": {
     "base_uri": "https://localhost:8080/"
    },
    "id": "M-iB-kQWS84b",
    "outputId": "dca378db-cee5-47a5-8d7b-a0bb37bcc75f"
   },
   "outputs": [],
   "source": [
    "def f1N(x):\n",
    "  return 1/(np.sqrt(2))\n",
    "functions[0]=f1N\n",
    "for i, func in enumerate(functions):\n",
    "    integral_result, _ = quad(lambda x: func(x)**2, a, b)\n",
    "    print(f\"The integral of |f{i+1}(x)|^2 over [{a}, {b}] is {integral_result:.2f}\")\n"
   ]
  },
  {
   "cell_type": "markdown",
   "metadata": {
    "id": "eGDUYUwx4WQ8"
   },
   "source": [
    "La base ahora esta ortonormalizada."
   ]
  },
  {
   "cell_type": "code",
   "execution_count": null,
   "metadata": {
    "id": "hLVyk1w14aIW"
   },
   "outputs": [],
   "source": [
    "# Basis state\n",
    "o = Qobj([[1],[0],[0],[0],[0]])\n",
    "s1 = Qobj([[0],[1],[0],[0],[0]])\n",
    "c1 = Qobj([[0],[0],[1],[0],[0]])\n",
    "s2 = Qobj([[0],[0],[0],[1],[0]])\n",
    "c2 = Qobj([[0],[0],[0],[0],[1]])"
   ]
  },
  {
   "cell_type": "code",
   "execution_count": null,
   "metadata": {
    "id": "jzPv5ORi6hoK"
   },
   "outputs": [],
   "source": [
    "f1_ket = (1/np.sqrt(5))*(o+s1+c1+s2+c2)\n",
    "f2_ket = (1/np.sqrt(3))*(o + s1 + c1)\n",
    "f3_ket = (1/np.sqrt(2))*(s2+c2)"
   ]
  },
  {
   "cell_type": "code",
   "execution_count": null,
   "metadata": {
    "colab": {
     "base_uri": "https://localhost:8080/"
    },
    "id": "I67a4Iar83ka",
    "outputId": "f8ecb570-485e-48bf-90d4-ad7a2e5d12b6"
   },
   "outputs": [],
   "source": [
    "print(\"norma de f1=\",f1_ket.norm())\n",
    "print(\"norma de f2=\",f2_ket.norm())\n",
    "print(\"norma de f3=\",f3_ket.norm())"
   ]
  },
  {
   "cell_type": "code",
   "execution_count": null,
   "metadata": {
    "colab": {
     "base_uri": "https://localhost:8080/"
    },
    "id": "lA-MIr-SArrK",
    "outputId": "033d12b9-0a7d-484f-d84f-e20e50f38cf7"
   },
   "outputs": [],
   "source": [
    "f1_bra = f1_ket.dag()\n",
    "f2_bra = f2_ket.dag()\n",
    "f3_bra = f3_ket.dag()\n",
    "print('Norm f1:',np.sqrt(f1_bra.overlap(f1_ket)))\n",
    "print('Norm f2: ',np.sqrt(f2_bra.overlap(f2_ket)))\n",
    "print('Norm f3: ',np.sqrt(f3_bra.overlap(f3_ket)))\n",
    "\n",
    "print('f1lf2=',f1_bra.overlap(f2_ket))\n",
    "print('f1lf3=',f1_bra.overlap(f3_ket))\n",
    "print('f2lf3= ',f2_bra.overlap(f3_ket))\n"
   ]
  },
  {
   "cell_type": "markdown",
   "metadata": {
    "id": "z61cyO6IPKD4"
   },
   "source": [
    "Aunque las funciones estan normalizadas (Se puede verificar analiticamente), los valores de las normas de f1 y f3 son muy cercanos a 1, pero no 1 debido a que las operaciones se realizan numericamente y aunque el resultado es bastante aproximado al real, no llega a ser 1. Por otro lado, unicamente f2 y f3 son ortogonales."
   ]
  },
  {
   "cell_type": "code",
   "execution_count": null,
   "metadata": {
    "colab": {
     "base_uri": "https://localhost:8080/"
    },
    "id": "PDiGdp6TFMP9",
    "outputId": "1c7cb3d5-d6c2-44b3-dd21-a6f754152a68"
   },
   "outputs": [],
   "source": [
    "proj_o = o.proj()\n",
    "proj_s1 = s1.proj()\n",
    "proj_c2 = c2.proj()\n",
    "print(proj_o)\n",
    "print(proj_s1)\n",
    "print(proj_c2)"
   ]
  },
  {
   "cell_type": "markdown",
   "metadata": {
    "id": "RNNfU_H4GZ3I"
   },
   "source": [
    "Estos objetos construidos son operadores."
   ]
  },
  {
   "cell_type": "code",
   "execution_count": null,
   "metadata": {
    "colab": {
     "base_uri": "https://localhost:8080/"
    },
    "id": "bh5cpdxdFMRz",
    "outputId": "6635b986-d024-48e0-98f9-1ec6f7c262cf"
   },
   "outputs": [],
   "source": [
    "print(proj_o*f2_ket)\n",
    "print(proj_s1*f2_ket)\n",
    "print(proj_c2*f2_ket)"
   ]
  },
  {
   "cell_type": "markdown",
   "metadata": {
    "id": "noihXVsEH3Rr"
   },
   "source": [
    "El resultado obtenido son un nuevo estado \"ket\". En el caso de aplicar el proyector proj_c2 sobre f2_ket es 0, debido a que el estado f2_ket no tiene componentes que se puedan proyectar en el subespacio definido por proj_c2"
   ]
  },
  {
   "cell_type": "code",
   "execution_count": null,
   "metadata": {
    "colab": {
     "base_uri": "https://localhost:8080/"
    },
    "id": "lmkYQ7ChI0jT",
    "outputId": "8e750dc2-cb91-4346-c219-6c99c55e362f"
   },
   "outputs": [],
   "source": [
    "print(proj_s1*proj_c2)"
   ]
  },
  {
   "cell_type": "markdown",
   "metadata": {
    "id": "mWeMB5swJSda"
   },
   "source": [
    "Notemos que este nuevo operador es 0, asi que su acciòn sobre el estado f2_ket dara como resultado el estado nulo. Esto se debe a que los proyectores de los estados de la base generan el estado nulo"
   ]
  }
 ],
 "metadata": {
  "colab": {
   "provenance": []
  },
  "kernelspec": {
   "display_name": "Python 3",
   "name": "python3"
  },
  "language_info": {
   "name": "python"
  }
 },
 "nbformat": 4,
 "nbformat_minor": 0
}
