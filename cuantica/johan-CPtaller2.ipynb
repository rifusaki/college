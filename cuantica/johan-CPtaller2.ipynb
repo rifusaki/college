{
  "nbformat": 4,
  "nbformat_minor": 0,
  "metadata": {
    "colab": {
      "provenance": []
    },
    "kernelspec": {
      "name": "python3",
      "display_name": "Python 3"
    },
    "language_info": {
      "name": "python"
    }
  },
  "cells": [
    {
      "cell_type": "code",
      "execution_count": 2,
      "metadata": {
        "id": "SQLY7c9L2bDt"
      },
      "outputs": [],
      "source": [
        "import numpy as np\n",
        "from scipy.integrate import quad"
      ]
    },
    {
      "cell_type": "code",
      "source": [
        "try:\n",
        "    import qutip\n",
        "except:\n",
        "    !pip install qutip\n",
        "    import qutip\n",
        "\n",
        "from qutip import *\n",
        "qutip.__version__"
      ],
      "metadata": {
        "colab": {
          "base_uri": "https://localhost:8080/",
          "height": 174
        },
        "id": "iMsuvXpW2hGY",
        "outputId": "cd862bd2-2109-455a-b947-0ddf629c3238"
      },
      "execution_count": 3,
      "outputs": [
        {
          "output_type": "stream",
          "name": "stdout",
          "text": [
            "Collecting qutip\n",
            "  Downloading qutip-4.7.3-cp310-cp310-manylinux_2_17_x86_64.manylinux2014_x86_64.whl (16.3 MB)\n",
            "\u001b[2K     \u001b[90m━━━━━━━━━━━━━━━━━━━━━━━━━━━━━━━━━━━━━━━━\u001b[0m \u001b[32m16.3/16.3 MB\u001b[0m \u001b[31m64.1 MB/s\u001b[0m eta \u001b[36m0:00:00\u001b[0m\n",
            "\u001b[?25hRequirement already satisfied: numpy>=1.16.6 in /usr/local/lib/python3.10/dist-packages (from qutip) (1.23.5)\n",
            "Requirement already satisfied: scipy>=1.0 in /usr/local/lib/python3.10/dist-packages (from qutip) (1.10.1)\n",
            "Requirement already satisfied: packaging in /usr/local/lib/python3.10/dist-packages (from qutip) (23.1)\n",
            "Installing collected packages: qutip\n",
            "Successfully installed qutip-4.7.3\n"
          ]
        },
        {
          "output_type": "execute_result",
          "data": {
            "text/plain": [
              "'4.7.3'"
            ],
            "application/vnd.google.colaboratory.intrinsic+json": {
              "type": "string"
            }
          },
          "metadata": {},
          "execution_count": 3
        }
      ]
    },
    {
      "cell_type": "code",
      "source": [
        "#Tomamos, por simplicidad el intervalo [-1,1]\n",
        "a = -1\n",
        "b = 1\n",
        "\n",
        "def f1(x):\n",
        "    return 1\n",
        "\n",
        "def f2(x):\n",
        "    return np.sin(np.pi * x)\n",
        "\n",
        "def f3(x):\n",
        "    return np.cos(np.pi * x)\n",
        "\n",
        "def f4(x):\n",
        "    return np.sin(2 * np.pi * x)\n",
        "\n",
        "def f5(x):\n",
        "    return np.cos(2 * np.pi * x)\n",
        "\n",
        "functions = [f1, f2, f3, f4, f5]\n",
        "\n",
        "inner_products = np.zeros((len(functions), len(functions)))\n",
        "\n",
        "# Utilizando el metodo quad() se calculan los productos punto:\n",
        "for i in range(len(functions)):\n",
        "    for j in range(len(functions)):\n",
        "        inner_products[i, j], _ = quad(lambda x: functions[i](x) * functions[j](x), a, b)\n",
        "\n",
        "are_orthogonal = True\n",
        "\n",
        "for i in range(len(functions)):\n",
        "    for j in range(len(functions)):\n",
        "        if i != j and not np.isclose(inner_products[i, j], 0):\n",
        "            are_orthogonal = False\n",
        "            break\n",
        "\n",
        "\n",
        "if are_orthogonal:\n",
        "    print(\"El conjunto de funciones es ortogonal\")\n",
        "else:\n",
        "    print(\"El conjunto de funciones no es ortogonal\")\n"
      ],
      "metadata": {
        "colab": {
          "base_uri": "https://localhost:8080/"
        },
        "id": "1y77ORNvKmDA",
        "outputId": "3ad14501-00a9-4a08-f892-0c429ff881ec"
      },
      "execution_count": 10,
      "outputs": [
        {
          "output_type": "stream",
          "name": "stdout",
          "text": [
            "El conjunto de funciones es ortogonal\n"
          ]
        }
      ]
    },
    {
      "cell_type": "markdown",
      "source": [
        "Verificamos cuales funciones hay que normalizar:"
      ],
      "metadata": {
        "id": "V90QUIblPKF_"
      }
    },
    {
      "cell_type": "code",
      "source": [
        "for i, func in enumerate(functions):\n",
        "    integral_result, _ = quad(lambda x: func(x)**2, a, b)\n",
        "    print(f\"The integral of |f{i+1}(x)|^2 over [{a}, {b}] is {integral_result:.2f}\")\n"
      ],
      "metadata": {
        "colab": {
          "base_uri": "https://localhost:8080/"
        },
        "id": "nWM_DiobPHKf",
        "outputId": "d1da996a-8cba-4fb1-a53b-002e96bf752e"
      },
      "execution_count": 9,
      "outputs": [
        {
          "output_type": "stream",
          "name": "stdout",
          "text": [
            "The integral of |f1(x)|^2 over [-1, 1] is 2.00\n",
            "The integral of |f2(x)|^2 over [-1, 1] is 1.00\n",
            "The integral of |f3(x)|^2 over [-1, 1] is 1.00\n",
            "The integral of |f4(x)|^2 over [-1, 1] is 1.00\n",
            "The integral of |f5(x)|^2 over [-1, 1] is 1.00\n"
          ]
        }
      ]
    },
    {
      "cell_type": "markdown",
      "source": [
        "Es suficiente con multiplicar f1 por el factor de normalizaciòn \"1/(\\sqrt(2))\" para obtener:"
      ],
      "metadata": {
        "id": "qfzZT6T-3ZAZ"
      }
    },
    {
      "cell_type": "code",
      "source": [
        "def f1N(x):\n",
        "  return 1/(np.sqrt(2))\n",
        "functions[0]=f1N\n",
        "for i, func in enumerate(functions):\n",
        "    integral_result, _ = quad(lambda x: func(x)**2, a, b)\n",
        "    print(f\"The integral of |f{i+1}(x)|^2 over [{a}, {b}] is {integral_result:.2f}\")\n"
      ],
      "metadata": {
        "colab": {
          "base_uri": "https://localhost:8080/"
        },
        "id": "M-iB-kQWS84b",
        "outputId": "dca378db-cee5-47a5-8d7b-a0bb37bcc75f"
      },
      "execution_count": 11,
      "outputs": [
        {
          "output_type": "stream",
          "name": "stdout",
          "text": [
            "The integral of |f1(x)|^2 over [-1, 1] is 1.00\n",
            "The integral of |f2(x)|^2 over [-1, 1] is 1.00\n",
            "The integral of |f3(x)|^2 over [-1, 1] is 1.00\n",
            "The integral of |f4(x)|^2 over [-1, 1] is 1.00\n",
            "The integral of |f5(x)|^2 over [-1, 1] is 1.00\n"
          ]
        }
      ]
    },
    {
      "cell_type": "markdown",
      "source": [
        "La base ahora esta ortonormalizada."
      ],
      "metadata": {
        "id": "eGDUYUwx4WQ8"
      }
    },
    {
      "cell_type": "code",
      "source": [
        "# Basis state\n",
        "o = Qobj([[1],[0],[0],[0],[0]])\n",
        "s1 = Qobj([[0],[1],[0],[0],[0]])\n",
        "c1 = Qobj([[0],[0],[1],[0],[0]])\n",
        "s2 = Qobj([[0],[0],[0],[1],[0]])\n",
        "c2 = Qobj([[0],[0],[0],[0],[1]])"
      ],
      "metadata": {
        "id": "hLVyk1w14aIW"
      },
      "execution_count": 17,
      "outputs": []
    },
    {
      "cell_type": "code",
      "source": [
        "f1_ket = (1/np.sqrt(5))*(o+s1+c1+s2+c2)\n",
        "f2_ket = (1/np.sqrt(3))*(o + s1 + c1)\n",
        "f3_ket = (1/np.sqrt(2))*(s2+c2)"
      ],
      "metadata": {
        "id": "jzPv5ORi6hoK"
      },
      "execution_count": 23,
      "outputs": []
    },
    {
      "cell_type": "code",
      "source": [
        "print(\"norma de f1=\",f1_ket.norm())\n",
        "print(\"norma de f2=\",f2_ket.norm())\n",
        "print(\"norma de f3=\",f3_ket.norm())"
      ],
      "metadata": {
        "colab": {
          "base_uri": "https://localhost:8080/"
        },
        "id": "I67a4Iar83ka",
        "outputId": "f8ecb570-485e-48bf-90d4-ad7a2e5d12b6"
      },
      "execution_count": 25,
      "outputs": [
        {
          "output_type": "stream",
          "name": "stdout",
          "text": [
            "norma de f1= 1.0\n",
            "norma de f2= 1.0000000000000002\n",
            "norma de f3= 0.9999999999999999\n"
          ]
        }
      ]
    },
    {
      "cell_type": "code",
      "source": [
        "f1_bra = f1_ket.dag()\n",
        "f2_bra = f2_ket.dag()\n",
        "f3_bra = f3_ket.dag()\n",
        "print('Norm f1:',np.sqrt(f1_bra.overlap(f1_ket)))\n",
        "print('Norm f2: ',np.sqrt(f2_bra.overlap(f2_ket)))\n",
        "print('Norm f3: ',np.sqrt(f3_bra.overlap(f3_ket)))\n",
        "\n",
        "print('f1lf2=',f1_bra.overlap(f2_ket))\n",
        "print('f1lf3=',f1_bra.overlap(f3_ket))\n",
        "print('f2lf3= ',f2_bra.overlap(f3_ket))\n"
      ],
      "metadata": {
        "colab": {
          "base_uri": "https://localhost:8080/"
        },
        "id": "lA-MIr-SArrK",
        "outputId": "033d12b9-0a7d-484f-d84f-e20e50f38cf7"
      },
      "execution_count": 30,
      "outputs": [
        {
          "output_type": "stream",
          "name": "stdout",
          "text": [
            "Norm f1: (0.9999999999999999+0j)\n",
            "Norm f2:  (1+0j)\n",
            "Norm f3:  (0.9999999999999999+0j)\n",
            "f1lf2= (0.7745966692414834+0j)\n",
            "f1lf3= (0.6324555320336758+0j)\n",
            "f2lf3=  0j\n"
          ]
        }
      ]
    },
    {
      "cell_type": "markdown",
      "source": [
        "Aunque las funciones estan normalizadas (Se puede verificar analiticamente), los valores de las normas de f1 y f3 son muy cercanos a 1, pero no 1 debido a que las operaciones se realizan numericamente y aunque el resultado es bastante aproximado al real, no llega a ser 1. Por otro lado, unicamente f2 y f3 son ortogonales."
      ],
      "metadata": {
        "id": "z61cyO6IPKD4"
      }
    },
    {
      "cell_type": "code",
      "source": [
        "proj_o = o.proj()\n",
        "proj_s1 = s1.proj()\n",
        "proj_c2 = c2.proj()\n",
        "print(proj_o)\n",
        "print(proj_s1)\n",
        "print(proj_c2)"
      ],
      "metadata": {
        "colab": {
          "base_uri": "https://localhost:8080/"
        },
        "id": "PDiGdp6TFMP9",
        "outputId": "1c7cb3d5-d6c2-44b3-dd21-a6f754152a68"
      },
      "execution_count": 32,
      "outputs": [
        {
          "output_type": "stream",
          "name": "stdout",
          "text": [
            "Quantum object: dims = [[5], [5]], shape = (5, 5), type = oper, isherm = True\n",
            "Qobj data =\n",
            "[[1. 0. 0. 0. 0.]\n",
            " [0. 0. 0. 0. 0.]\n",
            " [0. 0. 0. 0. 0.]\n",
            " [0. 0. 0. 0. 0.]\n",
            " [0. 0. 0. 0. 0.]]\n",
            "Quantum object: dims = [[5], [5]], shape = (5, 5), type = oper, isherm = True\n",
            "Qobj data =\n",
            "[[0. 0. 0. 0. 0.]\n",
            " [0. 1. 0. 0. 0.]\n",
            " [0. 0. 0. 0. 0.]\n",
            " [0. 0. 0. 0. 0.]\n",
            " [0. 0. 0. 0. 0.]]\n",
            "Quantum object: dims = [[5], [5]], shape = (5, 5), type = oper, isherm = True\n",
            "Qobj data =\n",
            "[[0. 0. 0. 0. 0.]\n",
            " [0. 0. 0. 0. 0.]\n",
            " [0. 0. 0. 0. 0.]\n",
            " [0. 0. 0. 0. 0.]\n",
            " [0. 0. 0. 0. 1.]]\n"
          ]
        }
      ]
    },
    {
      "cell_type": "markdown",
      "source": [
        "Estos objetos construidos son operadores."
      ],
      "metadata": {
        "id": "RNNfU_H4GZ3I"
      }
    },
    {
      "cell_type": "code",
      "source": [
        "print(proj_o*f2_ket)\n",
        "print(proj_s1*f2_ket)\n",
        "print(proj_c2*f2_ket)"
      ],
      "metadata": {
        "colab": {
          "base_uri": "https://localhost:8080/"
        },
        "id": "bh5cpdxdFMRz",
        "outputId": "6635b986-d024-48e0-98f9-1ec6f7c262cf"
      },
      "execution_count": 36,
      "outputs": [
        {
          "output_type": "stream",
          "name": "stdout",
          "text": [
            "Quantum object: dims = [[5], [1]], shape = (5, 1), type = ket\n",
            "Qobj data =\n",
            "[[0.57735027]\n",
            " [0.        ]\n",
            " [0.        ]\n",
            " [0.        ]\n",
            " [0.        ]]\n",
            "Quantum object: dims = [[5], [1]], shape = (5, 1), type = ket\n",
            "Qobj data =\n",
            "[[0.        ]\n",
            " [0.57735027]\n",
            " [0.        ]\n",
            " [0.        ]\n",
            " [0.        ]]\n",
            "Quantum object: dims = [[5], [1]], shape = (5, 1), type = ket\n",
            "Qobj data =\n",
            "[[0.]\n",
            " [0.]\n",
            " [0.]\n",
            " [0.]\n",
            " [0.]]\n"
          ]
        }
      ]
    },
    {
      "cell_type": "markdown",
      "source": [
        "El resultado obtenido son un nuevo estado \"ket\". En el caso de aplicar el proyector proj_c2 sobre f2_ket es 0, debido a que el estado f2_ket no tiene componentes que se puedan proyectar en el subespacio definido por proj_c2"
      ],
      "metadata": {
        "id": "noihXVsEH3Rr"
      }
    },
    {
      "cell_type": "code",
      "source": [
        "print(proj_s1*proj_c2)"
      ],
      "metadata": {
        "colab": {
          "base_uri": "https://localhost:8080/"
        },
        "id": "lmkYQ7ChI0jT",
        "outputId": "8e750dc2-cb91-4346-c219-6c99c55e362f"
      },
      "execution_count": 38,
      "outputs": [
        {
          "output_type": "stream",
          "name": "stdout",
          "text": [
            "Quantum object: dims = [[5], [5]], shape = (5, 5), type = oper, isherm = True\n",
            "Qobj data =\n",
            "[[0. 0. 0. 0. 0.]\n",
            " [0. 0. 0. 0. 0.]\n",
            " [0. 0. 0. 0. 0.]\n",
            " [0. 0. 0. 0. 0.]\n",
            " [0. 0. 0. 0. 0.]]\n"
          ]
        }
      ]
    },
    {
      "cell_type": "markdown",
      "source": [
        "Notemos que este nuevo operador es 0, asi que su acciòn sobre el estado f2_ket dara como resultado el estado nulo. Esto se debe a que los proyectores de los estados de la base generan el estado nulo"
      ],
      "metadata": {
        "id": "mWeMB5swJSda"
      }
    }
  ]
}